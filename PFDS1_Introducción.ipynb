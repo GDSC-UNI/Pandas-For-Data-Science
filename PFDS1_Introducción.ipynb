{
  "cells": [
    {
      "cell_type": "code",
      "execution_count": null,
      "metadata": {
        "cellView": "form",
        "id": "BFxA2h96eI0_"
      },
      "outputs": [],
      "source": [
        "# MIT License\n",
        "\n",
        "# Copyright (c) 2021 GDSC UNI\n",
        "\n",
        "# Permission is hereby granted, free of charge, to any person obtaining a copy\n",
        "# of this software and associated documentation files (the \"Software\"), to deal\n",
        "# in the Software without restriction, including without limitation the rights\n",
        "# to use, copy, modify, merge, publish, distribute, sublicense, and/or sell\n",
        "# copies of the Software, and to permit persons to whom the Software is\n",
        "# furnished to do so, subject to the following conditions:\n",
        "\n",
        "# The above copyright notice and this permission notice shall be included in all\n",
        "# copies or substantial portions of the Software.\n",
        "\n",
        "# THE SOFTWARE IS PROVIDED \"AS IS\", WITHOUT WARRANTY OF ANY KIND, EXPRESS OR\n",
        "# IMPLIED, INCLUDING BUT NOT LIMITED TO THE WARRANTIES OF MERCHANTABILITY,\n",
        "# FITNESS FOR A PARTICULAR PURPOSE AND NONINFRINGEMENT. IN NO EVENT SHALL THE\n",
        "# AUTHORS OR COPYRIGHT HOLDERS BE LIABLE FOR ANY CLAIM, DAMAGES OR OTHER\n",
        "# LIABILITY, WHETHER IN AN ACTION OF CONTRACT, TORT OR OTHERWISE, ARISING FROM,\n",
        "# OUT OF OR IN CONNECTION WITH THE SOFTWARE OR THE USE OR OTHER DEALINGS IN THE\n",
        "# SOFTWARE."
      ]
    },
    {
      "cell_type": "markdown",
      "metadata": {
        "cell_id": "00000-8151bd57-28dd-468e-a450-651b4400b440",
        "deepnote_cell_type": "markdown",
        "id": "SrnfwLMTN2nu"
      },
      "source": [
        "<table align=\"center\">\n",
        "  <td align=\"center\"><a target=\"_blank\" href=\"https://gdsc.community.dev/universidad-nacional-de-ingenieria/\">\n",
        "        <img src=\"https://i.ibb.co/pX2w52P/GDSC.png\" style=\"padding-bottom:5px;\" />\n",
        "      View GDSC UNI</a></td>\n",
        "\n",
        "  <td align=\"center\"><a target=\"_blank\" href=\"https://colab.research.google.com/drive/1Iec3geBmgbZzLdZccCOL0ZlbtS4MGvGh?usp=sharing\">\n",
        "        <img src=\"https://i.ibb.co/Bf0HK0q/Colaboratory.png\"  style=\"padding-bottom:5px;\" />Run in Google Colab </a></td>\n",
        "\n",
        "\n",
        "  <td align=\"center\"><a target=\"_blank\" href=\"https://github.com/GDSC-UNI/Pandas-For-Data-Science/PFDS1_Introducción.ipynb\">\n",
        "        <img src=\"https://i.ibb.co/VHHdRx2/Github.png\"  height=\"110px\" style=\"padding-bottom:5px;\"/>View source on GitHub</a></td>\n",
        "</table>"
      ]
    },
    {
      "cell_type": "markdown",
      "metadata": {
        "id": "dA-i6NbFN2nz"
      },
      "source": [
        "<p> </p>"
      ]
    },
    {
      "cell_type": "markdown",
      "metadata": {
        "cell_id": "00004-b598f1fd-b2e6-441a-be51-cb8f5cd3ce34",
        "deepnote_cell_type": "markdown",
        "id": "NykFaBdcN2n0",
        "tags": []
      },
      "source": []
    },
    {
      "cell_type": "markdown",
      "metadata": {},
      "source": [
        "<h1 style=\"font-size:42px; text-align:center; margin-bottom:30px;\"><span style=\"color:#000080\">PFDS1:</span> Introducción a Pandas</h1>\n",
        "<hr>"
      ]
    },
    {
      "cell_type": "markdown",
      "metadata": {
        "cell_id": "00007-14a82ef7-61a5-4ba3-8294-186afaeb4bbd",
        "deepnote_cell_type": "markdown",
        "id": "wgh7LqZXN2n0"
      },
      "source": [
        "## Pandas\n",
        "\n",
        "Pandas es una librería de python el cual nos provee de estructuras de datos de alto nivel y funciones que nos permiten realizar nuestro trabajo con datos estructurados o tabulares más rápido, fácil y expresivo. Esta librería combina las ideas de computación de matrices de alto rendimiento de NumPy con las capacidades flexibles de manipulación de datos de las hojas de cálculo y las bases de datos relacionales (como SQL), proporcionando una funcionalidad de indexación sofisticada para facilitar la remodelación, el corte, la realización de agregaciones y la selección de subconjuntos de datos como veremos a lo largo de los notebooks de Pandas para Data Science.\n",
        "\n",
        "A continuación, veremos los objetos principales en pandas.\n"
      ]
    },
    {
      "cell_type": "markdown",
      "metadata": {
        "cell_id": "00009-ec48e11b-26f5-4a55-a7d6-a31a474f65f8",
        "deepnote_cell_type": "markdown",
        "id": "SYvm0ZoNN2n1"
      },
      "source": [
        "## Series \n",
        "\n",
        "Un Serie es una estructura unidimensional que contiene un array de datos y un array de etiquetas asociados a los datos. No es necesario que las etiquetas sean únicas, la única condición es que deben ser de tipo hashable (Strings, integers, floating-point or boolean). La sintaxis de este objeto es la siguiente.\n",
        "\n",
        "\n",
        "<code> pandas.Series(data=None, index=None, dtype=None, name=None, copy=False, fastpath=False)</code>\n",
        "\n",
        "El valor que le podemos agregar al parámetro data puede ser un array, iterable, diccionario o un valor escalar. si creamos este objeto solo especificando el parámetro data (el cual puede ser un array, iterable, diccionario o un valor escalar), los índices de la serie serán los índices del array, en el caso del diccionario serán las llaves."
      ]
    },
    {
      "cell_type": "code",
      "execution_count": null,
      "metadata": {
        "cell_id": "00008-5a02c203-b1f2-49cf-9cc6-fb7315df6314",
        "deepnote_cell_type": "code",
        "id": "toSWZLdUN2n1"
      },
      "outputs": [],
      "source": [
        "import pandas as pd"
      ]
    },
    {
      "cell_type": "code",
      "execution_count": null,
      "metadata": {
        "cell_id": "00010-1164d746-004c-429f-b0a2-7a8e716d8274",
        "deepnote_cell_type": "code",
        "id": "ok_EbPGON2n3",
        "outputId": "0e521faf-ead2-4c06-b42f-5b5c1c84327b"
      },
      "outputs": [
        {
          "data": {
            "text/plain": [
              "0    17\n",
              "1    25\n",
              "2    65\n",
              "3    70\n",
              "4    89\n",
              "dtype: int64"
            ]
          },
          "execution_count": 2,
          "metadata": {},
          "output_type": "execute_result"
        }
      ],
      "source": [
        "series= pd.Series([17, 25, 65, 70, 89])\n",
        "series"
      ]
    },
    {
      "cell_type": "markdown",
      "metadata": {
        "cell_id": "00011-4a4698df-b191-4fab-a05d-fc79fa161b49",
        "deepnote_cell_type": "markdown",
        "id": "bf899wK7N2n4"
      },
      "source": [
        "Para obtener los valores de la serie, sus índices y la dimensión, utilizamos los atributos *values*, *index* y *shape* . Además al igual que con los arrays, se puede acceder a un elemento de la serie a través de un índice o conjunto de índices."
      ]
    },
    {
      "cell_type": "code",
      "execution_count": null,
      "metadata": {
        "cell_id": "00012-b9440632-91e9-4ffe-9add-cd4932bed18b",
        "deepnote_cell_type": "code",
        "id": "pRZQIKqQN2n5",
        "outputId": "182481cb-4abd-482b-f491-363b485e5661"
      },
      "outputs": [
        {
          "data": {
            "text/plain": [
              "array([17, 25, 65, 70, 89], dtype=int64)"
            ]
          },
          "execution_count": 3,
          "metadata": {},
          "output_type": "execute_result"
        }
      ],
      "source": [
        "series.values"
      ]
    },
    {
      "cell_type": "code",
      "execution_count": null,
      "metadata": {
        "cell_id": "00013-dca8cb6f-07c6-4ba5-a5ab-7b02fd781496",
        "deepnote_cell_type": "code",
        "id": "hn0hp_bpN2n6",
        "outputId": "9af41174-2d28-47d2-9116-1dba4bcaac06"
      },
      "outputs": [
        {
          "data": {
            "text/plain": [
              "RangeIndex(start=0, stop=5, step=1)"
            ]
          },
          "execution_count": 4,
          "metadata": {},
          "output_type": "execute_result"
        }
      ],
      "source": [
        "series.index"
      ]
    },
    {
      "cell_type": "code",
      "execution_count": null,
      "metadata": {
        "cell_id": "00014-fcb45d56-54fc-449b-b958-748d6daa3d6b",
        "deepnote_cell_type": "code",
        "id": "KlNiVxHRN2n7",
        "outputId": "6307af97-a6e7-4278-9ee5-e2d555038011"
      },
      "outputs": [
        {
          "data": {
            "text/plain": [
              "(5,)"
            ]
          },
          "execution_count": 5,
          "metadata": {},
          "output_type": "execute_result"
        }
      ],
      "source": [
        "series.shape"
      ]
    },
    {
      "cell_type": "code",
      "execution_count": null,
      "metadata": {
        "cell_id": "00015-6ef6c47e-f324-4dbc-bf74-381038c0e7b8",
        "deepnote_cell_type": "code",
        "id": "jQPMorO_N2n7",
        "outputId": "629fec93-ae0e-4779-c625-bb34dd75ad5c"
      },
      "outputs": [
        {
          "data": {
            "text/plain": [
              "89"
            ]
          },
          "execution_count": 6,
          "metadata": {},
          "output_type": "execute_result"
        }
      ],
      "source": [
        "series[4]"
      ]
    },
    {
      "cell_type": "code",
      "execution_count": null,
      "metadata": {
        "cell_id": "00016-592b45d9-09f5-4e41-8526-11fdd999f86e",
        "deepnote_cell_type": "code",
        "id": "agqo0NonN2n8",
        "outputId": "bf65be36-b570-4cea-ad2a-053a75ffa88d"
      },
      "outputs": [
        {
          "data": {
            "text/plain": [
              "0    17\n",
              "4    89\n",
              "2    65\n",
              "dtype: int64"
            ]
          },
          "execution_count": 7,
          "metadata": {},
          "output_type": "execute_result"
        }
      ],
      "source": [
        "series[[0,4,2]]"
      ]
    },
    {
      "cell_type": "markdown",
      "metadata": {
        "cell_id": "00017-a41c07ec-b8fa-400e-81ae-d3ee4abe5003",
        "deepnote_cell_type": "markdown",
        "id": "nsJoISBjN2n8"
      },
      "source": [
        "Lo más probable al momento de generar este objeto es que queramos colocarle un índíce a cada elemento, imaginemos que como parámetro data tenemos las edades de una persona y como índices queremos los nombres de esas personas, la creación de la serie para este caso se muestra a continuación. "
      ]
    },
    {
      "cell_type": "code",
      "execution_count": null,
      "metadata": {
        "cell_id": "00018-0df51023-fd2f-4336-bf19-d9ccc550ef71",
        "deepnote_cell_type": "code",
        "id": "xTaDwGFmN2n8",
        "outputId": "ff69a1ab-48e9-4c01-f61d-67ca1e791366"
      },
      "outputs": [
        {
          "data": {
            "text/plain": [
              "Hernando    17\n",
              "Fernando    25\n",
              "Juan        65\n",
              "Alberto     70\n",
              "Renato      89\n",
              "dtype: int64"
            ]
          },
          "execution_count": 8,
          "metadata": {},
          "output_type": "execute_result"
        }
      ],
      "source": [
        "series = pd.Series([17, 25, 65, 70, 89], index=['Hernando', 'Fernando', 'Juan', 'Alberto', 'Renato'])\n",
        "series"
      ]
    },
    {
      "cell_type": "code",
      "execution_count": null,
      "metadata": {
        "cell_id": "00019-9d032c84-6359-41e8-aad4-45f20b1f7463",
        "deepnote_cell_type": "code",
        "id": "o_PP78gHN2n9",
        "outputId": "db4e6c17-5df5-4abd-b0b7-609d816a90e6"
      },
      "outputs": [
        {
          "data": {
            "text/plain": [
              "Fernando    25\n",
              "Juan        65\n",
              "Alberto     70\n",
              "dtype: int64"
            ]
          },
          "execution_count": 9,
          "metadata": {},
          "output_type": "execute_result"
        }
      ],
      "source": [
        "series['Fernando': 'Alberto']"
      ]
    },
    {
      "cell_type": "code",
      "execution_count": null,
      "metadata": {
        "cell_id": "00020-46329e65-70c7-4981-8914-fe42b5795879",
        "deepnote_cell_type": "code",
        "id": "vIEY-vShN2n9",
        "outputId": "c76a2994-10c5-4fda-c4bb-9da9221e2ab8"
      },
      "outputs": [
        {
          "data": {
            "text/plain": [
              "Fernando    25\n",
              "Alberto     70\n",
              "dtype: int64"
            ]
          },
          "execution_count": 10,
          "metadata": {},
          "output_type": "execute_result"
        }
      ],
      "source": [
        "series[['Fernando', 'Alberto']]"
      ]
    },
    {
      "cell_type": "markdown",
      "metadata": {
        "cell_id": "00021-343850c4-62ee-4d99-b6e1-fd0ae611ca93",
        "deepnote_cell_type": "markdown",
        "id": "5vdQGbL7N2n9"
      },
      "source": [
        "La forma más sencilla y la más utilizada de generar series con índices adecuados, es utilizar diccionarios en el parámetro data, como se mencionó anteriormente, este parámetro al recibir un diccionario, utiliza las llaves como índices de la serie."
      ]
    },
    {
      "cell_type": "code",
      "execution_count": null,
      "metadata": {
        "cell_id": "00022-c0293bc6-c96f-49de-97c4-dbd76f676387",
        "deepnote_cell_type": "code",
        "id": "7rv3jIi5N2n-",
        "outputId": "fbe7a80d-ac07-47e9-97a4-f40d1ed87627"
      },
      "outputs": [
        {
          "data": {
            "text/plain": [
              "{'Hernado': 17, 'Fernando': 25, 'Juan': 65, 'Alberto': 70, 'Renato': 89}"
            ]
          },
          "execution_count": 11,
          "metadata": {},
          "output_type": "execute_result"
        }
      ],
      "source": [
        "dict = { 'Hernado' : 17,\n",
        "         'Fernando' : 25,\n",
        "         'Juan' : 65,\n",
        "         'Alberto' : 70,\n",
        "         'Renato': 89}\n",
        "        \n",
        "dict"
      ]
    },
    {
      "cell_type": "code",
      "execution_count": null,
      "metadata": {
        "cell_id": "00023-62918fd3-e198-425e-98b8-88f22eace34d",
        "deepnote_cell_type": "code",
        "id": "skg43XuqN2n-",
        "outputId": "28fbb395-b2c2-4d73-bffc-3402dd6cb20f"
      },
      "outputs": [
        {
          "data": {
            "text/plain": [
              "Hernado     17\n",
              "Fernando    25\n",
              "Juan        65\n",
              "Alberto     70\n",
              "Renato      89\n",
              "dtype: int64"
            ]
          },
          "execution_count": 12,
          "metadata": {},
          "output_type": "execute_result"
        }
      ],
      "source": [
        "pd.Series(dict)"
      ]
    },
    {
      "cell_type": "markdown",
      "metadata": {
        "cell_id": "00024-e32ce703-d3a6-4bfe-a9db-561b13674e1e",
        "deepnote_cell_type": "markdown",
        "id": "nxgxc1uGN2n-"
      },
      "source": [
        "Hay que tomar en consideración que si al momento de crear la serie le agregamos etiquetas que no están incluidos en el diccionario, el valor que se le asigna un valor nulo (nan)"
      ]
    },
    {
      "cell_type": "code",
      "execution_count": null,
      "metadata": {
        "cell_id": "00025-b5c4af27-8cb0-4fa9-aa1d-a1476b981e81",
        "deepnote_cell_type": "code",
        "id": "_3LwWuAwN2n-",
        "outputId": "6d6a50ff-c240-47e6-c473-f40d30ccb031"
      },
      "outputs": [
        {
          "data": {
            "text/plain": [
              "Renato      89.0\n",
              "Lorenzo      NaN\n",
              "Fernando    25.0\n",
              "dtype: float64"
            ]
          },
          "execution_count": 13,
          "metadata": {},
          "output_type": "execute_result"
        }
      ],
      "source": [
        "series = pd.Series(dict, index=['Renato', 'Lorenzo', 'Fernando'])\n",
        "series"
      ]
    },
    {
      "cell_type": "markdown",
      "metadata": {
        "id": "Sl1ldn_2N2n_"
      },
      "source": [
        "Al  ingresar un array como parámetro data, debemos especificar si queremos copiarlo o no a través del parámetro copy. si colocamos el valor de este parámetro como verdadero, copiamos los valores de entrada al momento de realizar la creación de nuestro objeto, con esto, cualquier modificación que hagamos dentro del array sólo modificara al array de entrada o a la serie pero no a ambos.\n"
      ]
    },
    {
      "cell_type": "code",
      "execution_count": null,
      "metadata": {
        "id": "gsikNWbkN2n_"
      },
      "outputs": [],
      "source": [
        "import numpy as np"
      ]
    },
    {
      "cell_type": "code",
      "execution_count": null,
      "metadata": {
        "id": "U-uXtjy7N2n_",
        "outputId": "fe3fe7a7-5c4e-4dea-a492-bd9d748bfdfd"
      },
      "outputs": [
        {
          "name": "stdout",
          "output_type": "stream",
          "text": [
            "----------Serie----------\n",
            "0    258\n",
            "1     25\n",
            "2     65\n",
            "dtype: int32\n",
            "----------Array----------\n",
            "[258  25  65]\n"
          ]
        }
      ],
      "source": [
        "age = np.array([17,25,65])\n",
        "serie = pd.Series(age, copy=False)\n",
        "serie[0] = 258\n",
        "print('-'*10 + 'Serie' + '-'*10)\n",
        "print(serie)\n",
        "print('-'*10 +  'Array' + '-'*10)\n",
        "print(age)"
      ]
    },
    {
      "cell_type": "code",
      "execution_count": null,
      "metadata": {
        "id": "au2rDuhjN2n_",
        "outputId": "f425d2cb-5723-4113-e994-c74f31e9a465"
      },
      "outputs": [
        {
          "name": "stdout",
          "output_type": "stream",
          "text": [
            "----------Serie----------\n",
            "0    258\n",
            "1     25\n",
            "2     65\n",
            "dtype: int32\n",
            "----------Array----------\n",
            "[17 25 65]\n"
          ]
        }
      ],
      "source": [
        "age = np.array([17,25,65])\n",
        "serie = pd.Series(age, copy=True)\n",
        "serie[0] = 258\n",
        "print('-'*10 + 'Serie' + '-'*10)\n",
        "print(serie)\n",
        "print('-'*10 +  'Array' + '-'*10)\n",
        "print(age)"
      ]
    },
    {
      "cell_type": "markdown",
      "metadata": {
        "id": "-ttnE-vlN2oA"
      },
      "source": [
        "## DataFrame\n",
        "\n",
        "\n",
        "Un DataFrame es una estructura tabular compuesta por filas y columnas, conocidos como ejes, el eje 0 representa a las filas y el eje 1 a las columnas. Esta estructura es muy parecida la representación de los datos en Excel y relacionando con el objeto visto previamente (Series), un DataFrame puede ser considerado como un contenedor para los objetos de las series que son el objeto primario de las estructuras de pandas. La sintaxis es la siguiente \n",
        "\n",
        "<code>pandas.DataFrame(data=None, index=None, columns=None, dtype=None, copy=None)</code>\n",
        "\n",
        "A continuación, se muestran algunos ejemplos de la creación de DataFrames.\n"
      ]
    },
    {
      "cell_type": "code",
      "execution_count": null,
      "metadata": {
        "cell_id": "00029-db96baf7-3c62-42d1-8dfb-291be59925c9",
        "deepnote_cell_type": "code",
        "id": "OcCwMYnGN2oA",
        "outputId": "e6afb9e8-969f-4eb6-dc63-21844e460a7c"
      },
      "outputs": [
        {
          "data": {
            "text/html": [
              "<div>\n",
              "<style scoped>\n",
              "    .dataframe tbody tr th:only-of-type {\n",
              "        vertical-align: middle;\n",
              "    }\n",
              "\n",
              "    .dataframe tbody tr th {\n",
              "        vertical-align: top;\n",
              "    }\n",
              "\n",
              "    .dataframe thead th {\n",
              "        text-align: right;\n",
              "    }\n",
              "</style>\n",
              "<table border=\"1\" class=\"dataframe\">\n",
              "  <thead>\n",
              "    <tr style=\"text-align: right;\">\n",
              "      <th></th>\n",
              "      <th>Hernado</th>\n",
              "      <th>Fernando</th>\n",
              "      <th>Juan</th>\n",
              "      <th>Alberto</th>\n",
              "      <th>Renato</th>\n",
              "    </tr>\n",
              "  </thead>\n",
              "  <tbody>\n",
              "    <tr>\n",
              "      <th>0</th>\n",
              "      <td>17</td>\n",
              "      <td>18</td>\n",
              "      <td>16</td>\n",
              "      <td>17</td>\n",
              "      <td>19</td>\n",
              "    </tr>\n",
              "    <tr>\n",
              "      <th>1</th>\n",
              "      <td>18</td>\n",
              "      <td>16</td>\n",
              "      <td>17</td>\n",
              "      <td>15</td>\n",
              "      <td>14</td>\n",
              "    </tr>\n",
              "    <tr>\n",
              "      <th>2</th>\n",
              "      <td>19</td>\n",
              "      <td>17</td>\n",
              "      <td>17</td>\n",
              "      <td>19</td>\n",
              "      <td>20</td>\n",
              "    </tr>\n",
              "    <tr>\n",
              "      <th>3</th>\n",
              "      <td>12</td>\n",
              "      <td>14</td>\n",
              "      <td>13</td>\n",
              "      <td>13</td>\n",
              "      <td>13</td>\n",
              "    </tr>\n",
              "    <tr>\n",
              "      <th>4</th>\n",
              "      <td>17</td>\n",
              "      <td>18</td>\n",
              "      <td>17</td>\n",
              "      <td>19</td>\n",
              "      <td>20</td>\n",
              "    </tr>\n",
              "  </tbody>\n",
              "</table>\n",
              "</div>"
            ],
            "text/plain": [
              "   Hernado  Fernando  Juan  Alberto  Renato\n",
              "0       17        18    16       17      19\n",
              "1       18        16    17       15      14\n",
              "2       19        17    17       19      20\n",
              "3       12        14    13       13      13\n",
              "4       17        18    17       19      20"
            ]
          },
          "execution_count": 16,
          "metadata": {},
          "output_type": "execute_result"
        }
      ],
      "source": [
        "dict = { 'Hernado' : [17, 18, 19, 12, 17],\n",
        "         'Fernando' : [18, 16, 17, 14, 18],\n",
        "         'Juan' : [16, 17, 17, 13, 17],\n",
        "         'Alberto' : [17, 15, 19, 13, 19],\n",
        "         'Renato': [19, 14, 20, 13, 20]}\n",
        "\n",
        "df = pd.DataFrame(dict)\n",
        "df"
      ]
    },
    {
      "cell_type": "code",
      "execution_count": null,
      "metadata": {
        "cell_id": "00030-25dd86bc-e65e-46be-9a45-11e7d30ae1a5",
        "deepnote_cell_type": "code",
        "id": "P7Wlf-s0N2oA",
        "outputId": "10fdeab5-c68d-4307-f12a-f0a26c4e211b"
      },
      "outputs": [
        {
          "data": {
            "text/html": [
              "<div>\n",
              "<style scoped>\n",
              "    .dataframe tbody tr th:only-of-type {\n",
              "        vertical-align: middle;\n",
              "    }\n",
              "\n",
              "    .dataframe tbody tr th {\n",
              "        vertical-align: top;\n",
              "    }\n",
              "\n",
              "    .dataframe thead th {\n",
              "        text-align: right;\n",
              "    }\n",
              "</style>\n",
              "<table border=\"1\" class=\"dataframe\">\n",
              "  <thead>\n",
              "    <tr style=\"text-align: right;\">\n",
              "      <th></th>\n",
              "      <th>Hernado</th>\n",
              "      <th>Fernando</th>\n",
              "      <th>Juan</th>\n",
              "      <th>Alberto</th>\n",
              "      <th>Renato</th>\n",
              "    </tr>\n",
              "  </thead>\n",
              "  <tbody>\n",
              "    <tr>\n",
              "      <th>PC1</th>\n",
              "      <td>17</td>\n",
              "      <td>18</td>\n",
              "      <td>16</td>\n",
              "      <td>17</td>\n",
              "      <td>19</td>\n",
              "    </tr>\n",
              "    <tr>\n",
              "      <th>PC2</th>\n",
              "      <td>18</td>\n",
              "      <td>16</td>\n",
              "      <td>17</td>\n",
              "      <td>15</td>\n",
              "      <td>14</td>\n",
              "    </tr>\n",
              "    <tr>\n",
              "      <th>PC3</th>\n",
              "      <td>19</td>\n",
              "      <td>17</td>\n",
              "      <td>17</td>\n",
              "      <td>19</td>\n",
              "      <td>20</td>\n",
              "    </tr>\n",
              "    <tr>\n",
              "      <th>PC4</th>\n",
              "      <td>12</td>\n",
              "      <td>14</td>\n",
              "      <td>13</td>\n",
              "      <td>13</td>\n",
              "      <td>13</td>\n",
              "    </tr>\n",
              "    <tr>\n",
              "      <th>PC5</th>\n",
              "      <td>17</td>\n",
              "      <td>18</td>\n",
              "      <td>17</td>\n",
              "      <td>19</td>\n",
              "      <td>20</td>\n",
              "    </tr>\n",
              "  </tbody>\n",
              "</table>\n",
              "</div>"
            ],
            "text/plain": [
              "     Hernado  Fernando  Juan  Alberto  Renato\n",
              "PC1       17        18    16       17      19\n",
              "PC2       18        16    17       15      14\n",
              "PC3       19        17    17       19      20\n",
              "PC4       12        14    13       13      13\n",
              "PC5       17        18    17       19      20"
            ]
          },
          "execution_count": 17,
          "metadata": {},
          "output_type": "execute_result"
        }
      ],
      "source": [
        "df = pd.DataFrame(dict, index=['PC1', 'PC2', 'PC3', 'PC4', 'PC5'])\n",
        "df"
      ]
    },
    {
      "cell_type": "markdown",
      "metadata": {
        "cell_id": "00031-86030ba1-7edf-4d77-94b2-3366725ef8c2",
        "deepnote_cell_type": "markdown",
        "id": "XbH7hSEfN2oA"
      },
      "source": [
        "Al igual que con las Series, existen atributos que permiten obtener ciertos valores del DataFrame como las etiquetas de las columnas, filas, índices, etc."
      ]
    },
    {
      "cell_type": "code",
      "execution_count": null,
      "metadata": {
        "cell_id": "00032-9371bef1-61fd-4949-abe3-4468ba1f0a53",
        "deepnote_cell_type": "code",
        "id": "MDJox6JvN2oA",
        "outputId": "8e1bbb32-b94a-4516-86fe-a19cd96aa023"
      },
      "outputs": [
        {
          "data": {
            "text/plain": [
              "Index(['PC1', 'PC2', 'PC3', 'PC4', 'PC5'], dtype='object')"
            ]
          },
          "execution_count": 18,
          "metadata": {},
          "output_type": "execute_result"
        }
      ],
      "source": [
        "df.index"
      ]
    },
    {
      "cell_type": "code",
      "execution_count": null,
      "metadata": {
        "cell_id": "00033-c0c1c493-f66e-4692-aec7-ab315e873274",
        "deepnote_cell_type": "code",
        "id": "PiwiYJLGN2oB",
        "outputId": "3f3c49b8-5590-4d43-9273-9526165cb634"
      },
      "outputs": [
        {
          "data": {
            "text/plain": [
              "Index(['Hernado', 'Fernando', 'Juan', 'Alberto', 'Renato'], dtype='object')"
            ]
          },
          "execution_count": 19,
          "metadata": {},
          "output_type": "execute_result"
        }
      ],
      "source": [
        "df.columns"
      ]
    },
    {
      "cell_type": "code",
      "execution_count": null,
      "metadata": {
        "cell_id": "00034-5a2e20a0-e05a-436e-a184-389d34aa5278",
        "deepnote_cell_type": "code",
        "id": "vQcEMHs8N2oB",
        "outputId": "1404cfbd-92c4-48b9-9976-c064d2857d52"
      },
      "outputs": [
        {
          "data": {
            "text/plain": [
              "array([[17, 18, 16, 17, 19],\n",
              "       [18, 16, 17, 15, 14],\n",
              "       [19, 17, 17, 19, 20],\n",
              "       [12, 14, 13, 13, 13],\n",
              "       [17, 18, 17, 19, 20]], dtype=int64)"
            ]
          },
          "execution_count": 20,
          "metadata": {},
          "output_type": "execute_result"
        }
      ],
      "source": [
        "df.values"
      ]
    },
    {
      "cell_type": "markdown",
      "metadata": {
        "id": "BPPD3AJLN2oB"
      },
      "source": [
        "Podemos acceder al valor de una columna utilizando la etiqueta de esta."
      ]
    },
    {
      "cell_type": "code",
      "execution_count": null,
      "metadata": {
        "cell_id": "00035-a1cf847e-1d3e-4694-8edf-57dd5531f75d",
        "deepnote_cell_type": "code",
        "id": "WXwOVfvgN2oB",
        "outputId": "144faa11-00f6-4d29-e565-813d2e56cd5a"
      },
      "outputs": [
        {
          "data": {
            "text/plain": [
              "PC1    18\n",
              "PC2    16\n",
              "PC3    17\n",
              "PC4    14\n",
              "PC5    18\n",
              "Name: Fernando, dtype: int64"
            ]
          },
          "execution_count": 21,
          "metadata": {},
          "output_type": "execute_result"
        }
      ],
      "source": [
        "df['Fernando']"
      ]
    },
    {
      "cell_type": "code",
      "execution_count": null,
      "metadata": {
        "cell_id": "00036-2ee03350-61fe-402a-9570-33d6dac00e8e",
        "deepnote_cell_type": "code",
        "id": "f25BYRd6N2oB",
        "outputId": "7225cd58-b2ef-4ae9-9325-99e2127ef068"
      },
      "outputs": [
        {
          "data": {
            "text/html": [
              "<div>\n",
              "<style scoped>\n",
              "    .dataframe tbody tr th:only-of-type {\n",
              "        vertical-align: middle;\n",
              "    }\n",
              "\n",
              "    .dataframe tbody tr th {\n",
              "        vertical-align: top;\n",
              "    }\n",
              "\n",
              "    .dataframe thead th {\n",
              "        text-align: right;\n",
              "    }\n",
              "</style>\n",
              "<table border=\"1\" class=\"dataframe\">\n",
              "  <thead>\n",
              "    <tr style=\"text-align: right;\">\n",
              "      <th></th>\n",
              "      <th>Fernando</th>\n",
              "      <th>Renato</th>\n",
              "      <th>Alberto</th>\n",
              "    </tr>\n",
              "  </thead>\n",
              "  <tbody>\n",
              "    <tr>\n",
              "      <th>PC1</th>\n",
              "      <td>18</td>\n",
              "      <td>19</td>\n",
              "      <td>17</td>\n",
              "    </tr>\n",
              "    <tr>\n",
              "      <th>PC2</th>\n",
              "      <td>16</td>\n",
              "      <td>14</td>\n",
              "      <td>15</td>\n",
              "    </tr>\n",
              "    <tr>\n",
              "      <th>PC3</th>\n",
              "      <td>17</td>\n",
              "      <td>20</td>\n",
              "      <td>19</td>\n",
              "    </tr>\n",
              "    <tr>\n",
              "      <th>PC4</th>\n",
              "      <td>14</td>\n",
              "      <td>13</td>\n",
              "      <td>13</td>\n",
              "    </tr>\n",
              "    <tr>\n",
              "      <th>PC5</th>\n",
              "      <td>18</td>\n",
              "      <td>20</td>\n",
              "      <td>19</td>\n",
              "    </tr>\n",
              "  </tbody>\n",
              "</table>\n",
              "</div>"
            ],
            "text/plain": [
              "     Fernando  Renato  Alberto\n",
              "PC1        18      19       17\n",
              "PC2        16      14       15\n",
              "PC3        17      20       19\n",
              "PC4        14      13       13\n",
              "PC5        18      20       19"
            ]
          },
          "execution_count": 33,
          "metadata": {},
          "output_type": "execute_result"
        }
      ],
      "source": [
        "df[['Fernando', 'Renato', 'Alberto']]"
      ]
    },
    {
      "cell_type": "markdown",
      "metadata": {
        "cell_id": "00037-090433d7-c0f8-4232-9626-f274c93e1a66",
        "deepnote_cell_type": "markdown",
        "id": "3BYrEDk4N2oB"
      },
      "source": [
        "Con el atributo *loc* accedemos a un grupo de filas y columnas por etiquetas o una matriz booleana."
      ]
    },
    {
      "cell_type": "code",
      "execution_count": null,
      "metadata": {
        "cell_id": "00038-aca58c94-cc02-4579-9bef-2bb51e933a7f",
        "deepnote_cell_type": "code",
        "id": "CdS7Kd0mN2oC",
        "outputId": "a63e7f1d-c10c-44ea-b343-7c4c5e8276c3"
      },
      "outputs": [
        {
          "data": {
            "text/plain": [
              "Renato     19\n",
              "Alberto    17\n",
              "Hernado    17\n",
              "Name: PC1, dtype: int64"
            ]
          },
          "execution_count": 22,
          "metadata": {},
          "output_type": "execute_result"
        }
      ],
      "source": [
        "df.loc['PC1', ['Renato', 'Alberto', 'Hernado']]"
      ]
    },
    {
      "cell_type": "code",
      "execution_count": null,
      "metadata": {
        "cell_id": "00039-3938ebe1-fc51-41b6-9f55-21902c458b81",
        "deepnote_cell_type": "code",
        "id": "w-dS5bsTN2oC",
        "outputId": "2d30b92a-2489-464b-f04a-ccfe018e723d"
      },
      "outputs": [
        {
          "data": {
            "text/html": [
              "<div>\n",
              "<style scoped>\n",
              "    .dataframe tbody tr th:only-of-type {\n",
              "        vertical-align: middle;\n",
              "    }\n",
              "\n",
              "    .dataframe tbody tr th {\n",
              "        vertical-align: top;\n",
              "    }\n",
              "\n",
              "    .dataframe thead th {\n",
              "        text-align: right;\n",
              "    }\n",
              "</style>\n",
              "<table border=\"1\" class=\"dataframe\">\n",
              "  <thead>\n",
              "    <tr style=\"text-align: right;\">\n",
              "      <th></th>\n",
              "      <th>Renato</th>\n",
              "      <th>Alberto</th>\n",
              "    </tr>\n",
              "  </thead>\n",
              "  <tbody>\n",
              "    <tr>\n",
              "      <th>PC1</th>\n",
              "      <td>19</td>\n",
              "      <td>17</td>\n",
              "    </tr>\n",
              "    <tr>\n",
              "      <th>PC2</th>\n",
              "      <td>14</td>\n",
              "      <td>15</td>\n",
              "    </tr>\n",
              "  </tbody>\n",
              "</table>\n",
              "</div>"
            ],
            "text/plain": [
              "     Renato  Alberto\n",
              "PC1      19       17\n",
              "PC2      14       15"
            ]
          },
          "execution_count": 23,
          "metadata": {},
          "output_type": "execute_result"
        }
      ],
      "source": [
        "df.loc[['PC1', 'PC2'], ['Renato', 'Alberto']]"
      ]
    },
    {
      "cell_type": "markdown",
      "metadata": {
        "cell_id": "00040-fe47262e-8e0b-4b31-8020-d441cdb6d2ee",
        "deepnote_cell_type": "markdown",
        "id": "qp10e6xuN2oC"
      },
      "source": [
        "Otro atributo parecido a loc es iloc, solo que esta indexación está basada puramente en la ubicación de los números enteros para la selección por posición."
      ]
    },
    {
      "cell_type": "code",
      "execution_count": null,
      "metadata": {
        "cell_id": "00041-35c82cdc-7021-483f-a97e-cc0e4d011b37",
        "deepnote_cell_type": "code",
        "id": "g59QoxvUN2oC",
        "outputId": "70d62844-b740-401f-88c6-13d39fe760d7"
      },
      "outputs": [
        {
          "data": {
            "text/plain": [
              "19"
            ]
          },
          "execution_count": 24,
          "metadata": {},
          "output_type": "execute_result"
        }
      ],
      "source": [
        "df.iloc[4, 3]"
      ]
    },
    {
      "cell_type": "code",
      "execution_count": null,
      "metadata": {
        "cell_id": "00042-7a897322-71f6-476d-b34d-08fd3581894a",
        "deepnote_cell_type": "code",
        "id": "0Rt3bnQLN2oC",
        "outputId": "e5917523-1ab6-465a-d2b3-aec063ee2caf"
      },
      "outputs": [
        {
          "data": {
            "text/html": [
              "<div>\n",
              "<style scoped>\n",
              "    .dataframe tbody tr th:only-of-type {\n",
              "        vertical-align: middle;\n",
              "    }\n",
              "\n",
              "    .dataframe tbody tr th {\n",
              "        vertical-align: top;\n",
              "    }\n",
              "\n",
              "    .dataframe thead th {\n",
              "        text-align: right;\n",
              "    }\n",
              "</style>\n",
              "<table border=\"1\" class=\"dataframe\">\n",
              "  <thead>\n",
              "    <tr style=\"text-align: right;\">\n",
              "      <th></th>\n",
              "      <th>Fernando</th>\n",
              "      <th>Alberto</th>\n",
              "    </tr>\n",
              "  </thead>\n",
              "  <tbody>\n",
              "    <tr>\n",
              "      <th>PC1</th>\n",
              "      <td>18</td>\n",
              "      <td>17</td>\n",
              "    </tr>\n",
              "    <tr>\n",
              "      <th>PC3</th>\n",
              "      <td>17</td>\n",
              "      <td>19</td>\n",
              "    </tr>\n",
              "    <tr>\n",
              "      <th>PC5</th>\n",
              "      <td>18</td>\n",
              "      <td>19</td>\n",
              "    </tr>\n",
              "  </tbody>\n",
              "</table>\n",
              "</div>"
            ],
            "text/plain": [
              "     Fernando  Alberto\n",
              "PC1        18       17\n",
              "PC3        17       19\n",
              "PC5        18       19"
            ]
          },
          "execution_count": 25,
          "metadata": {},
          "output_type": "execute_result"
        }
      ],
      "source": [
        "df.iloc[[0,2,4], [1,3]]"
      ]
    },
    {
      "cell_type": "code",
      "execution_count": null,
      "metadata": {
        "cell_id": "00043-8a585ace-1363-4ef0-8f5d-f97c5965b105",
        "deepnote_cell_type": "code",
        "id": "yI455SkNN2oC",
        "outputId": "c9c19081-cc4e-41b2-f5f1-d2314ef2c001"
      },
      "outputs": [
        {
          "data": {
            "text/html": [
              "<div>\n",
              "<style scoped>\n",
              "    .dataframe tbody tr th:only-of-type {\n",
              "        vertical-align: middle;\n",
              "    }\n",
              "\n",
              "    .dataframe tbody tr th {\n",
              "        vertical-align: top;\n",
              "    }\n",
              "\n",
              "    .dataframe thead th {\n",
              "        text-align: right;\n",
              "    }\n",
              "</style>\n",
              "<table border=\"1\" class=\"dataframe\">\n",
              "  <thead>\n",
              "    <tr style=\"text-align: right;\">\n",
              "      <th></th>\n",
              "      <th>Fernando</th>\n",
              "      <th>Alberto</th>\n",
              "    </tr>\n",
              "  </thead>\n",
              "  <tbody>\n",
              "    <tr>\n",
              "      <th>PC1</th>\n",
              "      <td>18</td>\n",
              "      <td>17</td>\n",
              "    </tr>\n",
              "    <tr>\n",
              "      <th>PC2</th>\n",
              "      <td>16</td>\n",
              "      <td>15</td>\n",
              "    </tr>\n",
              "    <tr>\n",
              "      <th>PC3</th>\n",
              "      <td>17</td>\n",
              "      <td>19</td>\n",
              "    </tr>\n",
              "    <tr>\n",
              "      <th>PC4</th>\n",
              "      <td>14</td>\n",
              "      <td>13</td>\n",
              "    </tr>\n",
              "    <tr>\n",
              "      <th>PC5</th>\n",
              "      <td>18</td>\n",
              "      <td>19</td>\n",
              "    </tr>\n",
              "  </tbody>\n",
              "</table>\n",
              "</div>"
            ],
            "text/plain": [
              "     Fernando  Alberto\n",
              "PC1        18       17\n",
              "PC2        16       15\n",
              "PC3        17       19\n",
              "PC4        14       13\n",
              "PC5        18       19"
            ]
          },
          "execution_count": 26,
          "metadata": {},
          "output_type": "execute_result"
        }
      ],
      "source": [
        "df.iloc[:, [1,3]]"
      ]
    },
    {
      "cell_type": "markdown",
      "metadata": {
        "cell_id": "00044-dace963d-0215-4238-97d0-0c0e73c2b111",
        "deepnote_cell_type": "markdown",
        "id": "JFrZ3X-rN2oD"
      },
      "source": [
        "Imaginemos que queremos obtener las notas de los exámenes de las personas que sacaron una nota mayor que 17 en la primera práctica."
      ]
    },
    {
      "cell_type": "code",
      "execution_count": null,
      "metadata": {
        "cell_id": "00045-3b79f8c1-a2b2-403a-b641-3cb25efc35e0",
        "deepnote_cell_type": "code",
        "id": "t7BZ1SNfN2oD",
        "outputId": "3e036697-f1d0-472c-b190-e9ce1536314d"
      },
      "outputs": [
        {
          "data": {
            "text/html": [
              "<div>\n",
              "<style scoped>\n",
              "    .dataframe tbody tr th:only-of-type {\n",
              "        vertical-align: middle;\n",
              "    }\n",
              "\n",
              "    .dataframe tbody tr th {\n",
              "        vertical-align: top;\n",
              "    }\n",
              "\n",
              "    .dataframe thead th {\n",
              "        text-align: right;\n",
              "    }\n",
              "</style>\n",
              "<table border=\"1\" class=\"dataframe\">\n",
              "  <thead>\n",
              "    <tr style=\"text-align: right;\">\n",
              "      <th></th>\n",
              "      <th>PC1</th>\n",
              "      <th>PC2</th>\n",
              "      <th>PC3</th>\n",
              "      <th>PC4</th>\n",
              "      <th>PC5</th>\n",
              "    </tr>\n",
              "  </thead>\n",
              "  <tbody>\n",
              "    <tr>\n",
              "      <th>Fernando</th>\n",
              "      <td>18</td>\n",
              "      <td>16</td>\n",
              "      <td>17</td>\n",
              "      <td>14</td>\n",
              "      <td>18</td>\n",
              "    </tr>\n",
              "    <tr>\n",
              "      <th>Renato</th>\n",
              "      <td>19</td>\n",
              "      <td>14</td>\n",
              "      <td>20</td>\n",
              "      <td>13</td>\n",
              "      <td>20</td>\n",
              "    </tr>\n",
              "  </tbody>\n",
              "</table>\n",
              "</div>"
            ],
            "text/plain": [
              "          PC1  PC2  PC3  PC4  PC5\n",
              "Fernando   18   16   17   14   18\n",
              "Renato     19   14   20   13   20"
            ]
          },
          "execution_count": 27,
          "metadata": {},
          "output_type": "execute_result"
        }
      ],
      "source": [
        "df = df.T\n",
        "df[df['PC1'] > 17]"
      ]
    },
    {
      "cell_type": "markdown",
      "metadata": {
        "cell_id": "00046-95293f23-b8ac-4c48-93e9-3914d54f5572",
        "deepnote_cell_type": "markdown",
        "id": "MlFWMMVKN2oD"
      },
      "source": [
        "Si queremos hacer un análisis de las personas que sacaron más de 17 en la primera PC y la Tercera PC."
      ]
    },
    {
      "cell_type": "code",
      "execution_count": null,
      "metadata": {
        "cell_id": "00047-700d82f0-c44c-49fc-b7b4-995aa6ebae1d",
        "deepnote_cell_type": "code",
        "id": "kw13ccJjN2oD",
        "outputId": "115b10f5-bafa-4c86-b5ed-af024a65e6d5"
      },
      "outputs": [
        {
          "data": {
            "text/html": [
              "<div>\n",
              "<style scoped>\n",
              "    .dataframe tbody tr th:only-of-type {\n",
              "        vertical-align: middle;\n",
              "    }\n",
              "\n",
              "    .dataframe tbody tr th {\n",
              "        vertical-align: top;\n",
              "    }\n",
              "\n",
              "    .dataframe thead th {\n",
              "        text-align: right;\n",
              "    }\n",
              "</style>\n",
              "<table border=\"1\" class=\"dataframe\">\n",
              "  <thead>\n",
              "    <tr style=\"text-align: right;\">\n",
              "      <th></th>\n",
              "      <th>PC1</th>\n",
              "      <th>PC2</th>\n",
              "      <th>PC3</th>\n",
              "      <th>PC4</th>\n",
              "      <th>PC5</th>\n",
              "    </tr>\n",
              "  </thead>\n",
              "  <tbody>\n",
              "    <tr>\n",
              "      <th>Renato</th>\n",
              "      <td>19</td>\n",
              "      <td>14</td>\n",
              "      <td>20</td>\n",
              "      <td>13</td>\n",
              "      <td>20</td>\n",
              "    </tr>\n",
              "  </tbody>\n",
              "</table>\n",
              "</div>"
            ],
            "text/plain": [
              "        PC1  PC2  PC3  PC4  PC5\n",
              "Renato   19   14   20   13   20"
            ]
          },
          "execution_count": 28,
          "metadata": {},
          "output_type": "execute_result"
        }
      ],
      "source": [
        "df[(df['PC1'] > 17)  &  (df['PC3'] > 17)]"
      ]
    },
    {
      "cell_type": "markdown",
      "metadata": {
        "cell_id": "00048-9cd2fce7-1da2-47df-a128-626fd3067508",
        "deepnote_cell_type": "markdown",
        "id": "0bNgM5EHN2oD"
      },
      "source": [
        "Otro método que puede ser utilizado es *query* que recibe como parámetro un string."
      ]
    },
    {
      "cell_type": "code",
      "execution_count": null,
      "metadata": {
        "cell_id": "00049-59b0dfb2-562d-42c3-9e94-f5b933324645",
        "deepnote_cell_type": "code",
        "id": "3qw8juccN2oE",
        "outputId": "d5270a58-74be-4f92-cff1-91abb56bc297"
      },
      "outputs": [
        {
          "data": {
            "text/html": [
              "<div>\n",
              "<style scoped>\n",
              "    .dataframe tbody tr th:only-of-type {\n",
              "        vertical-align: middle;\n",
              "    }\n",
              "\n",
              "    .dataframe tbody tr th {\n",
              "        vertical-align: top;\n",
              "    }\n",
              "\n",
              "    .dataframe thead th {\n",
              "        text-align: right;\n",
              "    }\n",
              "</style>\n",
              "<table border=\"1\" class=\"dataframe\">\n",
              "  <thead>\n",
              "    <tr style=\"text-align: right;\">\n",
              "      <th></th>\n",
              "      <th>PC1</th>\n",
              "      <th>PC2</th>\n",
              "      <th>PC3</th>\n",
              "      <th>PC4</th>\n",
              "      <th>PC5</th>\n",
              "    </tr>\n",
              "  </thead>\n",
              "  <tbody>\n",
              "    <tr>\n",
              "      <th>Fernando</th>\n",
              "      <td>18</td>\n",
              "      <td>16</td>\n",
              "      <td>17</td>\n",
              "      <td>14</td>\n",
              "      <td>18</td>\n",
              "    </tr>\n",
              "    <tr>\n",
              "      <th>Renato</th>\n",
              "      <td>19</td>\n",
              "      <td>14</td>\n",
              "      <td>20</td>\n",
              "      <td>13</td>\n",
              "      <td>20</td>\n",
              "    </tr>\n",
              "  </tbody>\n",
              "</table>\n",
              "</div>"
            ],
            "text/plain": [
              "          PC1  PC2  PC3  PC4  PC5\n",
              "Fernando   18   16   17   14   18\n",
              "Renato     19   14   20   13   20"
            ]
          },
          "execution_count": 29,
          "metadata": {},
          "output_type": "execute_result"
        }
      ],
      "source": [
        "df.query('PC1>17')"
      ]
    },
    {
      "cell_type": "markdown",
      "metadata": {
        "cell_id": "00050-3133cb67-a394-4b2e-ba7a-20692c0cbc82",
        "deepnote_cell_type": "markdown",
        "id": "KkRmwcNqN2oE"
      },
      "source": [
        "Por último, se pueden realizar comparaciones entre columnas. Por ejemplo imaginemos que solo queremos conocer a las personas cuyas notas de su quinta PC sea mayor que la de su primera PC."
      ]
    },
    {
      "cell_type": "code",
      "execution_count": null,
      "metadata": {
        "cell_id": "00051-c4fcff59-933d-47c8-99a3-d0aaa7b0cba7",
        "deepnote_cell_type": "code",
        "id": "qTGlLc1hN2oE",
        "outputId": "c9b4609e-45eb-4a47-900b-b677ce78d6d8"
      },
      "outputs": [
        {
          "data": {
            "text/html": [
              "<div>\n",
              "<style scoped>\n",
              "    .dataframe tbody tr th:only-of-type {\n",
              "        vertical-align: middle;\n",
              "    }\n",
              "\n",
              "    .dataframe tbody tr th {\n",
              "        vertical-align: top;\n",
              "    }\n",
              "\n",
              "    .dataframe thead th {\n",
              "        text-align: right;\n",
              "    }\n",
              "</style>\n",
              "<table border=\"1\" class=\"dataframe\">\n",
              "  <thead>\n",
              "    <tr style=\"text-align: right;\">\n",
              "      <th></th>\n",
              "      <th>PC1</th>\n",
              "      <th>PC2</th>\n",
              "      <th>PC3</th>\n",
              "      <th>PC4</th>\n",
              "      <th>PC5</th>\n",
              "    </tr>\n",
              "  </thead>\n",
              "  <tbody>\n",
              "    <tr>\n",
              "      <th>Juan</th>\n",
              "      <td>16</td>\n",
              "      <td>17</td>\n",
              "      <td>17</td>\n",
              "      <td>13</td>\n",
              "      <td>17</td>\n",
              "    </tr>\n",
              "    <tr>\n",
              "      <th>Alberto</th>\n",
              "      <td>17</td>\n",
              "      <td>15</td>\n",
              "      <td>19</td>\n",
              "      <td>13</td>\n",
              "      <td>19</td>\n",
              "    </tr>\n",
              "    <tr>\n",
              "      <th>Renato</th>\n",
              "      <td>19</td>\n",
              "      <td>14</td>\n",
              "      <td>20</td>\n",
              "      <td>13</td>\n",
              "      <td>20</td>\n",
              "    </tr>\n",
              "  </tbody>\n",
              "</table>\n",
              "</div>"
            ],
            "text/plain": [
              "         PC1  PC2  PC3  PC4  PC5\n",
              "Juan      16   17   17   13   17\n",
              "Alberto   17   15   19   13   19\n",
              "Renato    19   14   20   13   20"
            ]
          },
          "execution_count": 30,
          "metadata": {},
          "output_type": "execute_result"
        }
      ],
      "source": [
        "df[df['PC5'] > df['PC1']]"
      ]
    },
    {
      "cell_type": "markdown",
      "metadata": {
        "cell_id": "00052-b827aea5-453c-4166-961e-12e0e5abeb0f",
        "deepnote_cell_type": "markdown",
        "id": "1kjFs7XfN2oE"
      },
      "source": [
        "## Manejo de archivos \n",
        "\n",
        "Pandas dentro de sus funcionalidades nos permite poder convertir DataFrame a CSV, Excel, SQL, etc. Así como leer estos archivos  convirtiéndolos en DataFrame. "
      ]
    },
    {
      "cell_type": "code",
      "execution_count": null,
      "metadata": {
        "cell_id": "00054-85393183-98af-41f5-9c93-c6d9b12f04ba",
        "deepnote_cell_type": "code",
        "id": "cS6u633lN2oE",
        "outputId": "2f338dde-4e8c-432e-87f0-43d32dc6bef6"
      },
      "outputs": [
        {
          "data": {
            "text/html": [
              "<div>\n",
              "<style scoped>\n",
              "    .dataframe tbody tr th:only-of-type {\n",
              "        vertical-align: middle;\n",
              "    }\n",
              "\n",
              "    .dataframe tbody tr th {\n",
              "        vertical-align: top;\n",
              "    }\n",
              "\n",
              "    .dataframe thead th {\n",
              "        text-align: right;\n",
              "    }\n",
              "</style>\n",
              "<table border=\"1\" class=\"dataframe\">\n",
              "  <thead>\n",
              "    <tr style=\"text-align: right;\">\n",
              "      <th></th>\n",
              "      <th>edad</th>\n",
              "      <th>peso</th>\n",
              "      <th>altura</th>\n",
              "      <th>genero</th>\n",
              "    </tr>\n",
              "  </thead>\n",
              "  <tbody>\n",
              "    <tr>\n",
              "      <th>0</th>\n",
              "      <td>19</td>\n",
              "      <td>75</td>\n",
              "      <td>172</td>\n",
              "      <td>M</td>\n",
              "    </tr>\n",
              "    <tr>\n",
              "      <th>1</th>\n",
              "      <td>25</td>\n",
              "      <td>67</td>\n",
              "      <td>169</td>\n",
              "      <td>M</td>\n",
              "    </tr>\n",
              "    <tr>\n",
              "      <th>2</th>\n",
              "      <td>18</td>\n",
              "      <td>45</td>\n",
              "      <td>155</td>\n",
              "      <td>F</td>\n",
              "    </tr>\n",
              "    <tr>\n",
              "      <th>3</th>\n",
              "      <td>16</td>\n",
              "      <td>61</td>\n",
              "      <td>167</td>\n",
              "      <td>M</td>\n",
              "    </tr>\n",
              "    <tr>\n",
              "      <th>4</th>\n",
              "      <td>15</td>\n",
              "      <td>73</td>\n",
              "      <td>171</td>\n",
              "      <td>M</td>\n",
              "    </tr>\n",
              "    <tr>\n",
              "      <th>5</th>\n",
              "      <td>32</td>\n",
              "      <td>74</td>\n",
              "      <td>175</td>\n",
              "      <td>M</td>\n",
              "    </tr>\n",
              "    <tr>\n",
              "      <th>6</th>\n",
              "      <td>21</td>\n",
              "      <td>55</td>\n",
              "      <td>161</td>\n",
              "      <td>F</td>\n",
              "    </tr>\n",
              "  </tbody>\n",
              "</table>\n",
              "</div>"
            ],
            "text/plain": [
              "   edad  peso  altura genero\n",
              "0    19    75     172      M\n",
              "1    25    67     169      M\n",
              "2    18    45     155      F\n",
              "3    16    61     167      M\n",
              "4    15    73     171      M\n",
              "5    32    74     175      M\n",
              "6    21    55     161      F"
            ]
          },
          "execution_count": 32,
          "metadata": {},
          "output_type": "execute_result"
        }
      ],
      "source": [
        "data = {\n",
        "    'edad' : [19, 25, 18, 16, 15, 32, 21],\n",
        "    'peso' : [75, 67, 45, 61, 73, 74, 55],\n",
        "    'altura' : [172, 169, 155, 167, 171, 175, 161],\n",
        "    'genero' :['M', 'M', 'F', 'M','M','M', 'F']\n",
        "}\n",
        "\n",
        "df = pd.DataFrame(data)\n",
        "df"
      ]
    },
    {
      "cell_type": "code",
      "execution_count": null,
      "metadata": {
        "cell_id": "00055-d0b8a55c-fa27-4615-a801-23786e85593c",
        "deepnote_cell_type": "code",
        "id": "rfNUqe4-N2oF"
      },
      "outputs": [],
      "source": [
        "def dir(name: str) -> str:\n",
        "    \"\"\"\n",
        "    Get the direction where the Dataset that we want to\n",
        "    import is located.\n",
        "    \n",
        "    Parameters\n",
        "    ----------\n",
        "    name : str\n",
        "        Name of the Dataset that we will import.\n",
        "        \n",
        "    Returns\n",
        "    -------\n",
        "    str : Direction where the Dataset is located.\n",
        "    \n",
        "    Examples\n",
        "    --------\n",
        "    >>> direction = dir('Dataset1.csv')\n",
        "    >>> direction\n",
        "        './Datasets/Formatos/Dataset1.csv'\n",
        "    \"\"\"\n",
        "    \n",
        "    return './Datasets/Formatos/{}'.format(name)\n",
        "\n",
        "\n",
        "dir_dataset = dir('pacientes.csv')"
      ]
    },
    {
      "cell_type": "markdown",
      "metadata": {
        "cell_id": "00056-5272d683-cd99-46a6-a9b7-cd5a70502202",
        "deepnote_cell_type": "markdown",
        "id": "8h95nsW8N2oF"
      },
      "source": [
        "Una método importante y de mucha utilidad al momento de trabajar con datos, es poder guardar tus avances en un formato especifico, para despues poder visualizarlos con otras aplicaciones o hacer otras trabajos con estos datos ya modificados, a continuación se muestra como se realiza el guardado de los datos en diferentes formatos."
      ]
    },
    {
      "cell_type": "code",
      "execution_count": null,
      "metadata": {
        "cell_id": "00057-37929fae-ab41-400b-bf60-8c9c5ba88e86",
        "deepnote_cell_type": "code",
        "id": "lq3Fmh3RN2oF"
      },
      "outputs": [],
      "source": [
        "df.to_csv(dir_dataset, index=False)"
      ]
    },
    {
      "cell_type": "markdown",
      "metadata": {
        "cell_id": "00058-8181b939-60fd-49ba-bd6d-1adf43190df0",
        "deepnote_cell_type": "markdown",
        "id": "HuE8Gr1yN2oF"
      },
      "source": [
        "Una vez realizado el guardado en un formato especifico se puede leer el archivo utilizando el método *read_csv* de pandas."
      ]
    },
    {
      "cell_type": "code",
      "execution_count": null,
      "metadata": {
        "cell_id": "00059-e7420007-c6dc-447e-a771-f5ed45b098b5",
        "deepnote_cell_type": "code",
        "id": "-Ajt7YfHN2oF",
        "outputId": "7e31d080-723e-41a3-a7cb-878ffa676fa5"
      },
      "outputs": [
        {
          "data": {
            "text/html": [
              "<div>\n",
              "<style scoped>\n",
              "    .dataframe tbody tr th:only-of-type {\n",
              "        vertical-align: middle;\n",
              "    }\n",
              "\n",
              "    .dataframe tbody tr th {\n",
              "        vertical-align: top;\n",
              "    }\n",
              "\n",
              "    .dataframe thead th {\n",
              "        text-align: right;\n",
              "    }\n",
              "</style>\n",
              "<table border=\"1\" class=\"dataframe\">\n",
              "  <thead>\n",
              "    <tr style=\"text-align: right;\">\n",
              "      <th></th>\n",
              "      <th>edad</th>\n",
              "      <th>peso</th>\n",
              "      <th>altura</th>\n",
              "      <th>genero</th>\n",
              "    </tr>\n",
              "  </thead>\n",
              "  <tbody>\n",
              "    <tr>\n",
              "      <th>0</th>\n",
              "      <td>19</td>\n",
              "      <td>75</td>\n",
              "      <td>172</td>\n",
              "      <td>M</td>\n",
              "    </tr>\n",
              "    <tr>\n",
              "      <th>1</th>\n",
              "      <td>25</td>\n",
              "      <td>67</td>\n",
              "      <td>169</td>\n",
              "      <td>M</td>\n",
              "    </tr>\n",
              "    <tr>\n",
              "      <th>2</th>\n",
              "      <td>18</td>\n",
              "      <td>45</td>\n",
              "      <td>155</td>\n",
              "      <td>F</td>\n",
              "    </tr>\n",
              "    <tr>\n",
              "      <th>3</th>\n",
              "      <td>16</td>\n",
              "      <td>61</td>\n",
              "      <td>167</td>\n",
              "      <td>M</td>\n",
              "    </tr>\n",
              "    <tr>\n",
              "      <th>4</th>\n",
              "      <td>15</td>\n",
              "      <td>73</td>\n",
              "      <td>171</td>\n",
              "      <td>M</td>\n",
              "    </tr>\n",
              "    <tr>\n",
              "      <th>5</th>\n",
              "      <td>32</td>\n",
              "      <td>74</td>\n",
              "      <td>175</td>\n",
              "      <td>M</td>\n",
              "    </tr>\n",
              "    <tr>\n",
              "      <th>6</th>\n",
              "      <td>21</td>\n",
              "      <td>55</td>\n",
              "      <td>161</td>\n",
              "      <td>F</td>\n",
              "    </tr>\n",
              "  </tbody>\n",
              "</table>\n",
              "</div>"
            ],
            "text/plain": [
              "   edad  peso  altura genero\n",
              "0    19    75     172      M\n",
              "1    25    67     169      M\n",
              "2    18    45     155      F\n",
              "3    16    61     167      M\n",
              "4    15    73     171      M\n",
              "5    32    74     175      M\n",
              "6    21    55     161      F"
            ]
          },
          "execution_count": 35,
          "metadata": {},
          "output_type": "execute_result"
        }
      ],
      "source": [
        "df_read = pd.read_csv(dir_dataset)\n",
        "df_read"
      ]
    },
    {
      "cell_type": "markdown",
      "metadata": {
        "cell_id": "00060-a9d6fbb9-5088-45c7-9c9b-ae4079fa5192",
        "deepnote_cell_type": "markdown",
        "id": "kWloQ1Q8N2oG"
      },
      "source": [
        "Además, la función de conversión a CSV (uno de los formatos más usados en data science) que nos ofrece pandas, permite cambiar el separador de nuestros datos de la siguiente manera\n",
        "\n",
        "<code> df.to_csv(dir_dataset, sep='|', index=False) </code>\n",
        "\n",
        "Por último, como se mencionó anteriormente, pandas permite hacer la conversión del DataFrame a diferentes formatos como lo son Excel, Json, pkl, etc."
      ]
    },
    {
      "cell_type": "code",
      "execution_count": null,
      "metadata": {
        "cell_id": "00063-903153c8-1c65-44d4-b4a5-edf614060d26",
        "deepnote_cell_type": "code",
        "id": "e4RfdIURN2oG"
      },
      "outputs": [],
      "source": [
        "dir_dataset = dir('pacientes.xlsx')\n",
        "df.to_excel(dir_dataset, sheet_name='hoja_1')"
      ]
    },
    {
      "cell_type": "code",
      "execution_count": null,
      "metadata": {
        "cell_id": "00064-2aa82c3a-3403-405b-b19e-dcd751e2da27",
        "deepnote_cell_type": "code",
        "id": "X1nCybwSN2oG"
      },
      "outputs": [],
      "source": [
        "dir_dataset = dir('pacientes.json')\n",
        "df.to_json(dir_dataset)"
      ]
    },
    {
      "cell_type": "code",
      "execution_count": null,
      "metadata": {
        "cell_id": "00065-ae97dbfc-cd64-4d14-ac95-c65d899c128a",
        "deepnote_cell_type": "code",
        "id": "ZQfJzSZ9N2oG"
      },
      "outputs": [],
      "source": [
        "dir_dataset = dir('pacientes.pkl')\n",
        "df.to_pickle(dir_dataset)"
      ]
    }
  ],
  "metadata": {
    "colab": {
      "collapsed_sections": [],
      "name": "PFDS1_Introducción.ipynb",
      "provenance": [],
      "toc_visible": true
    },
    "deepnote": {},
    "deepnote_execution_queue": [],
    "deepnote_notebook_id": "12882e1a-2ca1-4a36-beeb-00a340f48697",
    "interpreter": {
      "hash": "568a22c9cab12376fc7d578725a09d5aa8bff0eb67624256ed647bcf9e0950c5"
    },
    "kernelspec": {
      "display_name": "Python 3 (ipykernel)",
      "language": "python",
      "name": "python3"
    },
    "language_info": {
      "codemirror_mode": {
        "name": "ipython",
        "version": 3
      },
      "file_extension": ".py",
      "mimetype": "text/x-python",
      "name": "python",
      "nbconvert_exporter": "python",
      "pygments_lexer": "ipython3",
      "version": "3.8.11"
    },
    "toc-autonumbering": false,
    "toc-showcode": false,
    "toc-showmarkdowntxt": false
  },
  "nbformat": 4,
  "nbformat_minor": 0
}
