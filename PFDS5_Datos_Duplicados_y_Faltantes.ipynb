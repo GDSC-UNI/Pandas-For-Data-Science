{
  "cells": [
    {
      "cell_type": "code",
      "execution_count": null,
      "metadata": {
        "cellView": "form",
        "id": "wc9dTfn1e72t"
      },
      "outputs": [],
      "source": [
        "# MIT License\n",
        "\n",
        "# Copyright (c) GDSC UNI\n",
        "\n",
        "# Permission is hereby granted, free of charge, to any person obtaining a copy\n",
        "# of this software and associated documentation files (the \"Software\"), to deal\n",
        "# in the Software without restriction, including without limitation the rights\n",
        "# to use, copy, modify, merge, publish, distribute, sublicense, and/or sell\n",
        "# copies of the Software, and to permit persons to whom the Software is\n",
        "# furnished to do so, subject to the following conditions:\n",
        "\n",
        "# The above copyright notice and this permission notice shall be included in all\n",
        "# copies or substantial portions of the Software.\n",
        "\n",
        "# THE SOFTWARE IS PROVIDED \"AS IS\", WITHOUT WARRANTY OF ANY KIND, EXPRESS OR\n",
        "# IMPLIED, INCLUDING BUT NOT LIMITED TO THE WARRANTIES OF MERCHANTABILITY,\n",
        "# FITNESS FOR A PARTICULAR PURPOSE AND NONINFRINGEMENT. IN NO EVENT SHALL THE\n",
        "# AUTHORS OR COPYRIGHT HOLDERS BE LIABLE FOR ANY CLAIM, DAMAGES OR OTHER\n",
        "# LIABILITY, WHETHER IN AN ACTION OF CONTRACT, TORT OR OTHERWISE, ARISING FROM,\n",
        "# OUT OF OR IN CONNECTION WITH THE SOFTWARE OR THE USE OR OTHER DEALINGS IN THE\n",
        "# SOFTWARE."
      ]
    },
    {
      "cell_type": "markdown",
      "metadata": {
        "cell_id": "00000-f15544a5-e081-4125-8474-b554e5aae557",
        "deepnote_cell_type": "markdown",
        "id": "GYqGRNvFe7Tp"
      },
      "source": [
        "<table align=\"center\">\n",
        "  <td align=\"center\"><a target=\"_blank\" href=\"https://gdsc.community.dev/universidad-nacional-de-ingenieria/\">\n",
        "        <img src=\"https://i.ibb.co/pX2w52P/GDSC.png\" style=\"padding-bottom:5px;\" />\n",
        "      View GDSC UNI</a></td>\n",
        "\n",
        "  <td align=\"center\"><a target=\"_blank\" href=\"https://colab.research.google.com/drive/1J_ERiblO9-3X_gaA2xqrivBTbhtTxU0m?usp=sharing\">\n",
        "        <img src=\"https://i.ibb.co/Bf0HK0q/Colaboratory.png\"  style=\"padding-bottom:5px;\" />Run in Google Colab </a></td>\n",
        "\n",
        "  <td align=\"center\"><a target=\"_blank\" href=\"https://github.com/GDSC-UNI/Pandas-For-Data-Science/PFDS5_Datos_Duplicados_y_Faltantes.ipynb\">\n",
        "        <img src=\"https://i.ibb.co/VHHdRx2/Github.png\"  height=\"110px\" style=\"padding-bottom:5px;\"/>View source on GitHub</a></td>\n",
        "</table>"
      ]
    },
    {
      "cell_type": "markdown",
      "metadata": {
        "id": "5a4uE9KFe7Tt"
      },
      "source": [
        "<h1></h1>"
      ]
    },
    {
      "cell_type": "markdown",
      "metadata": {
        "cell_id": "00002-6df9f0c8-2033-418b-b547-d7f4fd84ea67",
        "deepnote_cell_type": "markdown",
        "id": "K9yolFYOe7Tu"
      },
      "source": [
        "<h1 style=\"font-size:42px; text-align:center; margin-bottom:30px;\"><span style=\"color:#000080\">PFDS5:</span> Datos Duplicados y Faltantes</h1>\n",
        "<hr>"
      ]
    },
    {
      "cell_type": "markdown",
      "metadata": {
        "cell_id": "00003-17baecd9-0f31-4077-8ad0-e064c2537310",
        "deepnote_cell_type": "markdown",
        "id": "RE2MwXlpe7Tv"
      },
      "source": [
        "# Datos Duplicados\n",
        "\n",
        "Es usual que, en los registros de una base de datos, aparezcan datos repetidos. Pandas cuenta con una funcionalidad que nos permite lidiar con este problema. Para aprender estas funcionalidades, crearemos un DataFrame con datos repetidos."
      ]
    },
    {
      "cell_type": "code",
      "execution_count": null,
      "metadata": {
        "cell_id": "00004-7c60178e-a243-4e3c-aa0b-d061691850b7",
        "deepnote_cell_type": "code",
        "id": "SxhFdYo-e7Tv"
      },
      "outputs": [],
      "source": [
        "import pandas as pd"
      ]
    },
    {
      "cell_type": "code",
      "execution_count": null,
      "metadata": {
        "cell_id": "00005-c1acc2bb-b1b9-41ac-89c6-4ab8868b9975",
        "deepnote_cell_type": "code",
        "id": "lOLcHIXre7Tw",
        "outputId": "46eabced-7fd0-4c5a-dfd0-310e1f390f82"
      },
      "outputs": [
        {
          "data": {
            "text/html": [
              "<div>\n",
              "<style scoped>\n",
              "    .dataframe tbody tr th:only-of-type {\n",
              "        vertical-align: middle;\n",
              "    }\n",
              "\n",
              "    .dataframe tbody tr th {\n",
              "        vertical-align: top;\n",
              "    }\n",
              "\n",
              "    .dataframe thead th {\n",
              "        text-align: right;\n",
              "    }\n",
              "</style>\n",
              "<table border=\"1\" class=\"dataframe\">\n",
              "  <thead>\n",
              "    <tr style=\"text-align: right;\">\n",
              "      <th></th>\n",
              "      <th>Name</th>\n",
              "      <th>age</th>\n",
              "    </tr>\n",
              "  </thead>\n",
              "  <tbody>\n",
              "    <tr>\n",
              "      <th>0</th>\n",
              "      <td>Henando</td>\n",
              "      <td>18</td>\n",
              "    </tr>\n",
              "    <tr>\n",
              "      <th>1</th>\n",
              "      <td>Henando</td>\n",
              "      <td>18</td>\n",
              "    </tr>\n",
              "    <tr>\n",
              "      <th>2</th>\n",
              "      <td>Sara</td>\n",
              "      <td>15</td>\n",
              "    </tr>\n",
              "    <tr>\n",
              "      <th>3</th>\n",
              "      <td>Fernando</td>\n",
              "      <td>17</td>\n",
              "    </tr>\n",
              "    <tr>\n",
              "      <th>4</th>\n",
              "      <td>Renato</td>\n",
              "      <td>20</td>\n",
              "    </tr>\n",
              "    <tr>\n",
              "      <th>5</th>\n",
              "      <td>Renato</td>\n",
              "      <td>20</td>\n",
              "    </tr>\n",
              "    <tr>\n",
              "      <th>6</th>\n",
              "      <td>Roberto</td>\n",
              "      <td>18</td>\n",
              "    </tr>\n",
              "    <tr>\n",
              "      <th>7</th>\n",
              "      <td>Fernando</td>\n",
              "      <td>17</td>\n",
              "    </tr>\n",
              "    <tr>\n",
              "      <th>8</th>\n",
              "      <td>Fernando</td>\n",
              "      <td>17</td>\n",
              "    </tr>\n",
              "  </tbody>\n",
              "</table>\n",
              "</div>"
            ],
            "text/plain": [
              "       Name  age\n",
              "0   Henando   18\n",
              "1   Henando   18\n",
              "2      Sara   15\n",
              "3  Fernando   17\n",
              "4    Renato   20\n",
              "5    Renato   20\n",
              "6   Roberto   18\n",
              "7  Fernando   17\n",
              "8  Fernando   17"
            ]
          },
          "execution_count": 2,
          "metadata": {},
          "output_type": "execute_result"
        }
      ],
      "source": [
        "df = pd.DataFrame({ 'Name' : ['Henando', 'Henando', 'Sara', 'Fernando', 'Renato', 'Renato', 'Roberto', 'Fernando', 'Fernando'],\n",
        "                    'age' : [18, 18, 15, 17, 20, 20, 18, 17, 17]})\n",
        "\n",
        "df"
      ]
    },
    {
      "cell_type": "markdown",
      "metadata": {
        "cell_id": "00006-6c0564ed-8915-4c65-94e4-2f391fbbde7f",
        "deepnote_cell_type": "markdown",
        "id": "90ELt7Voe7Tx"
      },
      "source": [
        "Para conocer los datos repetidos, usamos el método *duplicate*, si le agregamos el parámetro keep='first', marcamos solo la primera ocurrencia, con keep='last', marcamos la última."
      ]
    },
    {
      "cell_type": "code",
      "execution_count": null,
      "metadata": {
        "cell_id": "00007-1ab887ec-1f45-490f-a911-93fd5f1ff2bd",
        "deepnote_cell_type": "code",
        "id": "878WymIOe7Ty",
        "outputId": "98ed6249-4c83-4c0c-c634-f003edb34962"
      },
      "outputs": [
        {
          "data": {
            "text/plain": [
              "0    False\n",
              "1     True\n",
              "2    False\n",
              "3    False\n",
              "4    False\n",
              "5     True\n",
              "6    False\n",
              "7     True\n",
              "8     True\n",
              "dtype: bool"
            ]
          },
          "execution_count": 3,
          "metadata": {},
          "output_type": "execute_result"
        }
      ],
      "source": [
        "df.duplicated()"
      ]
    },
    {
      "cell_type": "code",
      "execution_count": null,
      "metadata": {
        "cell_id": "00008-9cf80b98-e551-4b48-bc2c-681826b58d8b",
        "deepnote_cell_type": "code",
        "id": "vOULvjrle7Tz",
        "outputId": "9dc008ea-1a38-436e-d064-37d58482676a"
      },
      "outputs": [
        {
          "data": {
            "text/plain": [
              "0    False\n",
              "1     True\n",
              "2    False\n",
              "3    False\n",
              "4    False\n",
              "5     True\n",
              "6    False\n",
              "7     True\n",
              "8     True\n",
              "dtype: bool"
            ]
          },
          "execution_count": 4,
          "metadata": {},
          "output_type": "execute_result"
        }
      ],
      "source": [
        "df.duplicated(keep='first')"
      ]
    },
    {
      "cell_type": "code",
      "execution_count": null,
      "metadata": {
        "cell_id": "00009-97eac522-8b44-4537-9ff9-67b6e56e207f",
        "deepnote_cell_type": "code",
        "id": "gr-zzPPve7T0",
        "outputId": "40976eb0-7785-41f0-baee-1281989b4e87"
      },
      "outputs": [
        {
          "data": {
            "text/plain": [
              "0     True\n",
              "1    False\n",
              "2    False\n",
              "3     True\n",
              "4     True\n",
              "5    False\n",
              "6    False\n",
              "7     True\n",
              "8    False\n",
              "dtype: bool"
            ]
          },
          "execution_count": 5,
          "metadata": {},
          "output_type": "execute_result"
        }
      ],
      "source": [
        "df.duplicated(keep='last')"
      ]
    },
    {
      "cell_type": "code",
      "execution_count": null,
      "metadata": {
        "cell_id": "00010-bee1bdb8-40a9-4c05-9d61-b7e96efec28a",
        "deepnote_cell_type": "code",
        "id": "bTMTIB8Ne7T1",
        "outputId": "a6d0ef2e-333e-4f82-9519-f66f043b3fc4"
      },
      "outputs": [
        {
          "data": {
            "text/html": [
              "<div>\n",
              "<style scoped>\n",
              "    .dataframe tbody tr th:only-of-type {\n",
              "        vertical-align: middle;\n",
              "    }\n",
              "\n",
              "    .dataframe tbody tr th {\n",
              "        vertical-align: top;\n",
              "    }\n",
              "\n",
              "    .dataframe thead th {\n",
              "        text-align: right;\n",
              "    }\n",
              "</style>\n",
              "<table border=\"1\" class=\"dataframe\">\n",
              "  <thead>\n",
              "    <tr style=\"text-align: right;\">\n",
              "      <th></th>\n",
              "      <th>Name</th>\n",
              "      <th>age</th>\n",
              "    </tr>\n",
              "  </thead>\n",
              "  <tbody>\n",
              "    <tr>\n",
              "      <th>0</th>\n",
              "      <td>Henando</td>\n",
              "      <td>18</td>\n",
              "    </tr>\n",
              "    <tr>\n",
              "      <th>1</th>\n",
              "      <td>Henando</td>\n",
              "      <td>18</td>\n",
              "    </tr>\n",
              "    <tr>\n",
              "      <th>3</th>\n",
              "      <td>Fernando</td>\n",
              "      <td>17</td>\n",
              "    </tr>\n",
              "    <tr>\n",
              "      <th>4</th>\n",
              "      <td>Renato</td>\n",
              "      <td>20</td>\n",
              "    </tr>\n",
              "    <tr>\n",
              "      <th>5</th>\n",
              "      <td>Renato</td>\n",
              "      <td>20</td>\n",
              "    </tr>\n",
              "    <tr>\n",
              "      <th>7</th>\n",
              "      <td>Fernando</td>\n",
              "      <td>17</td>\n",
              "    </tr>\n",
              "    <tr>\n",
              "      <th>8</th>\n",
              "      <td>Fernando</td>\n",
              "      <td>17</td>\n",
              "    </tr>\n",
              "  </tbody>\n",
              "</table>\n",
              "</div>"
            ],
            "text/plain": [
              "       Name  age\n",
              "0   Henando   18\n",
              "1   Henando   18\n",
              "3  Fernando   17\n",
              "4    Renato   20\n",
              "5    Renato   20\n",
              "7  Fernando   17\n",
              "8  Fernando   17"
            ]
          },
          "execution_count": 6,
          "metadata": {},
          "output_type": "execute_result"
        }
      ],
      "source": [
        "df[df.duplicated(keep=False)]"
      ]
    },
    {
      "cell_type": "markdown",
      "metadata": {
        "cell_id": "00011-a84296da-0aa1-4bb5-bca8-7e992ed37ac6",
        "deepnote_cell_type": "markdown",
        "id": "t5o41v-Ye7T1"
      },
      "source": [
        "Existen dos formas de visualizar el DataFrame sin los datos repetidos, uno de ellos es agregando la negación al método duplicated() y colocar este como índice. La otra forma es utilizando el método *drop_duplicate*."
      ]
    },
    {
      "cell_type": "code",
      "execution_count": null,
      "metadata": {
        "cell_id": "00012-7a089767-a4c0-416f-9b72-c6b36ea2a95e",
        "deepnote_cell_type": "code",
        "id": "r2q-jtKxe7T2",
        "outputId": "f056fda9-72a7-433d-ac2a-7313661b7940"
      },
      "outputs": [
        {
          "data": {
            "text/html": [
              "<div>\n",
              "<style scoped>\n",
              "    .dataframe tbody tr th:only-of-type {\n",
              "        vertical-align: middle;\n",
              "    }\n",
              "\n",
              "    .dataframe tbody tr th {\n",
              "        vertical-align: top;\n",
              "    }\n",
              "\n",
              "    .dataframe thead th {\n",
              "        text-align: right;\n",
              "    }\n",
              "</style>\n",
              "<table border=\"1\" class=\"dataframe\">\n",
              "  <thead>\n",
              "    <tr style=\"text-align: right;\">\n",
              "      <th></th>\n",
              "      <th>Name</th>\n",
              "      <th>age</th>\n",
              "    </tr>\n",
              "  </thead>\n",
              "  <tbody>\n",
              "    <tr>\n",
              "      <th>0</th>\n",
              "      <td>Henando</td>\n",
              "      <td>18</td>\n",
              "    </tr>\n",
              "    <tr>\n",
              "      <th>2</th>\n",
              "      <td>Sara</td>\n",
              "      <td>15</td>\n",
              "    </tr>\n",
              "    <tr>\n",
              "      <th>3</th>\n",
              "      <td>Fernando</td>\n",
              "      <td>17</td>\n",
              "    </tr>\n",
              "    <tr>\n",
              "      <th>4</th>\n",
              "      <td>Renato</td>\n",
              "      <td>20</td>\n",
              "    </tr>\n",
              "    <tr>\n",
              "      <th>6</th>\n",
              "      <td>Roberto</td>\n",
              "      <td>18</td>\n",
              "    </tr>\n",
              "  </tbody>\n",
              "</table>\n",
              "</div>"
            ],
            "text/plain": [
              "       Name  age\n",
              "0   Henando   18\n",
              "2      Sara   15\n",
              "3  Fernando   17\n",
              "4    Renato   20\n",
              "6   Roberto   18"
            ]
          },
          "execution_count": 7,
          "metadata": {},
          "output_type": "execute_result"
        }
      ],
      "source": [
        "df[~df.duplicated()]"
      ]
    },
    {
      "cell_type": "code",
      "execution_count": null,
      "metadata": {
        "cell_id": "00013-8d21992b-377f-4171-a722-ae5d9875de10",
        "deepnote_cell_type": "code",
        "id": "XEEGm5Die7T2",
        "outputId": "096fc52f-80a2-4d3d-efdf-6cf0a5c553a8"
      },
      "outputs": [
        {
          "data": {
            "text/html": [
              "<div>\n",
              "<style scoped>\n",
              "    .dataframe tbody tr th:only-of-type {\n",
              "        vertical-align: middle;\n",
              "    }\n",
              "\n",
              "    .dataframe tbody tr th {\n",
              "        vertical-align: top;\n",
              "    }\n",
              "\n",
              "    .dataframe thead th {\n",
              "        text-align: right;\n",
              "    }\n",
              "</style>\n",
              "<table border=\"1\" class=\"dataframe\">\n",
              "  <thead>\n",
              "    <tr style=\"text-align: right;\">\n",
              "      <th></th>\n",
              "      <th>Name</th>\n",
              "      <th>age</th>\n",
              "    </tr>\n",
              "  </thead>\n",
              "  <tbody>\n",
              "    <tr>\n",
              "      <th>0</th>\n",
              "      <td>Henando</td>\n",
              "      <td>18</td>\n",
              "    </tr>\n",
              "    <tr>\n",
              "      <th>2</th>\n",
              "      <td>Sara</td>\n",
              "      <td>15</td>\n",
              "    </tr>\n",
              "    <tr>\n",
              "      <th>3</th>\n",
              "      <td>Fernando</td>\n",
              "      <td>17</td>\n",
              "    </tr>\n",
              "    <tr>\n",
              "      <th>4</th>\n",
              "      <td>Renato</td>\n",
              "      <td>20</td>\n",
              "    </tr>\n",
              "    <tr>\n",
              "      <th>6</th>\n",
              "      <td>Roberto</td>\n",
              "      <td>18</td>\n",
              "    </tr>\n",
              "  </tbody>\n",
              "</table>\n",
              "</div>"
            ],
            "text/plain": [
              "       Name  age\n",
              "0   Henando   18\n",
              "2      Sara   15\n",
              "3  Fernando   17\n",
              "4    Renato   20\n",
              "6   Roberto   18"
            ]
          },
          "execution_count": 8,
          "metadata": {},
          "output_type": "execute_result"
        }
      ],
      "source": [
        "df.drop_duplicates()"
      ]
    },
    {
      "cell_type": "markdown",
      "metadata": {
        "cell_id": "00014-608fd309-7a78-469c-8108-14a4d19fc5ec",
        "deepnote_cell_type": "markdown",
        "id": "kQnGAB4ve7T3"
      },
      "source": [
        "Además, a este método podemos agregarle el parámetro 'keep=last' que dejará solamente la última aparición de los datos. Para una mejor visualización de esto, haremos modificaciones al DataFrame y aplicaremos, drop en la columna Name."
      ]
    },
    {
      "cell_type": "code",
      "execution_count": null,
      "metadata": {
        "cell_id": "00015-0eb466bd-8b82-4c05-b204-0a8b7d3d3b0d",
        "deepnote_cell_type": "code",
        "id": "Pip4vV3we7T3",
        "outputId": "a476b9c6-86ce-4c96-904c-6ed2fcba82e9"
      },
      "outputs": [
        {
          "data": {
            "text/html": [
              "<div>\n",
              "<style scoped>\n",
              "    .dataframe tbody tr th:only-of-type {\n",
              "        vertical-align: middle;\n",
              "    }\n",
              "\n",
              "    .dataframe tbody tr th {\n",
              "        vertical-align: top;\n",
              "    }\n",
              "\n",
              "    .dataframe thead th {\n",
              "        text-align: right;\n",
              "    }\n",
              "</style>\n",
              "<table border=\"1\" class=\"dataframe\">\n",
              "  <thead>\n",
              "    <tr style=\"text-align: right;\">\n",
              "      <th></th>\n",
              "      <th>Name</th>\n",
              "      <th>age</th>\n",
              "    </tr>\n",
              "  </thead>\n",
              "  <tbody>\n",
              "    <tr>\n",
              "      <th>0</th>\n",
              "      <td>Henando</td>\n",
              "      <td>18</td>\n",
              "    </tr>\n",
              "    <tr>\n",
              "      <th>1</th>\n",
              "      <td>Henando</td>\n",
              "      <td>18</td>\n",
              "    </tr>\n",
              "    <tr>\n",
              "      <th>2</th>\n",
              "      <td>Sara</td>\n",
              "      <td>15</td>\n",
              "    </tr>\n",
              "    <tr>\n",
              "      <th>3</th>\n",
              "      <td>Fernando</td>\n",
              "      <td>17</td>\n",
              "    </tr>\n",
              "    <tr>\n",
              "      <th>4</th>\n",
              "      <td>Renato</td>\n",
              "      <td>20</td>\n",
              "    </tr>\n",
              "    <tr>\n",
              "      <th>5</th>\n",
              "      <td>Renato</td>\n",
              "      <td>21</td>\n",
              "    </tr>\n",
              "    <tr>\n",
              "      <th>6</th>\n",
              "      <td>Roberto</td>\n",
              "      <td>11</td>\n",
              "    </tr>\n",
              "    <tr>\n",
              "      <th>7</th>\n",
              "      <td>Fernando</td>\n",
              "      <td>17</td>\n",
              "    </tr>\n",
              "    <tr>\n",
              "      <th>8</th>\n",
              "      <td>Fernando</td>\n",
              "      <td>16</td>\n",
              "    </tr>\n",
              "  </tbody>\n",
              "</table>\n",
              "</div>"
            ],
            "text/plain": [
              "       Name  age\n",
              "0   Henando   18\n",
              "1   Henando   18\n",
              "2      Sara   15\n",
              "3  Fernando   17\n",
              "4    Renato   20\n",
              "5    Renato   21\n",
              "6   Roberto   11\n",
              "7  Fernando   17\n",
              "8  Fernando   16"
            ]
          },
          "execution_count": 4,
          "metadata": {},
          "output_type": "execute_result"
        }
      ],
      "source": [
        "df_1 = pd.DataFrame({ 'Name' : ['Henando', 'Henando', 'Sara', 'Fernando', 'Renato', 'Renato', 'Roberto', 'Fernando', 'Fernando'],\n",
        "                    'age' : [18, 18, 15, 17, 20, 21, 11, 17, 16]})\n",
        "\n",
        "df_1"
      ]
    },
    {
      "cell_type": "code",
      "execution_count": null,
      "metadata": {
        "cell_id": "00016-45190ae3-8179-4328-ab70-a763f17c0b20",
        "deepnote_cell_type": "code",
        "id": "vhsx6Cnce7T3",
        "outputId": "68ec5f0e-e8b3-4166-9fd0-9d24701ccd8c"
      },
      "outputs": [
        {
          "data": {
            "text/html": [
              "<div>\n",
              "<style scoped>\n",
              "    .dataframe tbody tr th:only-of-type {\n",
              "        vertical-align: middle;\n",
              "    }\n",
              "\n",
              "    .dataframe tbody tr th {\n",
              "        vertical-align: top;\n",
              "    }\n",
              "\n",
              "    .dataframe thead th {\n",
              "        text-align: right;\n",
              "    }\n",
              "</style>\n",
              "<table border=\"1\" class=\"dataframe\">\n",
              "  <thead>\n",
              "    <tr style=\"text-align: right;\">\n",
              "      <th></th>\n",
              "      <th>Name</th>\n",
              "      <th>age</th>\n",
              "    </tr>\n",
              "  </thead>\n",
              "  <tbody>\n",
              "    <tr>\n",
              "      <th>1</th>\n",
              "      <td>Henando</td>\n",
              "      <td>18</td>\n",
              "    </tr>\n",
              "    <tr>\n",
              "      <th>2</th>\n",
              "      <td>Sara</td>\n",
              "      <td>15</td>\n",
              "    </tr>\n",
              "    <tr>\n",
              "      <th>5</th>\n",
              "      <td>Renato</td>\n",
              "      <td>21</td>\n",
              "    </tr>\n",
              "    <tr>\n",
              "      <th>6</th>\n",
              "      <td>Roberto</td>\n",
              "      <td>11</td>\n",
              "    </tr>\n",
              "    <tr>\n",
              "      <th>8</th>\n",
              "      <td>Fernando</td>\n",
              "      <td>16</td>\n",
              "    </tr>\n",
              "  </tbody>\n",
              "</table>\n",
              "</div>"
            ],
            "text/plain": [
              "       Name  age\n",
              "1   Henando   18\n",
              "2      Sara   15\n",
              "5    Renato   21\n",
              "6   Roberto   11\n",
              "8  Fernando   16"
            ]
          },
          "execution_count": 7,
          "metadata": {},
          "output_type": "execute_result"
        }
      ],
      "source": [
        "df_1.drop_duplicates(['Name'], keep='last')"
      ]
    },
    {
      "cell_type": "markdown",
      "metadata": {
        "id": "r3dfAmpje7T4"
      },
      "source": [
        "# Datos Faltantes\n",
        "\n",
        "Otro problema común al trabajar con un conjunto de datos es cómo lidiar con los datos faltantes, representados como NaN (Not a mumber). Por definición, los datos faltantes son aquellos valores que no están disponibles, sin embargo, serían significativos si se observan. Estos datos se pueden generar, por ejemplo, por fallos en el instrumento de medida, personas que no asistieron a un examen o no contestaron algunas preguntas de una encuesta. Si no lidiamos con este tipo de datos, podemos tener problemas al momento de hacer nuestro análisis, teniendo sesgos considerables y una pérdida de la información.\n",
        " \n",
        "Los datos faltantes se clasifican en 3 tipos:\n",
        "* Missing At Random (MAR): Cuando la ausencia del dato faltante podría depender de los valores observados.\n",
        "* Missing Not at Random (MNAR): Cuando el dato faltante depende del valor de los datos no observados.\n",
        "* Missing Completely At Ramdom (MCAR): Si el evento de que cierto valor sea faltante es independiente de las variables observadas y no observadas, ocurren de manera aleatoria."
      ]
    },
    {
      "cell_type": "code",
      "execution_count": null,
      "metadata": {
        "id": "B9KjRpO-e7T5"
      },
      "outputs": [],
      "source": [
        "import numpy as np"
      ]
    },
    {
      "cell_type": "markdown",
      "metadata": {
        "id": "eoeuDfZee7T5"
      },
      "source": [
        "Dentro de la librería de numpy, podemos encontrar el objeto nan, el cual tiene propiedades matemáticas, al hacer cualquier tipo de operación con este tipo de dato, como suma, resta o multiplicación, obtenemos como resultado nan."
      ]
    },
    {
      "cell_type": "code",
      "execution_count": null,
      "metadata": {
        "id": "3zZSqs3De7T5",
        "outputId": "72f3c13a-997c-4d27-f5e4-8c7311715d97"
      },
      "outputs": [
        {
          "data": {
            "text/plain": [
              "nan"
            ]
          },
          "execution_count": 5,
          "metadata": {},
          "output_type": "execute_result"
        }
      ],
      "source": [
        "np.nan"
      ]
    },
    {
      "cell_type": "code",
      "execution_count": null,
      "metadata": {
        "id": "uQcY9OpLe7T6",
        "outputId": "d20cb007-5ef5-445a-c218-f8e6690f485f"
      },
      "outputs": [
        {
          "data": {
            "text/plain": [
              "nan"
            ]
          },
          "execution_count": 6,
          "metadata": {},
          "output_type": "execute_result"
        }
      ],
      "source": [
        "np.nan + 273"
      ]
    },
    {
      "cell_type": "markdown",
      "metadata": {
        "id": "CkEdfYA-e7T6"
      },
      "source": [
        "A continuación, generaremos un DataFrame que contendrá notas aleatorias entre 0 y 20 de 5 alumnos. Dentro de este DataFrame generado, 3 alumnos faltaron a la quinta práctica calificada teniendo como valor el objeto nan."
      ]
    },
    {
      "cell_type": "code",
      "execution_count": null,
      "metadata": {
        "id": "IywvVVvge7T7",
        "outputId": "92ff6ba8-2d3f-41b9-c6d8-a9af23dd8dba"
      },
      "outputs": [
        {
          "data": {
            "text/html": [
              "<div>\n",
              "<style scoped>\n",
              "    .dataframe tbody tr th:only-of-type {\n",
              "        vertical-align: middle;\n",
              "    }\n",
              "\n",
              "    .dataframe tbody tr th {\n",
              "        vertical-align: top;\n",
              "    }\n",
              "\n",
              "    .dataframe thead th {\n",
              "        text-align: right;\n",
              "    }\n",
              "</style>\n",
              "<table border=\"1\" class=\"dataframe\">\n",
              "  <thead>\n",
              "    <tr style=\"text-align: right;\">\n",
              "      <th></th>\n",
              "      <th>PC1</th>\n",
              "      <th>PC2</th>\n",
              "      <th>PC3</th>\n",
              "      <th>PC4</th>\n",
              "      <th>PC5</th>\n",
              "    </tr>\n",
              "  </thead>\n",
              "  <tbody>\n",
              "    <tr>\n",
              "      <th>0</th>\n",
              "      <td>18</td>\n",
              "      <td>6</td>\n",
              "      <td>2</td>\n",
              "      <td>11</td>\n",
              "      <td>NaN</td>\n",
              "    </tr>\n",
              "    <tr>\n",
              "      <th>1</th>\n",
              "      <td>1</td>\n",
              "      <td>8</td>\n",
              "      <td>9</td>\n",
              "      <td>10</td>\n",
              "      <td>13.0</td>\n",
              "    </tr>\n",
              "    <tr>\n",
              "      <th>2</th>\n",
              "      <td>7</td>\n",
              "      <td>3</td>\n",
              "      <td>14</td>\n",
              "      <td>3</td>\n",
              "      <td>NaN</td>\n",
              "    </tr>\n",
              "    <tr>\n",
              "      <th>3</th>\n",
              "      <td>7</td>\n",
              "      <td>8</td>\n",
              "      <td>13</td>\n",
              "      <td>19</td>\n",
              "      <td>13.0</td>\n",
              "    </tr>\n",
              "    <tr>\n",
              "      <th>4</th>\n",
              "      <td>9</td>\n",
              "      <td>2</td>\n",
              "      <td>13</td>\n",
              "      <td>14</td>\n",
              "      <td>NaN</td>\n",
              "    </tr>\n",
              "  </tbody>\n",
              "</table>\n",
              "</div>"
            ],
            "text/plain": [
              "   PC1  PC2  PC3  PC4   PC5\n",
              "0   18    6    2   11   NaN\n",
              "1    1    8    9   10  13.0\n",
              "2    7    3   14    3   NaN\n",
              "3    7    8   13   19  13.0\n",
              "4    9    2   13   14   NaN"
            ]
          },
          "execution_count": 8,
          "metadata": {},
          "output_type": "execute_result"
        }
      ],
      "source": [
        "notas = [[np.random.randint(0,20) for i in range(5)] for i in range(5)]\n",
        "df = pd.DataFrame(notas, columns=['PC1', 'PC2', 'PC3','PC4', 'PC5'])\n",
        "df.loc[::2, 'PC5'] = np.nan\n",
        "df"
      ]
    },
    {
      "cell_type": "markdown",
      "metadata": {
        "id": "DOaXYPGne7T7"
      },
      "source": [
        "En este DataFrame generado es fácil identificar que datos son nulos y que datos no lo son, sin embargo, habrá veces en las que no será tan sencillo identificarlos de manera visual. Dentro de librería de pandas, tenemos el método *isnull* que nos permite reconocer si un objeto es nulo o no, además si a este método le concatenamos el método *sum* obtenemos la cantidad de elementos faltantes por columnas."
      ]
    },
    {
      "cell_type": "code",
      "execution_count": null,
      "metadata": {
        "id": "rFuCc7uKe7T7",
        "outputId": "b8d35856-2ca3-4a11-ee2b-95015eccd647"
      },
      "outputs": [
        {
          "data": {
            "text/html": [
              "<div>\n",
              "<style scoped>\n",
              "    .dataframe tbody tr th:only-of-type {\n",
              "        vertical-align: middle;\n",
              "    }\n",
              "\n",
              "    .dataframe tbody tr th {\n",
              "        vertical-align: top;\n",
              "    }\n",
              "\n",
              "    .dataframe thead th {\n",
              "        text-align: right;\n",
              "    }\n",
              "</style>\n",
              "<table border=\"1\" class=\"dataframe\">\n",
              "  <thead>\n",
              "    <tr style=\"text-align: right;\">\n",
              "      <th></th>\n",
              "      <th>PC1</th>\n",
              "      <th>PC2</th>\n",
              "      <th>PC3</th>\n",
              "      <th>PC4</th>\n",
              "      <th>PC5</th>\n",
              "    </tr>\n",
              "  </thead>\n",
              "  <tbody>\n",
              "    <tr>\n",
              "      <th>0</th>\n",
              "      <td>False</td>\n",
              "      <td>False</td>\n",
              "      <td>False</td>\n",
              "      <td>False</td>\n",
              "      <td>True</td>\n",
              "    </tr>\n",
              "    <tr>\n",
              "      <th>1</th>\n",
              "      <td>False</td>\n",
              "      <td>False</td>\n",
              "      <td>False</td>\n",
              "      <td>False</td>\n",
              "      <td>False</td>\n",
              "    </tr>\n",
              "    <tr>\n",
              "      <th>2</th>\n",
              "      <td>False</td>\n",
              "      <td>False</td>\n",
              "      <td>False</td>\n",
              "      <td>False</td>\n",
              "      <td>True</td>\n",
              "    </tr>\n",
              "    <tr>\n",
              "      <th>3</th>\n",
              "      <td>False</td>\n",
              "      <td>False</td>\n",
              "      <td>False</td>\n",
              "      <td>False</td>\n",
              "      <td>False</td>\n",
              "    </tr>\n",
              "    <tr>\n",
              "      <th>4</th>\n",
              "      <td>False</td>\n",
              "      <td>False</td>\n",
              "      <td>False</td>\n",
              "      <td>False</td>\n",
              "      <td>True</td>\n",
              "    </tr>\n",
              "  </tbody>\n",
              "</table>\n",
              "</div>"
            ],
            "text/plain": [
              "     PC1    PC2    PC3    PC4    PC5\n",
              "0  False  False  False  False   True\n",
              "1  False  False  False  False  False\n",
              "2  False  False  False  False   True\n",
              "3  False  False  False  False  False\n",
              "4  False  False  False  False   True"
            ]
          },
          "execution_count": 9,
          "metadata": {},
          "output_type": "execute_result"
        }
      ],
      "source": [
        "df.isnull()"
      ]
    },
    {
      "cell_type": "code",
      "execution_count": null,
      "metadata": {
        "id": "X46VAE4ne7T7",
        "outputId": "bc6f6c01-b103-4f4b-880e-84825b9a9384"
      },
      "outputs": [
        {
          "data": {
            "text/plain": [
              "PC1    0\n",
              "PC2    0\n",
              "PC3    0\n",
              "PC4    0\n",
              "PC5    3\n",
              "dtype: int64"
            ]
          },
          "execution_count": 10,
          "metadata": {},
          "output_type": "execute_result"
        }
      ],
      "source": [
        "df.isnull().sum()"
      ]
    },
    {
      "cell_type": "markdown",
      "metadata": {
        "id": "J7f6nZsOe7T7"
      },
      "source": [
        "Similar a *isnull*, tenemos el método *notnull* que nos muestra los datos que no son faltantes. Además, le podemos agregar como parámetro axis=1, para que se aplique esta búsqueda a nivel de filas."
      ]
    },
    {
      "cell_type": "code",
      "execution_count": null,
      "metadata": {
        "id": "zUrvS-G7e7T8",
        "outputId": "d3381fe9-ee00-4ffb-bb5c-4808c2eb426e"
      },
      "outputs": [
        {
          "data": {
            "text/plain": [
              "0    4\n",
              "1    5\n",
              "2    4\n",
              "3    5\n",
              "4    4\n",
              "dtype: int64"
            ]
          },
          "execution_count": 11,
          "metadata": {},
          "output_type": "execute_result"
        }
      ],
      "source": [
        "df.notnull().sum(axis=1)"
      ]
    },
    {
      "cell_type": "markdown",
      "metadata": {
        "id": "iN9jdqYUe7T8"
      },
      "source": [
        "Podemos obtener la cantidad de elementos nulos de todo nuestro DataFrame de la siguiente manera:"
      ]
    },
    {
      "cell_type": "code",
      "execution_count": null,
      "metadata": {
        "id": "_TvEqkNGe7T8",
        "outputId": "61c9e237-a518-4ee9-bc38-0a5c17129536"
      },
      "outputs": [
        {
          "data": {
            "text/plain": [
              "3"
            ]
          },
          "execution_count": 12,
          "metadata": {},
          "output_type": "execute_result"
        }
      ],
      "source": [
        "df.size-df.notnull().sum().sum()"
      ]
    },
    {
      "cell_type": "markdown",
      "metadata": {
        "id": "r5uaiU1fe7T8"
      },
      "source": [
        "Inclusive podemos usar la identificación de datos nulos y no nulos para hacer filtros en nuestro DataFrame."
      ]
    },
    {
      "cell_type": "code",
      "execution_count": null,
      "metadata": {
        "id": "HLNE06Vwe7T8",
        "outputId": "2d46e8c2-cfd8-4d7f-f4cf-46fc788563bb"
      },
      "outputs": [
        {
          "data": {
            "text/html": [
              "<div>\n",
              "<style scoped>\n",
              "    .dataframe tbody tr th:only-of-type {\n",
              "        vertical-align: middle;\n",
              "    }\n",
              "\n",
              "    .dataframe tbody tr th {\n",
              "        vertical-align: top;\n",
              "    }\n",
              "\n",
              "    .dataframe thead th {\n",
              "        text-align: right;\n",
              "    }\n",
              "</style>\n",
              "<table border=\"1\" class=\"dataframe\">\n",
              "  <thead>\n",
              "    <tr style=\"text-align: right;\">\n",
              "      <th></th>\n",
              "      <th>PC1</th>\n",
              "      <th>PC2</th>\n",
              "      <th>PC3</th>\n",
              "      <th>PC4</th>\n",
              "      <th>PC5</th>\n",
              "    </tr>\n",
              "  </thead>\n",
              "  <tbody>\n",
              "    <tr>\n",
              "      <th>1</th>\n",
              "      <td>1</td>\n",
              "      <td>8</td>\n",
              "      <td>9</td>\n",
              "      <td>10</td>\n",
              "      <td>13.0</td>\n",
              "    </tr>\n",
              "    <tr>\n",
              "      <th>3</th>\n",
              "      <td>7</td>\n",
              "      <td>8</td>\n",
              "      <td>13</td>\n",
              "      <td>19</td>\n",
              "      <td>13.0</td>\n",
              "    </tr>\n",
              "  </tbody>\n",
              "</table>\n",
              "</div>"
            ],
            "text/plain": [
              "   PC1  PC2  PC3  PC4   PC5\n",
              "1    1    8    9   10  13.0\n",
              "3    7    8   13   19  13.0"
            ]
          },
          "execution_count": 13,
          "metadata": {},
          "output_type": "execute_result"
        }
      ],
      "source": [
        "df[df['PC5'].notnull()]"
      ]
    },
    {
      "cell_type": "markdown",
      "metadata": {
        "id": "O-WREsnLe7T8"
      },
      "source": [
        "Si queremos eliminar las filas con registros faltantes, usamos el método *dropna*."
      ]
    },
    {
      "cell_type": "code",
      "execution_count": null,
      "metadata": {
        "id": "7PjQNzmTe7T9",
        "outputId": "552865f1-3fe0-4c24-f5ed-02d31df688e1"
      },
      "outputs": [
        {
          "data": {
            "text/plain": [
              "1    13.0\n",
              "3    13.0\n",
              "Name: PC5, dtype: float64"
            ]
          },
          "execution_count": 14,
          "metadata": {},
          "output_type": "execute_result"
        }
      ],
      "source": [
        "df['PC5'].dropna()"
      ]
    },
    {
      "cell_type": "markdown",
      "metadata": {
        "id": "tGkITi8Te7T9"
      },
      "source": [
        "Sin embargo, eliminar toda la fila en la que solo una columna tiene un dato faltante podría ser perjudicial para nuestro análisis, para nuestro ejemplo, al ser notas del alumno, estaríamos eliminando todas las notas de un alumno. Algo que definitivamente no queremos. Lo que generalmente se hace con este tipo de datos, es llenarlos con un valor, como se muestra a continuación:"
      ]
    },
    {
      "cell_type": "code",
      "execution_count": null,
      "metadata": {
        "id": "xOnDJzLle7T9",
        "outputId": "61468d61-a667-4762-8d84-67cb575631f6"
      },
      "outputs": [
        {
          "data": {
            "text/html": [
              "<div>\n",
              "<style scoped>\n",
              "    .dataframe tbody tr th:only-of-type {\n",
              "        vertical-align: middle;\n",
              "    }\n",
              "\n",
              "    .dataframe tbody tr th {\n",
              "        vertical-align: top;\n",
              "    }\n",
              "\n",
              "    .dataframe thead th {\n",
              "        text-align: right;\n",
              "    }\n",
              "</style>\n",
              "<table border=\"1\" class=\"dataframe\">\n",
              "  <thead>\n",
              "    <tr style=\"text-align: right;\">\n",
              "      <th></th>\n",
              "      <th>PC1</th>\n",
              "      <th>PC2</th>\n",
              "      <th>PC3</th>\n",
              "      <th>PC4</th>\n",
              "      <th>PC5</th>\n",
              "    </tr>\n",
              "  </thead>\n",
              "  <tbody>\n",
              "    <tr>\n",
              "      <th>0</th>\n",
              "      <td>18</td>\n",
              "      <td>6</td>\n",
              "      <td>2</td>\n",
              "      <td>11</td>\n",
              "      <td>0.0</td>\n",
              "    </tr>\n",
              "    <tr>\n",
              "      <th>1</th>\n",
              "      <td>1</td>\n",
              "      <td>8</td>\n",
              "      <td>9</td>\n",
              "      <td>10</td>\n",
              "      <td>13.0</td>\n",
              "    </tr>\n",
              "    <tr>\n",
              "      <th>2</th>\n",
              "      <td>7</td>\n",
              "      <td>3</td>\n",
              "      <td>14</td>\n",
              "      <td>3</td>\n",
              "      <td>0.0</td>\n",
              "    </tr>\n",
              "    <tr>\n",
              "      <th>3</th>\n",
              "      <td>7</td>\n",
              "      <td>8</td>\n",
              "      <td>13</td>\n",
              "      <td>19</td>\n",
              "      <td>13.0</td>\n",
              "    </tr>\n",
              "    <tr>\n",
              "      <th>4</th>\n",
              "      <td>9</td>\n",
              "      <td>2</td>\n",
              "      <td>13</td>\n",
              "      <td>14</td>\n",
              "      <td>0.0</td>\n",
              "    </tr>\n",
              "  </tbody>\n",
              "</table>\n",
              "</div>"
            ],
            "text/plain": [
              "   PC1  PC2  PC3  PC4   PC5\n",
              "0   18    6    2   11   0.0\n",
              "1    1    8    9   10  13.0\n",
              "2    7    3   14    3   0.0\n",
              "3    7    8   13   19  13.0\n",
              "4    9    2   13   14   0.0"
            ]
          },
          "execution_count": 15,
          "metadata": {},
          "output_type": "execute_result"
        }
      ],
      "source": [
        "df.fillna(0)"
      ]
    },
    {
      "cell_type": "markdown",
      "metadata": {
        "id": "2sdrLfdpe7T9"
      },
      "source": [
        "Existen otras formas de llenar estos datos faltantes, por ejemplo con el método ffill que reemplazamos este dato, con el valor que lo antepone o el método bfill que lo reemplaza con el valor que le sigue."
      ]
    },
    {
      "cell_type": "code",
      "execution_count": null,
      "metadata": {
        "id": "rHgLv-Y7e7T9",
        "outputId": "f3ddb1bc-1314-4806-9ee3-0ed652f3e00d"
      },
      "outputs": [
        {
          "data": {
            "text/html": [
              "<div>\n",
              "<style scoped>\n",
              "    .dataframe tbody tr th:only-of-type {\n",
              "        vertical-align: middle;\n",
              "    }\n",
              "\n",
              "    .dataframe tbody tr th {\n",
              "        vertical-align: top;\n",
              "    }\n",
              "\n",
              "    .dataframe thead th {\n",
              "        text-align: right;\n",
              "    }\n",
              "</style>\n",
              "<table border=\"1\" class=\"dataframe\">\n",
              "  <thead>\n",
              "    <tr style=\"text-align: right;\">\n",
              "      <th></th>\n",
              "      <th>PC1</th>\n",
              "      <th>PC2</th>\n",
              "      <th>PC3</th>\n",
              "      <th>PC4</th>\n",
              "      <th>PC5</th>\n",
              "    </tr>\n",
              "  </thead>\n",
              "  <tbody>\n",
              "    <tr>\n",
              "      <th>0</th>\n",
              "      <td>18.0</td>\n",
              "      <td>6.0</td>\n",
              "      <td>2.0</td>\n",
              "      <td>11.0</td>\n",
              "      <td>11.0</td>\n",
              "    </tr>\n",
              "    <tr>\n",
              "      <th>1</th>\n",
              "      <td>1.0</td>\n",
              "      <td>8.0</td>\n",
              "      <td>9.0</td>\n",
              "      <td>10.0</td>\n",
              "      <td>13.0</td>\n",
              "    </tr>\n",
              "    <tr>\n",
              "      <th>2</th>\n",
              "      <td>7.0</td>\n",
              "      <td>3.0</td>\n",
              "      <td>14.0</td>\n",
              "      <td>3.0</td>\n",
              "      <td>3.0</td>\n",
              "    </tr>\n",
              "    <tr>\n",
              "      <th>3</th>\n",
              "      <td>7.0</td>\n",
              "      <td>8.0</td>\n",
              "      <td>13.0</td>\n",
              "      <td>19.0</td>\n",
              "      <td>13.0</td>\n",
              "    </tr>\n",
              "    <tr>\n",
              "      <th>4</th>\n",
              "      <td>9.0</td>\n",
              "      <td>2.0</td>\n",
              "      <td>13.0</td>\n",
              "      <td>14.0</td>\n",
              "      <td>14.0</td>\n",
              "    </tr>\n",
              "  </tbody>\n",
              "</table>\n",
              "</div>"
            ],
            "text/plain": [
              "    PC1  PC2   PC3   PC4   PC5\n",
              "0  18.0  6.0   2.0  11.0  11.0\n",
              "1   1.0  8.0   9.0  10.0  13.0\n",
              "2   7.0  3.0  14.0   3.0   3.0\n",
              "3   7.0  8.0  13.0  19.0  13.0\n",
              "4   9.0  2.0  13.0  14.0  14.0"
            ]
          },
          "execution_count": 16,
          "metadata": {},
          "output_type": "execute_result"
        }
      ],
      "source": [
        "df.fillna(method='ffill', axis=1)"
      ]
    },
    {
      "cell_type": "code",
      "execution_count": null,
      "metadata": {
        "id": "YGRAZ1BYe7T-",
        "outputId": "52c06331-9ef7-4195-8feb-c545dc078cce"
      },
      "outputs": [
        {
          "data": {
            "text/html": [
              "<div>\n",
              "<style scoped>\n",
              "    .dataframe tbody tr th:only-of-type {\n",
              "        vertical-align: middle;\n",
              "    }\n",
              "\n",
              "    .dataframe tbody tr th {\n",
              "        vertical-align: top;\n",
              "    }\n",
              "\n",
              "    .dataframe thead th {\n",
              "        text-align: right;\n",
              "    }\n",
              "</style>\n",
              "<table border=\"1\" class=\"dataframe\">\n",
              "  <thead>\n",
              "    <tr style=\"text-align: right;\">\n",
              "      <th></th>\n",
              "      <th>PC1</th>\n",
              "      <th>PC2</th>\n",
              "      <th>PC3</th>\n",
              "      <th>PC4</th>\n",
              "      <th>PC5</th>\n",
              "    </tr>\n",
              "  </thead>\n",
              "  <tbody>\n",
              "    <tr>\n",
              "      <th>0</th>\n",
              "      <td>18</td>\n",
              "      <td>6</td>\n",
              "      <td>2</td>\n",
              "      <td>11</td>\n",
              "      <td>13.0</td>\n",
              "    </tr>\n",
              "    <tr>\n",
              "      <th>1</th>\n",
              "      <td>1</td>\n",
              "      <td>8</td>\n",
              "      <td>9</td>\n",
              "      <td>10</td>\n",
              "      <td>13.0</td>\n",
              "    </tr>\n",
              "    <tr>\n",
              "      <th>2</th>\n",
              "      <td>7</td>\n",
              "      <td>3</td>\n",
              "      <td>14</td>\n",
              "      <td>3</td>\n",
              "      <td>13.0</td>\n",
              "    </tr>\n",
              "    <tr>\n",
              "      <th>3</th>\n",
              "      <td>7</td>\n",
              "      <td>8</td>\n",
              "      <td>13</td>\n",
              "      <td>19</td>\n",
              "      <td>13.0</td>\n",
              "    </tr>\n",
              "    <tr>\n",
              "      <th>4</th>\n",
              "      <td>9</td>\n",
              "      <td>2</td>\n",
              "      <td>13</td>\n",
              "      <td>14</td>\n",
              "      <td>NaN</td>\n",
              "    </tr>\n",
              "  </tbody>\n",
              "</table>\n",
              "</div>"
            ],
            "text/plain": [
              "   PC1  PC2  PC3  PC4   PC5\n",
              "0   18    6    2   11  13.0\n",
              "1    1    8    9   10  13.0\n",
              "2    7    3   14    3  13.0\n",
              "3    7    8   13   19  13.0\n",
              "4    9    2   13   14   NaN"
            ]
          },
          "execution_count": 17,
          "metadata": {},
          "output_type": "execute_result"
        }
      ],
      "source": [
        "df.fillna(method='bfill')"
      ]
    },
    {
      "cell_type": "markdown",
      "metadata": {
        "id": "hmZshmLee7T-"
      },
      "source": [
        "En la mayoría de casos, para reemplazar los datos faltantes, usamos la media, como por ejemplo, sería, colocar como valor la media de las notas en la cuarta PC."
      ]
    },
    {
      "cell_type": "code",
      "execution_count": null,
      "metadata": {
        "id": "0eqXeHWze7T-",
        "outputId": "c09afdb5-b7e8-4617-d55f-89fefdd342d9"
      },
      "outputs": [
        {
          "data": {
            "text/html": [
              "<div>\n",
              "<style scoped>\n",
              "    .dataframe tbody tr th:only-of-type {\n",
              "        vertical-align: middle;\n",
              "    }\n",
              "\n",
              "    .dataframe tbody tr th {\n",
              "        vertical-align: top;\n",
              "    }\n",
              "\n",
              "    .dataframe thead th {\n",
              "        text-align: right;\n",
              "    }\n",
              "</style>\n",
              "<table border=\"1\" class=\"dataframe\">\n",
              "  <thead>\n",
              "    <tr style=\"text-align: right;\">\n",
              "      <th></th>\n",
              "      <th>PC1</th>\n",
              "      <th>PC2</th>\n",
              "      <th>PC3</th>\n",
              "      <th>PC4</th>\n",
              "      <th>PC5</th>\n",
              "    </tr>\n",
              "  </thead>\n",
              "  <tbody>\n",
              "    <tr>\n",
              "      <th>0</th>\n",
              "      <td>18</td>\n",
              "      <td>6</td>\n",
              "      <td>2</td>\n",
              "      <td>11</td>\n",
              "      <td>11.0</td>\n",
              "    </tr>\n",
              "    <tr>\n",
              "      <th>1</th>\n",
              "      <td>1</td>\n",
              "      <td>8</td>\n",
              "      <td>9</td>\n",
              "      <td>10</td>\n",
              "      <td>13.0</td>\n",
              "    </tr>\n",
              "    <tr>\n",
              "      <th>2</th>\n",
              "      <td>7</td>\n",
              "      <td>3</td>\n",
              "      <td>14</td>\n",
              "      <td>3</td>\n",
              "      <td>11.0</td>\n",
              "    </tr>\n",
              "    <tr>\n",
              "      <th>3</th>\n",
              "      <td>7</td>\n",
              "      <td>8</td>\n",
              "      <td>13</td>\n",
              "      <td>19</td>\n",
              "      <td>13.0</td>\n",
              "    </tr>\n",
              "    <tr>\n",
              "      <th>4</th>\n",
              "      <td>9</td>\n",
              "      <td>2</td>\n",
              "      <td>13</td>\n",
              "      <td>14</td>\n",
              "      <td>11.0</td>\n",
              "    </tr>\n",
              "  </tbody>\n",
              "</table>\n",
              "</div>"
            ],
            "text/plain": [
              "   PC1  PC2  PC3  PC4   PC5\n",
              "0   18    6    2   11  11.0\n",
              "1    1    8    9   10  13.0\n",
              "2    7    3   14    3  11.0\n",
              "3    7    8   13   19  13.0\n",
              "4    9    2   13   14  11.0"
            ]
          },
          "execution_count": 18,
          "metadata": {},
          "output_type": "execute_result"
        }
      ],
      "source": [
        "df.fillna(df['PC4'].median())"
      ]
    },
    {
      "cell_type": "markdown",
      "metadata": {
        "id": "qZTKD7Qme7T-"
      },
      "source": [
        "Por último, podemos llenar estos datos, haciendo uso de una interpolación."
      ]
    },
    {
      "cell_type": "code",
      "execution_count": null,
      "metadata": {
        "id": "FrTmPtvCe7T-",
        "outputId": "e0663f48-98c7-43ed-a5c6-8033dda6bd2e"
      },
      "outputs": [
        {
          "data": {
            "text/html": [
              "<div>\n",
              "<style scoped>\n",
              "    .dataframe tbody tr th:only-of-type {\n",
              "        vertical-align: middle;\n",
              "    }\n",
              "\n",
              "    .dataframe tbody tr th {\n",
              "        vertical-align: top;\n",
              "    }\n",
              "\n",
              "    .dataframe thead th {\n",
              "        text-align: right;\n",
              "    }\n",
              "</style>\n",
              "<table border=\"1\" class=\"dataframe\">\n",
              "  <thead>\n",
              "    <tr style=\"text-align: right;\">\n",
              "      <th></th>\n",
              "      <th>d_antes</th>\n",
              "      <th>d_interpolado</th>\n",
              "    </tr>\n",
              "  </thead>\n",
              "  <tbody>\n",
              "    <tr>\n",
              "      <th>0</th>\n",
              "      <td>NaN</td>\n",
              "      <td>NaN</td>\n",
              "    </tr>\n",
              "    <tr>\n",
              "      <th>1</th>\n",
              "      <td>13.0</td>\n",
              "      <td>13.0</td>\n",
              "    </tr>\n",
              "    <tr>\n",
              "      <th>2</th>\n",
              "      <td>NaN</td>\n",
              "      <td>13.0</td>\n",
              "    </tr>\n",
              "    <tr>\n",
              "      <th>3</th>\n",
              "      <td>13.0</td>\n",
              "      <td>13.0</td>\n",
              "    </tr>\n",
              "    <tr>\n",
              "      <th>4</th>\n",
              "      <td>NaN</td>\n",
              "      <td>13.0</td>\n",
              "    </tr>\n",
              "  </tbody>\n",
              "</table>\n",
              "</div>"
            ],
            "text/plain": [
              "   d_antes  d_interpolado\n",
              "0      NaN            NaN\n",
              "1     13.0           13.0\n",
              "2      NaN           13.0\n",
              "3     13.0           13.0\n",
              "4      NaN           13.0"
            ]
          },
          "execution_count": 19,
          "metadata": {},
          "output_type": "execute_result"
        }
      ],
      "source": [
        "df_d = pd.concat([df[['PC5']], df[['PC5']].interpolate()],axis=1)\n",
        "df_d.columns = ['d_antes','d_interpolado']\n",
        "df_d\n"
      ]
    }
  ],
  "metadata": {
    "colab": {
      "collapsed_sections": [],
      "name": "PFDS5_Datos_Duplicados_y_Faltantes.ipynb",
      "provenance": [],
      "toc_visible": true
    },
    "deepnote": {},
    "deepnote_execution_queue": [],
    "deepnote_notebook_id": "28b9364a-d7f3-40c5-a066-b556227f0d76",
    "interpreter": {
      "hash": "568a22c9cab12376fc7d578725a09d5aa8bff0eb67624256ed647bcf9e0950c5"
    },
    "kernelspec": {
      "display_name": "Python 3 (ipykernel)",
      "language": "python",
      "name": "python3"
    },
    "language_info": {
      "codemirror_mode": {
        "name": "ipython",
        "version": 3
      },
      "file_extension": ".py",
      "mimetype": "text/x-python",
      "name": "python",
      "nbconvert_exporter": "python",
      "pygments_lexer": "ipython3",
      "version": "3.8.11"
    }
  },
  "nbformat": 4,
  "nbformat_minor": 0
}
