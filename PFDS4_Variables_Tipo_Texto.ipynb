{
  "cells": [
    {
      "cell_type": "code",
      "execution_count": null,
      "metadata": {
        "cellView": "form",
        "id": "gTwj-nqKe2Z5"
      },
      "outputs": [],
      "source": [
        "# MIT License\n",
        "\n",
        "# Copyright (c) 2021 GDSC UNI\n",
        "\n",
        "# Permission is hereby granted, free of charge, to any person obtaining a copy\n",
        "# of this software and associated documentation files (the \"Software\"), to deal\n",
        "# in the Software without restriction, including without limitation the rights\n",
        "# to use, copy, modify, merge, publish, distribute, sublicense, and/or sell\n",
        "# copies of the Software, and to permit persons to whom the Software is\n",
        "# furnished to do so, subject to the following conditions:\n",
        "\n",
        "# The above copyright notice and this permission notice shall be included in all\n",
        "# copies or substantial portions of the Software.\n",
        "\n",
        "# THE SOFTWARE IS PROVIDED \"AS IS\", WITHOUT WARRANTY OF ANY KIND, EXPRESS OR\n",
        "# IMPLIED, INCLUDING BUT NOT LIMITED TO THE WARRANTIES OF MERCHANTABILITY,\n",
        "# FITNESS FOR A PARTICULAR PURPOSE AND NONINFRINGEMENT. IN NO EVENT SHALL THE\n",
        "# AUTHORS OR COPYRIGHT HOLDERS BE LIABLE FOR ANY CLAIM, DAMAGES OR OTHER\n",
        "# LIABILITY, WHETHER IN AN ACTION OF CONTRACT, TORT OR OTHERWISE, ARISING FROM,\n",
        "# OUT OF OR IN CONNECTION WITH THE SOFTWARE OR THE USE OR OTHER DEALINGS IN THE\n",
        "# SOFTWARE."
      ]
    },
    {
      "cell_type": "markdown",
      "metadata": {
        "cell_id": "00000-9d33d5dc-acb2-435e-ad4b-0019026e0ebf",
        "deepnote_cell_type": "markdown",
        "id": "IBAyWoyVex2O"
      },
      "source": [
        "<table align=\"center\">\n",
        "  <td align=\"center\"><a target=\"_blank\" href=\"https://gdsc.community.dev/universidad-nacional-de-ingenieria/\">\n",
        "        <img src=\"https://i.ibb.co/pX2w52P/GDSC.png\" style=\"padding-bottom:5px;\" />\n",
        "      View GDSC UNI</a></td>\n",
        "\n",
        "  <td align=\"center\"><a target=\"_blank\" href=\"https://colab.research.google.com/drive/10OWB6xoxnXxL-DWrmiAzkRFS0OYfv95K?usp=sharing\">\n",
        "        <img src=\"https://i.ibb.co/Bf0HK0q/Colaboratory.png\"  style=\"padding-bottom:5px;\" />Run in Google Colab </a></td>\n",
        "\n",
        "\n",
        "  <td align=\"center\"><a target=\"_blank\" href=\"https://github.com/GDSC-UNI/Pandas-For-Data-Science/PFDS4_Variables_Tipo_Texto.ipynb\">\n",
        "        <img src=\"https://i.ibb.co/VHHdRx2/Github.png\"  height=\"110px\" style=\"padding-bottom:5px;\"/>View source on GitHub</a></td>\n",
        "</table>\n"
      ]
    },
    {
      "cell_type": "markdown",
      "metadata": {
        "id": "0dF8alKOex2T"
      },
      "source": [
        "<h1></h1>"
      ]
    },
    {
      "cell_type": "markdown",
      "metadata": {
        "cell_id": "00002-9d68e669-ec01-4133-90fb-4a42cde138cd",
        "deepnote_cell_type": "markdown",
        "id": "HGNY5YA4ex2T"
      },
      "source": [
        "<h1 style=\"font-size:42px; text-align:center; margin-bottom:30px;\"><span style=\"color:#000080\">PFDS4:</span> Variables Tipo Textos</h1>\n",
        "<hr>"
      ]
    },
    {
      "cell_type": "markdown",
      "metadata": {
        "cell_id": "00003-0f3fb553-7aad-4c2f-a92f-39c0775bcc58",
        "deepnote_cell_type": "markdown",
        "id": "haCTigWoex2U"
      },
      "source": [
        "Existe un subcampo dentro del Machine Learning llamado *Natural lenguage Processing* (NLP), en el que se trabajan con variables tipo texto. Pandas, es de mucha utilidad a la hora de interactuar con estas variables. Antes de mostrar las funcionalidades, crearemos un DataFrame con el que trabajaremos a lo largo de este notebook."
      ]
    },
    {
      "cell_type": "code",
      "execution_count": null,
      "metadata": {
        "cell_id": "00004-7028228c-dfa2-4027-afba-c0c71ee66464",
        "deepnote_cell_type": "code",
        "id": "zXPsWto4ex2U"
      },
      "outputs": [],
      "source": [
        "import pandas as pd"
      ]
    },
    {
      "cell_type": "code",
      "execution_count": null,
      "metadata": {
        "cell_id": "00005-dabe2590-7a07-41f6-b466-11d6326c8bee",
        "deepnote_cell_type": "code",
        "id": "XH9GOEFZex2V",
        "outputId": "6078d945-cb79-466e-d739-82f5eade2e94"
      },
      "outputs": [
        {
          "data": {
            "text/html": [
              "<div>\n",
              "<style scoped>\n",
              "    .dataframe tbody tr th:only-of-type {\n",
              "        vertical-align: middle;\n",
              "    }\n",
              "\n",
              "    .dataframe tbody tr th {\n",
              "        vertical-align: top;\n",
              "    }\n",
              "\n",
              "    .dataframe thead th {\n",
              "        text-align: right;\n",
              "    }\n",
              "</style>\n",
              "<table border=\"1\" class=\"dataframe\">\n",
              "  <thead>\n",
              "    <tr style=\"text-align: right;\">\n",
              "      <th></th>\n",
              "      <th>names</th>\n",
              "    </tr>\n",
              "  </thead>\n",
              "  <tbody>\n",
              "    <tr>\n",
              "      <th>0</th>\n",
              "      <td>Margaret Hamilton25</td>\n",
              "    </tr>\n",
              "    <tr>\n",
              "      <th>1</th>\n",
              "      <td>Donald Knuth14</td>\n",
              "    </tr>\n",
              "    <tr>\n",
              "      <th>2</th>\n",
              "      <td>Ken Thompson13</td>\n",
              "    </tr>\n",
              "    <tr>\n",
              "      <th>3</th>\n",
              "      <td>Linus Torvalds18</td>\n",
              "    </tr>\n",
              "  </tbody>\n",
              "</table>\n",
              "</div>"
            ],
            "text/plain": [
              "                 names\n",
              "0  Margaret Hamilton25\n",
              "1       Donald Knuth14\n",
              "2       Ken Thompson13\n",
              "3     Linus Torvalds18"
            ]
          },
          "execution_count": 2,
          "metadata": {},
          "output_type": "execute_result"
        }
      ],
      "source": [
        "data = { 'names': [ 'Margaret Hamilton25',\n",
        "                    'Donald Knuth14',\n",
        "                    'Ken Thompson13',\n",
        "                    'Linus Torvalds18'\n",
        "]}\n",
        "\n",
        "df = pd.DataFrame(data)\n",
        "df"
      ]
    },
    {
      "cell_type": "markdown",
      "metadata": {
        "cell_id": "00006-e8ab207c-7566-438a-ab1f-bb74defac408",
        "deepnote_cell_type": "markdown",
        "id": "K2x8z9CIex2X"
      },
      "source": [
        "Pandas nos permite usar métodos asociadas a los string usando *str* en nuestro DataFrame, tal como se muestra a continuación:"
      ]
    },
    {
      "cell_type": "code",
      "execution_count": null,
      "metadata": {
        "cell_id": "00007-fa5f7be5-e22a-47d8-bf04-cabf3a73de05",
        "deepnote_cell_type": "code",
        "id": "SbWyYCZ8ex2Y",
        "outputId": "00b0adec-67ee-4176-fe05-4fcd39738557"
      },
      "outputs": [
        {
          "data": {
            "text/plain": [
              "0    margaret hamilton25\n",
              "1         donald knuth14\n",
              "2         ken thompson13\n",
              "3       linus torvalds18\n",
              "Name: names, dtype: object"
            ]
          },
          "execution_count": 3,
          "metadata": {},
          "output_type": "execute_result"
        }
      ],
      "source": [
        "df['names'].str.lower()"
      ]
    },
    {
      "cell_type": "code",
      "execution_count": null,
      "metadata": {
        "cell_id": "00008-bcceb777-5b92-43af-b386-072e593afaca",
        "deepnote_cell_type": "code",
        "id": "30f_7I4Dex2Y",
        "outputId": "6bfd8983-8be1-4cef-bdbc-6353d8902954"
      },
      "outputs": [
        {
          "data": {
            "text/plain": [
              "0    MARGARET HAMILTON25\n",
              "1         DONALD KNUTH14\n",
              "2         KEN THOMPSON13\n",
              "3       LINUS TORVALDS18\n",
              "Name: names, dtype: object"
            ]
          },
          "execution_count": 4,
          "metadata": {},
          "output_type": "execute_result"
        }
      ],
      "source": [
        "df['names'].str.upper()"
      ]
    },
    {
      "cell_type": "code",
      "execution_count": null,
      "metadata": {
        "cell_id": "00009-fad2d091-d0f5-4f81-a426-9c1928ee8eb8",
        "deepnote_cell_type": "code",
        "id": "bfygNRpLex2Z",
        "outputId": "e08c7ca8-e276-4f5a-d122-1c42bf6767b0"
      },
      "outputs": [
        {
          "data": {
            "text/plain": [
              "0    Margaret hamilton25\n",
              "1         Donald knuth14\n",
              "2         Ken thompson13\n",
              "3       Linus torvalds18\n",
              "Name: names, dtype: object"
            ]
          },
          "execution_count": 5,
          "metadata": {},
          "output_type": "execute_result"
        }
      ],
      "source": [
        "df['names'].str.capitalize()"
      ]
    },
    {
      "cell_type": "code",
      "execution_count": null,
      "metadata": {
        "cell_id": "00010-822033bb-f155-4f5a-b828-9bb741e52cf6",
        "deepnote_cell_type": "code",
        "id": "OESKB2ifex2a",
        "outputId": "09d347ac-c866-4a83-bde5-4b4b8bc34818"
      },
      "outputs": [
        {
          "data": {
            "text/plain": [
              "0    19\n",
              "1    14\n",
              "2    14\n",
              "3    16\n",
              "Name: names, dtype: int64"
            ]
          },
          "execution_count": 6,
          "metadata": {},
          "output_type": "execute_result"
        }
      ],
      "source": [
        "df['names'].str.len()"
      ]
    },
    {
      "cell_type": "code",
      "execution_count": null,
      "metadata": {
        "cell_id": "00011-ac2a8f9e-3de4-42dd-ac7d-bf9c5d7b953e",
        "deepnote_cell_type": "code",
        "id": "WHmNxaBTex2a",
        "outputId": "5e9b7687-6e95-40f4-ef73-683c893d95f4"
      },
      "outputs": [
        {
          "data": {
            "text/plain": [
              "0    [Margaret, Hamilton25]\n",
              "1         [Donald, Knuth14]\n",
              "2         [Ken, Thompson13]\n",
              "3       [Linus, Torvalds18]\n",
              "Name: names, dtype: object"
            ]
          },
          "execution_count": 7,
          "metadata": {},
          "output_type": "execute_result"
        }
      ],
      "source": [
        "df['names'].str.split(' ')"
      ]
    },
    {
      "cell_type": "code",
      "execution_count": null,
      "metadata": {
        "cell_id": "00012-5f93dc72-6e56-4317-b361-bb7fbe6a9ef5",
        "deepnote_cell_type": "code",
        "id": "X4FOzy50ex2b",
        "outputId": "6ce99716-6a78-4197-f9a8-d039de5cc39d"
      },
      "outputs": [
        {
          "data": {
            "text/plain": [
              "0    Mar\n",
              "1    Don\n",
              "2    Ken\n",
              "3    Lin\n",
              "Name: names, dtype: object"
            ]
          },
          "execution_count": 8,
          "metadata": {},
          "output_type": "execute_result"
        }
      ],
      "source": [
        "df['names'].str[:3]"
      ]
    },
    {
      "cell_type": "code",
      "execution_count": null,
      "metadata": {
        "cell_id": "00013-d580e118-3a93-4bd3-8be0-de280204872d",
        "deepnote_cell_type": "code",
        "id": "noM4F6yWex2b",
        "outputId": "670ea7e7-ca61-4d8f-9461-7587d7e71775"
      },
      "outputs": [
        {
          "data": {
            "text/plain": [
              "0    n25\n",
              "1    h14\n",
              "2    n13\n",
              "3    s18\n",
              "Name: names, dtype: object"
            ]
          },
          "execution_count": 9,
          "metadata": {},
          "output_type": "execute_result"
        }
      ],
      "source": [
        "df['names'].str[-3:]"
      ]
    },
    {
      "cell_type": "markdown",
      "metadata": {
        "cell_id": "00014-e2da195a-0813-4d74-8380-c82e34eba413",
        "deepnote_cell_type": "markdown",
        "id": "vakjyWuTex2b"
      },
      "source": [
        "Haciendo un análisis de nuestros datos, podemos encontrar números entre los nombres que no deberían estar, estos números los podemos conocer mediante el método extract, tal como se muestra a continuación."
      ]
    },
    {
      "cell_type": "code",
      "execution_count": null,
      "metadata": {
        "cell_id": "00015-a57bc371-dd8d-4ced-82aa-0022add6739e",
        "deepnote_cell_type": "code",
        "id": "lFVK7KtIex2c",
        "outputId": "c8b8e682-65f5-4893-ed0c-5fccece48a85"
      },
      "outputs": [
        {
          "data": {
            "text/plain": [
              "0    25\n",
              "1    14\n",
              "2    13\n",
              "3    18\n",
              "Name: names, dtype: object"
            ]
          },
          "execution_count": 10,
          "metadata": {},
          "output_type": "execute_result"
        }
      ],
      "source": [
        "df['names'].str.extract('([0-9]+)', expand=False)"
      ]
    },
    {
      "cell_type": "markdown",
      "metadata": {
        "cell_id": "00016-fe63b2f4-42b9-4973-aee7-485506c38fe9",
        "deepnote_cell_type": "markdown",
        "id": "MUmuUKU2ex2c"
      },
      "source": [
        "Y con el método replace podemos eliminar estos números que no deberían estar"
      ]
    },
    {
      "cell_type": "code",
      "execution_count": null,
      "metadata": {
        "cell_id": "00017-02d0ec70-2716-46b1-960c-bd67df4c6471",
        "deepnote_cell_type": "code",
        "id": "MEZSSFTQex2c",
        "outputId": "8bb37d06-43df-4e32-cba0-02c6335de087"
      },
      "outputs": [
        {
          "data": {
            "text/plain": [
              "0    Margaret Hamilton\n",
              "1         Donald Knuth\n",
              "2         Ken Thompson\n",
              "3       Linus Torvalds\n",
              "Name: names, dtype: object"
            ]
          },
          "execution_count": 11,
          "metadata": {},
          "output_type": "execute_result"
        }
      ],
      "source": [
        "df['names'].str.replace('[0-9]', '',regex=True)"
      ]
    },
    {
      "cell_type": "markdown",
      "metadata": {
        "cell_id": "00018-69f3b55a-4fd7-43e6-849d-fb59b3e1a4f5",
        "deepnote_cell_type": "markdown",
        "id": "YAAnHpWpex2d"
      },
      "source": [
        "Existen métodos como *findall* que nos permite buscar un string dentro de nuestro DataFrame, así como también el método contains que nos permite buscar dentro de nuestro DataFrame todas aquellas filas que contengan en o los caracteres buscados."
      ]
    },
    {
      "cell_type": "code",
      "execution_count": null,
      "metadata": {
        "cell_id": "00019-2d1e4761-ea76-4b40-8d75-6c2357f984ad",
        "deepnote_cell_type": "code",
        "id": "scBVYqJYex2d",
        "outputId": "13232c12-280a-4b3c-a91f-17fbedf65a88"
      },
      "outputs": [
        {
          "data": {
            "text/plain": [
              "0       []\n",
              "1       []\n",
              "2    [Ken]\n",
              "3       []\n",
              "Name: names, dtype: object"
            ]
          },
          "execution_count": 12,
          "metadata": {},
          "output_type": "execute_result"
        }
      ],
      "source": [
        "df['names'].str.findall('Ken')"
      ]
    },
    {
      "cell_type": "code",
      "execution_count": null,
      "metadata": {
        "cell_id": "00020-e53a1787-537b-4c0e-ac18-c14d9afaf1fd",
        "deepnote_cell_type": "code",
        "id": "uCZUBzQoex2e",
        "outputId": "39d4033b-7286-45f5-f7ed-bd878a1bf0bf"
      },
      "outputs": [
        {
          "data": {
            "text/plain": [
              "0     True\n",
              "1    False\n",
              "2    False\n",
              "3     True\n",
              "Name: names, dtype: bool"
            ]
          },
          "execution_count": 13,
          "metadata": {},
          "output_type": "execute_result"
        }
      ],
      "source": [
        "df['names'].str.contains('r')"
      ]
    },
    {
      "cell_type": "code",
      "execution_count": null,
      "metadata": {
        "cell_id": "00021-121ff27a-a8d6-4859-8ca8-f0afddcb9c30",
        "deepnote_cell_type": "code",
        "id": "Pzbtzumbex2e",
        "outputId": "95160a33-c12e-49d6-d8da-7ee5a5ea68b5"
      },
      "outputs": [
        {
          "data": {
            "text/html": [
              "<div>\n",
              "<style scoped>\n",
              "    .dataframe tbody tr th:only-of-type {\n",
              "        vertical-align: middle;\n",
              "    }\n",
              "\n",
              "    .dataframe tbody tr th {\n",
              "        vertical-align: top;\n",
              "    }\n",
              "\n",
              "    .dataframe thead th {\n",
              "        text-align: right;\n",
              "    }\n",
              "</style>\n",
              "<table border=\"1\" class=\"dataframe\">\n",
              "  <thead>\n",
              "    <tr style=\"text-align: right;\">\n",
              "      <th></th>\n",
              "      <th>names</th>\n",
              "    </tr>\n",
              "  </thead>\n",
              "  <tbody>\n",
              "    <tr>\n",
              "      <th>0</th>\n",
              "      <td>Margaret Hamilton25</td>\n",
              "    </tr>\n",
              "    <tr>\n",
              "      <th>3</th>\n",
              "      <td>Linus Torvalds18</td>\n",
              "    </tr>\n",
              "  </tbody>\n",
              "</table>\n",
              "</div>"
            ],
            "text/plain": [
              "                 names\n",
              "0  Margaret Hamilton25\n",
              "3     Linus Torvalds18"
            ]
          },
          "execution_count": 14,
          "metadata": {},
          "output_type": "execute_result"
        }
      ],
      "source": [
        "df[df['names'].str.contains('r')]"
      ]
    },
    {
      "cell_type": "markdown",
      "metadata": {
        "cell_id": "00022-cc9af70a-7f0a-4a9a-ac92-a9acdb6b0a49",
        "deepnote_cell_type": "markdown",
        "id": "WPWgRIkKex2e"
      },
      "source": [
        "Por último, podemos contar cuántas veces aparece un determinado carácter de la siguiente manera.\n"
      ]
    },
    {
      "cell_type": "code",
      "execution_count": null,
      "metadata": {
        "cell_id": "00023-d1f5ad0e-6429-4f49-8641-51e89bc07435",
        "deepnote_cell_type": "code",
        "id": "CLKueUbdex2f",
        "outputId": "b50ad1be-d7b3-47ad-9001-af4d1d6f7717"
      },
      "outputs": [
        {
          "data": {
            "text/plain": [
              "0    3\n",
              "1    1\n",
              "2    0\n",
              "3    1\n",
              "Name: names, dtype: int64"
            ]
          },
          "execution_count": 15,
          "metadata": {},
          "output_type": "execute_result"
        }
      ],
      "source": [
        "df['names'].str.lower().str.count('a')"
      ]
    }
  ],
  "metadata": {
    "colab": {
      "collapsed_sections": [],
      "name": "PFDS4_Variables_Tipo_Texto.ipynb",
      "provenance": [],
      "toc_visible": true
    },
    "deepnote": {},
    "deepnote_execution_queue": [],
    "deepnote_notebook_id": "82812e14-499f-4390-b901-63f0b9a066e8",
    "interpreter": {
      "hash": "568a22c9cab12376fc7d578725a09d5aa8bff0eb67624256ed647bcf9e0950c5"
    },
    "kernelspec": {
      "display_name": "Python 3 (ipykernel)",
      "language": "python",
      "name": "python3"
    },
    "language_info": {
      "codemirror_mode": {
        "name": "ipython",
        "version": 3
      },
      "file_extension": ".py",
      "mimetype": "text/x-python",
      "name": "python",
      "nbconvert_exporter": "python",
      "pygments_lexer": "ipython3",
      "version": "3.8.11"
    }
  },
  "nbformat": 4,
  "nbformat_minor": 0
}
