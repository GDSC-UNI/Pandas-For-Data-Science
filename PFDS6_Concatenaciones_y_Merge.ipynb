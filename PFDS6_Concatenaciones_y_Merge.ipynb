{
  "cells": [
    {
      "cell_type": "code",
      "execution_count": null,
      "metadata": {
        "cellView": "form",
        "id": "iR5Zlucre_3S"
      },
      "outputs": [],
      "source": [
        "# MIT License\n",
        "\n",
        "# Copyright (c) 2021 GGDSC UNI\n",
        "\n",
        "# Permission is hereby granted, free of charge, to any person obtaining a copy\n",
        "# of this software and associated documentation files (the \"Software\"), to deal\n",
        "# in the Software without restriction, including without limitation the rights\n",
        "# to use, copy, modify, merge, publish, distribute, sublicense, and/or sell\n",
        "# copies of the Software, and to permit persons to whom the Software is\n",
        "# furnished to do so, subject to the following conditions:\n",
        "\n",
        "# The above copyright notice and this permission notice shall be included in all\n",
        "# copies or substantial portions of the Software.\n",
        "\n",
        "# THE SOFTWARE IS PROVIDED \"AS IS\", WITHOUT WARRANTY OF ANY KIND, EXPRESS OR\n",
        "# IMPLIED, INCLUDING BUT NOT LIMITED TO THE WARRANTIES OF MERCHANTABILITY,\n",
        "# FITNESS FOR A PARTICULAR PURPOSE AND NONINFRINGEMENT. IN NO EVENT SHALL THE\n",
        "# AUTHORS OR COPYRIGHT HOLDERS BE LIABLE FOR ANY CLAIM, DAMAGES OR OTHER\n",
        "# LIABILITY, WHETHER IN AN ACTION OF CONTRACT, TORT OR OTHERWISE, ARISING FROM,\n",
        "# OUT OF OR IN CONNECTION WITH THE SOFTWARE OR THE USE OR OTHER DEALINGS IN THE\n",
        "# SOFTWARE."
      ]
    },
    {
      "cell_type": "markdown",
      "metadata": {
        "cell_id": "00000-a370541c-3a0f-4fae-a327-bb3d52dc028c",
        "deepnote_cell_type": "markdown",
        "id": "9V2mfUS2e_X3"
      },
      "source": [
        "<table align=\"center\">\n",
        "  <td align=\"center\"><a target=\"_blank\" href=\"https://gdsc.community.dev/universidad-nacional-de-ingenieria/\">\n",
        "        <img src=\"https://i.ibb.co/pX2w52P/GDSC.png\" style=\"padding-bottom:5px;\" />\n",
        "      View GDSC UNI</a></td>\n",
        "\n",
        "  <td align=\"center\"><a target=\"_blank\" href=\"https://colab.research.google.com/drive/1qI_ihnsZYWDO9vhbeh4u-mdiBo9fKWhs?usp=sharing\">\n",
        "        <img src=\"https://i.ibb.co/Bf0HK0q/Colaboratory.png\"  style=\"padding-bottom:5px;\" />Run in Google Colab </a></td>\n",
        "\n",
        "  <td align=\"center\"><a target=\"_blank\" href=\"https://github.com/GDSC-UNI/Pandas-For-Data-Science/PFDS6_Concatenaciones_y_Merge.ipynb\">\n",
        "        <img src=\"https://i.ibb.co/VHHdRx2/Github.png\"  height=\"110px\" style=\"padding-bottom:5px;\"/>View source on GitHub</a></td>\n",
        "</table>\n"
      ]
    },
    {
      "cell_type": "markdown",
      "metadata": {
        "id": "T-ms7L2He_X5"
      },
      "source": [
        "<h1></h1>"
      ]
    },
    {
      "cell_type": "markdown",
      "metadata": {
        "cell_id": "00002-d4f726ce-029e-41b3-87b2-03a024b5b49a",
        "deepnote_cell_type": "markdown",
        "id": "fZY71qUBe_X5"
      },
      "source": [
        "<h1 style=\"font-size:42px; text-align:center; margin-bottom:30px;\"><span style=\"color:#000080\">PFDS6:</span> Concatenaciones y Merge</h1>\n",
        "<hr>"
      ]
    },
    {
      "cell_type": "markdown",
      "metadata": {
        "id": "giuddCSie_X6"
      },
      "source": [
        "# Concatenaciones"
      ]
    },
    {
      "cell_type": "markdown",
      "metadata": {
        "id": "aCJ6jiRTe_X6"
      },
      "source": [
        "Una concatenación es encadenar conceptos, ideas, números o códigos para crear una secuencia o conjunto interconectado. Esta idea de concatenación puede ser implementado en python con numpy y panda dependiendo del tipo de dato con el que nos encontramos trabajando. Usaremos numpy cuando queremos concatenar arrays y pandas cuando queremos concatenar Series o DataFrames.\n",
        "\n",
        "En numpy, las concatenaciones se realizan mediante el método *concatenate* y agregando como parámetros las matrices a concatenar, la concatenación se puede hacer por columnas o por filas especificando el axis.\n"
      ]
    },
    {
      "cell_type": "code",
      "execution_count": null,
      "metadata": {
        "id": "rqbVWwb9e_X6"
      },
      "outputs": [],
      "source": [
        "import numpy as np\n",
        "import pandas as pd"
      ]
    },
    {
      "cell_type": "code",
      "execution_count": null,
      "metadata": {
        "id": "YHCa9Enpe_X7",
        "outputId": "7ce3b7e6-e3cd-4195-c353-0be7bf1fd58a"
      },
      "outputs": [
        {
          "name": "stdout",
          "output_type": "stream",
          "text": [
            "------------------------------x_1------------------------------\n",
            "[[16 15  4  0]\n",
            " [18 14 11 10]\n",
            " [16 11  9 13]]\n",
            "------------------------------x_2------------------------------\n",
            "[[18  7  5 19]\n",
            " [11 18 13  0]\n",
            " [ 9  6  6  2]]\n"
          ]
        }
      ],
      "source": [
        "x_1 = np.array([[np.random.randint(0,20) for j in range(4)] for i in range(3)])  \n",
        "x_2 = np.array([[np.random.randint(0,20) for j in range(4)] for i in range(3)])\n",
        "print('-'*30 +'x_1'+'-'*30 )\n",
        "print(x_1)\n",
        "print('-'*30 +'x_2'+'-'*30 )\n",
        "print(x_2)"
      ]
    },
    {
      "cell_type": "code",
      "execution_count": null,
      "metadata": {
        "id": "-Pfu0ywJe_X8",
        "outputId": "1ea0c5ab-7fd3-4ac1-a111-c373c81fcb2c"
      },
      "outputs": [
        {
          "data": {
            "text/plain": [
              "array([[16, 15,  4,  0],\n",
              "       [18, 14, 11, 10],\n",
              "       [16, 11,  9, 13],\n",
              "       [18,  7,  5, 19],\n",
              "       [11, 18, 13,  0],\n",
              "       [ 9,  6,  6,  2]])"
            ]
          },
          "execution_count": 3,
          "metadata": {},
          "output_type": "execute_result"
        }
      ],
      "source": [
        "np.concatenate([x_1, x_2])"
      ]
    },
    {
      "cell_type": "code",
      "execution_count": null,
      "metadata": {
        "id": "KPnQvrZXe_X8",
        "outputId": "846ad966-96b8-4bab-8231-105a2585bfed"
      },
      "outputs": [
        {
          "data": {
            "text/plain": [
              "(6, 4)"
            ]
          },
          "execution_count": 4,
          "metadata": {},
          "output_type": "execute_result"
        }
      ],
      "source": [
        "np.concatenate([x_1, x_2]).shape"
      ]
    },
    {
      "cell_type": "code",
      "execution_count": null,
      "metadata": {
        "id": "o9VYH6dCe_X8",
        "outputId": "19c92154-00a8-44a4-b1b6-8463aa45508d"
      },
      "outputs": [
        {
          "data": {
            "text/plain": [
              "array([[16, 15,  4,  0, 18,  7,  5, 19],\n",
              "       [18, 14, 11, 10, 11, 18, 13,  0],\n",
              "       [16, 11,  9, 13,  9,  6,  6,  2]])"
            ]
          },
          "execution_count": 5,
          "metadata": {},
          "output_type": "execute_result"
        }
      ],
      "source": [
        "np.concatenate([x_1, x_2], axis=1)"
      ]
    },
    {
      "cell_type": "code",
      "execution_count": null,
      "metadata": {
        "id": "Oks62rWZe_X9",
        "outputId": "49b62956-6130-4b64-dd70-be1bc39b6c49"
      },
      "outputs": [
        {
          "data": {
            "text/plain": [
              "(3, 8)"
            ]
          },
          "execution_count": 6,
          "metadata": {},
          "output_type": "execute_result"
        }
      ],
      "source": [
        "np.concatenate([x_1, x_2], axis=1).shape"
      ]
    },
    {
      "cell_type": "markdown",
      "metadata": {
        "id": "xMV-Dwq5e_X9"
      },
      "source": [
        "En Pandas, las concatenaciones se hacen mediante el método *concat*. A diferencia de las concatenaciones en numpy, en Pandas se respetan los índices al momento de realizar las concatenaciones. Como se mencionó anteriormente, estas concatenaciones se realizan con las series o DataFrame.\n"
      ]
    },
    {
      "cell_type": "code",
      "execution_count": null,
      "metadata": {
        "id": "MwHh1rS3e_X9",
        "outputId": "d8ef88ed-c498-468d-ce46-1d1715ed1304"
      },
      "outputs": [
        {
          "name": "stdout",
          "output_type": "stream",
          "text": [
            "------------------------------s1------------------------------\n",
            "PC1    16\n",
            "PC2    15\n",
            "PC3     4\n",
            "PC4     0\n",
            "dtype: int32\n",
            "------------------------------s2------------------------------\n",
            "PC1    18\n",
            "PC2     7\n",
            "PC3     5\n",
            "PC4    19\n",
            "dtype: int32\n"
          ]
        }
      ],
      "source": [
        "s1 = pd.Series(x_1[0], index=['PC1', 'PC2', 'PC3', 'PC4'])\n",
        "s2 = pd.Series(x_2[0], index=['PC1','PC2','PC3','PC4'])\n",
        "print('-'*30 +'s1'+'-'*30 )\n",
        "print(s1)\n",
        "print('-'*30 +'s2'+'-'*30 )\n",
        "print(s2)"
      ]
    },
    {
      "cell_type": "code",
      "execution_count": null,
      "metadata": {
        "id": "5PqIpY89e_X-",
        "outputId": "9318fb9a-eda0-41d1-a85e-69eda24675e8"
      },
      "outputs": [
        {
          "data": {
            "text/plain": [
              "PC1    16\n",
              "PC2    15\n",
              "PC3     4\n",
              "PC4     0\n",
              "PC1    18\n",
              "PC2     7\n",
              "PC3     5\n",
              "PC4    19\n",
              "dtype: int32"
            ]
          },
          "execution_count": 8,
          "metadata": {},
          "output_type": "execute_result"
        }
      ],
      "source": [
        "pd.concat([s1,s2])"
      ]
    },
    {
      "cell_type": "code",
      "execution_count": null,
      "metadata": {
        "id": "SBzA9Aa-e_X-",
        "outputId": "82aa0f3d-e15e-440c-efdc-e74179760924"
      },
      "outputs": [
        {
          "data": {
            "text/html": [
              "<div>\n",
              "<style scoped>\n",
              "    .dataframe tbody tr th:only-of-type {\n",
              "        vertical-align: middle;\n",
              "    }\n",
              "\n",
              "    .dataframe tbody tr th {\n",
              "        vertical-align: top;\n",
              "    }\n",
              "\n",
              "    .dataframe thead th {\n",
              "        text-align: right;\n",
              "    }\n",
              "</style>\n",
              "<table border=\"1\" class=\"dataframe\">\n",
              "  <thead>\n",
              "    <tr style=\"text-align: right;\">\n",
              "      <th></th>\n",
              "      <th>0</th>\n",
              "      <th>1</th>\n",
              "    </tr>\n",
              "  </thead>\n",
              "  <tbody>\n",
              "    <tr>\n",
              "      <th>PC1</th>\n",
              "      <td>16</td>\n",
              "      <td>18</td>\n",
              "    </tr>\n",
              "    <tr>\n",
              "      <th>PC2</th>\n",
              "      <td>15</td>\n",
              "      <td>7</td>\n",
              "    </tr>\n",
              "    <tr>\n",
              "      <th>PC3</th>\n",
              "      <td>4</td>\n",
              "      <td>5</td>\n",
              "    </tr>\n",
              "    <tr>\n",
              "      <th>PC4</th>\n",
              "      <td>0</td>\n",
              "      <td>19</td>\n",
              "    </tr>\n",
              "  </tbody>\n",
              "</table>\n",
              "</div>"
            ],
            "text/plain": [
              "      0   1\n",
              "PC1  16  18\n",
              "PC2  15   7\n",
              "PC3   4   5\n",
              "PC4   0  19"
            ]
          },
          "execution_count": 9,
          "metadata": {},
          "output_type": "execute_result"
        }
      ],
      "source": [
        "pd.concat([s1, s2], axis=1)"
      ]
    },
    {
      "cell_type": "markdown",
      "metadata": {
        "id": "AaGtFjV_e_X-"
      },
      "source": [
        "Para realizar concatenaciones sin importar los índices, debemos de agregar como parámetros las series sin los índices, para esto usamos el método *reset_index*."
      ]
    },
    {
      "cell_type": "code",
      "execution_count": null,
      "metadata": {
        "id": "TBwiO-YWe_X-",
        "outputId": "004ca748-29c3-4c22-9ddb-2a326de78086"
      },
      "outputs": [
        {
          "data": {
            "text/plain": [
              "0    16\n",
              "1    15\n",
              "2     4\n",
              "3     0\n",
              "dtype: int32"
            ]
          },
          "execution_count": 10,
          "metadata": {},
          "output_type": "execute_result"
        }
      ],
      "source": [
        "s1.reset_index(drop=True)"
      ]
    },
    {
      "cell_type": "code",
      "execution_count": null,
      "metadata": {
        "id": "e1rn1ytwe_X_",
        "outputId": "2b581831-2a6a-40df-8a6d-a72216db4b50"
      },
      "outputs": [
        {
          "data": {
            "text/html": [
              "<div>\n",
              "<style scoped>\n",
              "    .dataframe tbody tr th:only-of-type {\n",
              "        vertical-align: middle;\n",
              "    }\n",
              "\n",
              "    .dataframe tbody tr th {\n",
              "        vertical-align: top;\n",
              "    }\n",
              "\n",
              "    .dataframe thead th {\n",
              "        text-align: right;\n",
              "    }\n",
              "</style>\n",
              "<table border=\"1\" class=\"dataframe\">\n",
              "  <thead>\n",
              "    <tr style=\"text-align: right;\">\n",
              "      <th></th>\n",
              "      <th>0</th>\n",
              "      <th>1</th>\n",
              "    </tr>\n",
              "  </thead>\n",
              "  <tbody>\n",
              "    <tr>\n",
              "      <th>0</th>\n",
              "      <td>16</td>\n",
              "      <td>18</td>\n",
              "    </tr>\n",
              "    <tr>\n",
              "      <th>1</th>\n",
              "      <td>15</td>\n",
              "      <td>7</td>\n",
              "    </tr>\n",
              "    <tr>\n",
              "      <th>2</th>\n",
              "      <td>4</td>\n",
              "      <td>5</td>\n",
              "    </tr>\n",
              "    <tr>\n",
              "      <th>3</th>\n",
              "      <td>0</td>\n",
              "      <td>19</td>\n",
              "    </tr>\n",
              "  </tbody>\n",
              "</table>\n",
              "</div>"
            ],
            "text/plain": [
              "    0   1\n",
              "0  16  18\n",
              "1  15   7\n",
              "2   4   5\n",
              "3   0  19"
            ]
          },
          "execution_count": 11,
          "metadata": {},
          "output_type": "execute_result"
        }
      ],
      "source": [
        "pd.concat([s1.reset_index(drop=True), s2.reset_index(drop=True)], axis=1)"
      ]
    },
    {
      "cell_type": "markdown",
      "metadata": {
        "id": "jB-Qmxpue_X_"
      },
      "source": [
        "Los DataFrame no son muy ajenos a las series en cuanto a las concatenaciones, la única diferencia es que tenemos que ingresar como parámetros las columnas y los índices."
      ]
    },
    {
      "cell_type": "code",
      "execution_count": null,
      "metadata": {
        "id": "OhxI0c8_e_X_",
        "outputId": "86242b4d-2dc0-459d-fcb9-3bcfb578a181"
      },
      "outputs": [
        {
          "data": {
            "text/html": [
              "<div>\n",
              "<style scoped>\n",
              "    .dataframe tbody tr th:only-of-type {\n",
              "        vertical-align: middle;\n",
              "    }\n",
              "\n",
              "    .dataframe tbody tr th {\n",
              "        vertical-align: top;\n",
              "    }\n",
              "\n",
              "    .dataframe thead th {\n",
              "        text-align: right;\n",
              "    }\n",
              "</style>\n",
              "<table border=\"1\" class=\"dataframe\">\n",
              "  <thead>\n",
              "    <tr style=\"text-align: right;\">\n",
              "      <th></th>\n",
              "      <th>PC1</th>\n",
              "      <th>PC2</th>\n",
              "      <th>PC3</th>\n",
              "      <th>PC4</th>\n",
              "    </tr>\n",
              "  </thead>\n",
              "  <tbody>\n",
              "    <tr>\n",
              "      <th>Alejandro</th>\n",
              "      <td>2.19</td>\n",
              "      <td>1.68</td>\n",
              "      <td>13.28</td>\n",
              "      <td>5.25</td>\n",
              "    </tr>\n",
              "    <tr>\n",
              "      <th>Ruben</th>\n",
              "      <td>0.10</td>\n",
              "      <td>19.60</td>\n",
              "      <td>18.18</td>\n",
              "      <td>18.50</td>\n",
              "    </tr>\n",
              "    <tr>\n",
              "      <th>Fernanda</th>\n",
              "      <td>18.13</td>\n",
              "      <td>7.28</td>\n",
              "      <td>10.28</td>\n",
              "      <td>11.43</td>\n",
              "    </tr>\n",
              "  </tbody>\n",
              "</table>\n",
              "</div>"
            ],
            "text/plain": [
              "            PC1   PC2   PC3   PC4\n",
              "Alejandro  2.19  1.68 13.28  5.25\n",
              "Ruben      0.10 19.60 18.18 18.50\n",
              "Fernanda  18.13  7.28 10.28 11.43"
            ]
          },
          "execution_count": 12,
          "metadata": {},
          "output_type": "execute_result"
        }
      ],
      "source": [
        "pd.options.display.float_format = '{:,.2f}'.format\n",
        "df1 = pd.DataFrame(np.random.rand(3,4)*20, columns=['PC1', 'PC2', 'PC3', 'PC4'],index=['Alejandro', 'Ruben', 'Fernanda'])\n",
        "df1"
      ]
    },
    {
      "cell_type": "code",
      "execution_count": null,
      "metadata": {
        "id": "F1OI-7Fde_X_",
        "outputId": "02b15d42-1ea8-4081-a3e6-58a5e7073117"
      },
      "outputs": [
        {
          "data": {
            "text/html": [
              "<div>\n",
              "<style scoped>\n",
              "    .dataframe tbody tr th:only-of-type {\n",
              "        vertical-align: middle;\n",
              "    }\n",
              "\n",
              "    .dataframe tbody tr th {\n",
              "        vertical-align: top;\n",
              "    }\n",
              "\n",
              "    .dataframe thead th {\n",
              "        text-align: right;\n",
              "    }\n",
              "</style>\n",
              "<table border=\"1\" class=\"dataframe\">\n",
              "  <thead>\n",
              "    <tr style=\"text-align: right;\">\n",
              "      <th></th>\n",
              "      <th>PC1</th>\n",
              "      <th>PC2</th>\n",
              "      <th>PC3</th>\n",
              "      <th>PC4</th>\n",
              "    </tr>\n",
              "  </thead>\n",
              "  <tbody>\n",
              "    <tr>\n",
              "      <th>Mariana</th>\n",
              "      <td>2.50</td>\n",
              "      <td>19.19</td>\n",
              "      <td>12.72</td>\n",
              "      <td>12.40</td>\n",
              "    </tr>\n",
              "    <tr>\n",
              "      <th>Mauricio</th>\n",
              "      <td>8.12</td>\n",
              "      <td>4.76</td>\n",
              "      <td>0.23</td>\n",
              "      <td>11.01</td>\n",
              "    </tr>\n",
              "    <tr>\n",
              "      <th>Fernanda</th>\n",
              "      <td>19.94</td>\n",
              "      <td>16.03</td>\n",
              "      <td>12.41</td>\n",
              "      <td>9.40</td>\n",
              "    </tr>\n",
              "  </tbody>\n",
              "</table>\n",
              "</div>"
            ],
            "text/plain": [
              "           PC1   PC2   PC3   PC4\n",
              "Mariana   2.50 19.19 12.72 12.40\n",
              "Mauricio  8.12  4.76  0.23 11.01\n",
              "Fernanda 19.94 16.03 12.41  9.40"
            ]
          },
          "execution_count": 13,
          "metadata": {},
          "output_type": "execute_result"
        }
      ],
      "source": [
        "df2 = pd.DataFrame(np.random.rand(3,4)*20, columns=['PC1', 'PC2', 'PC3', 'PC4'],index=['Mariana', 'Mauricio', 'Fernanda'])\n",
        "df2"
      ]
    },
    {
      "cell_type": "code",
      "execution_count": null,
      "metadata": {
        "id": "5RtUeaQOe_YA",
        "outputId": "0947a7ec-852a-4954-c31d-1a4ba8559b48"
      },
      "outputs": [
        {
          "data": {
            "text/html": [
              "<div>\n",
              "<style scoped>\n",
              "    .dataframe tbody tr th:only-of-type {\n",
              "        vertical-align: middle;\n",
              "    }\n",
              "\n",
              "    .dataframe tbody tr th {\n",
              "        vertical-align: top;\n",
              "    }\n",
              "\n",
              "    .dataframe thead th {\n",
              "        text-align: right;\n",
              "    }\n",
              "</style>\n",
              "<table border=\"1\" class=\"dataframe\">\n",
              "  <thead>\n",
              "    <tr style=\"text-align: right;\">\n",
              "      <th></th>\n",
              "      <th>PC1</th>\n",
              "      <th>PC2</th>\n",
              "      <th>PC3</th>\n",
              "      <th>PC4</th>\n",
              "    </tr>\n",
              "  </thead>\n",
              "  <tbody>\n",
              "    <tr>\n",
              "      <th>Alejandro</th>\n",
              "      <td>2.19</td>\n",
              "      <td>1.68</td>\n",
              "      <td>13.28</td>\n",
              "      <td>5.25</td>\n",
              "    </tr>\n",
              "    <tr>\n",
              "      <th>Ruben</th>\n",
              "      <td>0.10</td>\n",
              "      <td>19.60</td>\n",
              "      <td>18.18</td>\n",
              "      <td>18.50</td>\n",
              "    </tr>\n",
              "    <tr>\n",
              "      <th>Fernanda</th>\n",
              "      <td>18.13</td>\n",
              "      <td>7.28</td>\n",
              "      <td>10.28</td>\n",
              "      <td>11.43</td>\n",
              "    </tr>\n",
              "    <tr>\n",
              "      <th>Mariana</th>\n",
              "      <td>2.50</td>\n",
              "      <td>19.19</td>\n",
              "      <td>12.72</td>\n",
              "      <td>12.40</td>\n",
              "    </tr>\n",
              "    <tr>\n",
              "      <th>Mauricio</th>\n",
              "      <td>8.12</td>\n",
              "      <td>4.76</td>\n",
              "      <td>0.23</td>\n",
              "      <td>11.01</td>\n",
              "    </tr>\n",
              "    <tr>\n",
              "      <th>Fernanda</th>\n",
              "      <td>19.94</td>\n",
              "      <td>16.03</td>\n",
              "      <td>12.41</td>\n",
              "      <td>9.40</td>\n",
              "    </tr>\n",
              "  </tbody>\n",
              "</table>\n",
              "</div>"
            ],
            "text/plain": [
              "            PC1   PC2   PC3   PC4\n",
              "Alejandro  2.19  1.68 13.28  5.25\n",
              "Ruben      0.10 19.60 18.18 18.50\n",
              "Fernanda  18.13  7.28 10.28 11.43\n",
              "Mariana    2.50 19.19 12.72 12.40\n",
              "Mauricio   8.12  4.76  0.23 11.01\n",
              "Fernanda  19.94 16.03 12.41  9.40"
            ]
          },
          "execution_count": 14,
          "metadata": {},
          "output_type": "execute_result"
        }
      ],
      "source": [
        "pd.concat([df1, df2])"
      ]
    },
    {
      "cell_type": "code",
      "execution_count": null,
      "metadata": {
        "id": "T7TvHqBde_YA",
        "outputId": "be279f27-6340-4b64-bb53-ea4d1d592d57"
      },
      "outputs": [
        {
          "data": {
            "text/html": [
              "<div>\n",
              "<style scoped>\n",
              "    .dataframe tbody tr th:only-of-type {\n",
              "        vertical-align: middle;\n",
              "    }\n",
              "\n",
              "    .dataframe tbody tr th {\n",
              "        vertical-align: top;\n",
              "    }\n",
              "\n",
              "    .dataframe thead th {\n",
              "        text-align: right;\n",
              "    }\n",
              "</style>\n",
              "<table border=\"1\" class=\"dataframe\">\n",
              "  <thead>\n",
              "    <tr style=\"text-align: right;\">\n",
              "      <th></th>\n",
              "      <th>PC1</th>\n",
              "      <th>PC2</th>\n",
              "      <th>PC3</th>\n",
              "      <th>PC4</th>\n",
              "      <th>PC1</th>\n",
              "      <th>PC2</th>\n",
              "      <th>PC3</th>\n",
              "      <th>PC4</th>\n",
              "    </tr>\n",
              "  </thead>\n",
              "  <tbody>\n",
              "    <tr>\n",
              "      <th>Alejandro</th>\n",
              "      <td>2.19</td>\n",
              "      <td>1.68</td>\n",
              "      <td>13.28</td>\n",
              "      <td>5.25</td>\n",
              "      <td>NaN</td>\n",
              "      <td>NaN</td>\n",
              "      <td>NaN</td>\n",
              "      <td>NaN</td>\n",
              "    </tr>\n",
              "    <tr>\n",
              "      <th>Ruben</th>\n",
              "      <td>0.10</td>\n",
              "      <td>19.60</td>\n",
              "      <td>18.18</td>\n",
              "      <td>18.50</td>\n",
              "      <td>NaN</td>\n",
              "      <td>NaN</td>\n",
              "      <td>NaN</td>\n",
              "      <td>NaN</td>\n",
              "    </tr>\n",
              "    <tr>\n",
              "      <th>Fernanda</th>\n",
              "      <td>18.13</td>\n",
              "      <td>7.28</td>\n",
              "      <td>10.28</td>\n",
              "      <td>11.43</td>\n",
              "      <td>19.94</td>\n",
              "      <td>16.03</td>\n",
              "      <td>12.41</td>\n",
              "      <td>9.40</td>\n",
              "    </tr>\n",
              "    <tr>\n",
              "      <th>Mariana</th>\n",
              "      <td>NaN</td>\n",
              "      <td>NaN</td>\n",
              "      <td>NaN</td>\n",
              "      <td>NaN</td>\n",
              "      <td>2.50</td>\n",
              "      <td>19.19</td>\n",
              "      <td>12.72</td>\n",
              "      <td>12.40</td>\n",
              "    </tr>\n",
              "    <tr>\n",
              "      <th>Mauricio</th>\n",
              "      <td>NaN</td>\n",
              "      <td>NaN</td>\n",
              "      <td>NaN</td>\n",
              "      <td>NaN</td>\n",
              "      <td>8.12</td>\n",
              "      <td>4.76</td>\n",
              "      <td>0.23</td>\n",
              "      <td>11.01</td>\n",
              "    </tr>\n",
              "  </tbody>\n",
              "</table>\n",
              "</div>"
            ],
            "text/plain": [
              "            PC1   PC2   PC3   PC4   PC1   PC2   PC3   PC4\n",
              "Alejandro  2.19  1.68 13.28  5.25   NaN   NaN   NaN   NaN\n",
              "Ruben      0.10 19.60 18.18 18.50   NaN   NaN   NaN   NaN\n",
              "Fernanda  18.13  7.28 10.28 11.43 19.94 16.03 12.41  9.40\n",
              "Mariana     NaN   NaN   NaN   NaN  2.50 19.19 12.72 12.40\n",
              "Mauricio    NaN   NaN   NaN   NaN  8.12  4.76  0.23 11.01"
            ]
          },
          "execution_count": 15,
          "metadata": {},
          "output_type": "execute_result"
        }
      ],
      "source": [
        "pd.concat([df1, df2], axis=1)"
      ]
    },
    {
      "cell_type": "markdown",
      "metadata": {
        "id": "1sfqNneTe_YA"
      },
      "source": [
        "Al agregarle a la concatenación el parámetro *join='inner'* nos da como retorno la concatenación de las filas que tienen en común los DataFrame."
      ]
    },
    {
      "cell_type": "code",
      "execution_count": null,
      "metadata": {
        "id": "up8s8p5de_YA",
        "outputId": "cc26e362-ba9b-4f8e-ef2b-57f3afc36b37"
      },
      "outputs": [
        {
          "data": {
            "text/html": [
              "<div>\n",
              "<style scoped>\n",
              "    .dataframe tbody tr th:only-of-type {\n",
              "        vertical-align: middle;\n",
              "    }\n",
              "\n",
              "    .dataframe tbody tr th {\n",
              "        vertical-align: top;\n",
              "    }\n",
              "\n",
              "    .dataframe thead th {\n",
              "        text-align: right;\n",
              "    }\n",
              "</style>\n",
              "<table border=\"1\" class=\"dataframe\">\n",
              "  <thead>\n",
              "    <tr style=\"text-align: right;\">\n",
              "      <th></th>\n",
              "      <th>PC1</th>\n",
              "      <th>PC2</th>\n",
              "      <th>PC3</th>\n",
              "      <th>PC4</th>\n",
              "      <th>PC1</th>\n",
              "      <th>PC2</th>\n",
              "      <th>PC3</th>\n",
              "      <th>PC4</th>\n",
              "    </tr>\n",
              "  </thead>\n",
              "  <tbody>\n",
              "    <tr>\n",
              "      <th>Fernanda</th>\n",
              "      <td>18.13</td>\n",
              "      <td>7.28</td>\n",
              "      <td>10.28</td>\n",
              "      <td>11.43</td>\n",
              "      <td>19.94</td>\n",
              "      <td>16.03</td>\n",
              "      <td>12.41</td>\n",
              "      <td>9.40</td>\n",
              "    </tr>\n",
              "  </tbody>\n",
              "</table>\n",
              "</div>"
            ],
            "text/plain": [
              "           PC1  PC2   PC3   PC4   PC1   PC2   PC3  PC4\n",
              "Fernanda 18.13 7.28 10.28 11.43 19.94 16.03 12.41 9.40"
            ]
          },
          "execution_count": 16,
          "metadata": {},
          "output_type": "execute_result"
        }
      ],
      "source": [
        "pd.concat([df1, df2], axis=1, join='inner')"
      ]
    },
    {
      "cell_type": "code",
      "execution_count": null,
      "metadata": {
        "id": "m-u24tfae_YA",
        "outputId": "10388928-2549-4ee8-c875-3aa6366395ef"
      },
      "outputs": [
        {
          "data": {
            "text/html": [
              "<div>\n",
              "<style scoped>\n",
              "    .dataframe tbody tr th:only-of-type {\n",
              "        vertical-align: middle;\n",
              "    }\n",
              "\n",
              "    .dataframe tbody tr th {\n",
              "        vertical-align: top;\n",
              "    }\n",
              "\n",
              "    .dataframe thead th {\n",
              "        text-align: right;\n",
              "    }\n",
              "</style>\n",
              "<table border=\"1\" class=\"dataframe\">\n",
              "  <thead>\n",
              "    <tr style=\"text-align: right;\">\n",
              "      <th></th>\n",
              "      <th>PC1</th>\n",
              "      <th>PC2</th>\n",
              "      <th>PC3</th>\n",
              "      <th>PC4</th>\n",
              "      <th>PC1</th>\n",
              "      <th>PC2</th>\n",
              "      <th>PC3</th>\n",
              "      <th>PC4</th>\n",
              "    </tr>\n",
              "  </thead>\n",
              "  <tbody>\n",
              "    <tr>\n",
              "      <th>0</th>\n",
              "      <td>2.19</td>\n",
              "      <td>1.68</td>\n",
              "      <td>13.28</td>\n",
              "      <td>5.25</td>\n",
              "      <td>2.50</td>\n",
              "      <td>19.19</td>\n",
              "      <td>12.72</td>\n",
              "      <td>12.40</td>\n",
              "    </tr>\n",
              "    <tr>\n",
              "      <th>1</th>\n",
              "      <td>0.10</td>\n",
              "      <td>19.60</td>\n",
              "      <td>18.18</td>\n",
              "      <td>18.50</td>\n",
              "      <td>8.12</td>\n",
              "      <td>4.76</td>\n",
              "      <td>0.23</td>\n",
              "      <td>11.01</td>\n",
              "    </tr>\n",
              "    <tr>\n",
              "      <th>2</th>\n",
              "      <td>18.13</td>\n",
              "      <td>7.28</td>\n",
              "      <td>10.28</td>\n",
              "      <td>11.43</td>\n",
              "      <td>19.94</td>\n",
              "      <td>16.03</td>\n",
              "      <td>12.41</td>\n",
              "      <td>9.40</td>\n",
              "    </tr>\n",
              "  </tbody>\n",
              "</table>\n",
              "</div>"
            ],
            "text/plain": [
              "    PC1   PC2   PC3   PC4   PC1   PC2   PC3   PC4\n",
              "0  2.19  1.68 13.28  5.25  2.50 19.19 12.72 12.40\n",
              "1  0.10 19.60 18.18 18.50  8.12  4.76  0.23 11.01\n",
              "2 18.13  7.28 10.28 11.43 19.94 16.03 12.41  9.40"
            ]
          },
          "execution_count": 17,
          "metadata": {},
          "output_type": "execute_result"
        }
      ],
      "source": [
        "pd.concat([df1.reset_index(drop=True), df2.reset_index(drop=True)], axis=1)"
      ]
    },
    {
      "cell_type": "markdown",
      "metadata": {
        "id": "D1ZMmRmfe_YB"
      },
      "source": [
        "Una forma más acortada de realizar las concatenaciones es usando *append*."
      ]
    },
    {
      "cell_type": "code",
      "execution_count": null,
      "metadata": {
        "id": "wmnXO9zJe_YB",
        "outputId": "e6c9f1db-dc20-4b20-b575-03f9645965d2"
      },
      "outputs": [
        {
          "data": {
            "text/html": [
              "<div>\n",
              "<style scoped>\n",
              "    .dataframe tbody tr th:only-of-type {\n",
              "        vertical-align: middle;\n",
              "    }\n",
              "\n",
              "    .dataframe tbody tr th {\n",
              "        vertical-align: top;\n",
              "    }\n",
              "\n",
              "    .dataframe thead th {\n",
              "        text-align: right;\n",
              "    }\n",
              "</style>\n",
              "<table border=\"1\" class=\"dataframe\">\n",
              "  <thead>\n",
              "    <tr style=\"text-align: right;\">\n",
              "      <th></th>\n",
              "      <th>PC1</th>\n",
              "      <th>PC2</th>\n",
              "      <th>PC3</th>\n",
              "      <th>PC4</th>\n",
              "    </tr>\n",
              "  </thead>\n",
              "  <tbody>\n",
              "    <tr>\n",
              "      <th>Alejandro</th>\n",
              "      <td>2.19</td>\n",
              "      <td>1.68</td>\n",
              "      <td>13.28</td>\n",
              "      <td>5.25</td>\n",
              "    </tr>\n",
              "    <tr>\n",
              "      <th>Ruben</th>\n",
              "      <td>0.10</td>\n",
              "      <td>19.60</td>\n",
              "      <td>18.18</td>\n",
              "      <td>18.50</td>\n",
              "    </tr>\n",
              "    <tr>\n",
              "      <th>Fernanda</th>\n",
              "      <td>18.13</td>\n",
              "      <td>7.28</td>\n",
              "      <td>10.28</td>\n",
              "      <td>11.43</td>\n",
              "    </tr>\n",
              "    <tr>\n",
              "      <th>Mariana</th>\n",
              "      <td>2.50</td>\n",
              "      <td>19.19</td>\n",
              "      <td>12.72</td>\n",
              "      <td>12.40</td>\n",
              "    </tr>\n",
              "    <tr>\n",
              "      <th>Mauricio</th>\n",
              "      <td>8.12</td>\n",
              "      <td>4.76</td>\n",
              "      <td>0.23</td>\n",
              "      <td>11.01</td>\n",
              "    </tr>\n",
              "    <tr>\n",
              "      <th>Fernanda</th>\n",
              "      <td>19.94</td>\n",
              "      <td>16.03</td>\n",
              "      <td>12.41</td>\n",
              "      <td>9.40</td>\n",
              "    </tr>\n",
              "  </tbody>\n",
              "</table>\n",
              "</div>"
            ],
            "text/plain": [
              "            PC1   PC2   PC3   PC4\n",
              "Alejandro  2.19  1.68 13.28  5.25\n",
              "Ruben      0.10 19.60 18.18 18.50\n",
              "Fernanda  18.13  7.28 10.28 11.43\n",
              "Mariana    2.50 19.19 12.72 12.40\n",
              "Mauricio   8.12  4.76  0.23 11.01\n",
              "Fernanda  19.94 16.03 12.41  9.40"
            ]
          },
          "execution_count": 18,
          "metadata": {},
          "output_type": "execute_result"
        }
      ],
      "source": [
        "df1.append(df2)"
      ]
    },
    {
      "cell_type": "code",
      "execution_count": null,
      "metadata": {
        "id": "plMkR5Sde_YB",
        "outputId": "261ae63b-d9fb-4bab-8f48-bfea7917659d"
      },
      "outputs": [
        {
          "data": {
            "text/html": [
              "<div>\n",
              "<style scoped>\n",
              "    .dataframe tbody tr th:only-of-type {\n",
              "        vertical-align: middle;\n",
              "    }\n",
              "\n",
              "    .dataframe tbody tr th {\n",
              "        vertical-align: top;\n",
              "    }\n",
              "\n",
              "    .dataframe thead th {\n",
              "        text-align: right;\n",
              "    }\n",
              "</style>\n",
              "<table border=\"1\" class=\"dataframe\">\n",
              "  <thead>\n",
              "    <tr style=\"text-align: right;\">\n",
              "      <th></th>\n",
              "      <th>PC1</th>\n",
              "      <th>PC2</th>\n",
              "      <th>PC3</th>\n",
              "      <th>PC4</th>\n",
              "    </tr>\n",
              "  </thead>\n",
              "  <tbody>\n",
              "    <tr>\n",
              "      <th>Alejandro</th>\n",
              "      <td>17.63</td>\n",
              "      <td>8.90</td>\n",
              "      <td>17.43</td>\n",
              "      <td>6.27</td>\n",
              "    </tr>\n",
              "    <tr>\n",
              "      <th>Ruben</th>\n",
              "      <td>15.48</td>\n",
              "      <td>19.73</td>\n",
              "      <td>8.22</td>\n",
              "      <td>5.17</td>\n",
              "    </tr>\n",
              "    <tr>\n",
              "      <th>Fernanda</th>\n",
              "      <td>5.72</td>\n",
              "      <td>4.31</td>\n",
              "      <td>16.78</td>\n",
              "      <td>14.74</td>\n",
              "    </tr>\n",
              "    <tr>\n",
              "      <th>Mariana</th>\n",
              "      <td>10.46</td>\n",
              "      <td>18.78</td>\n",
              "      <td>11.52</td>\n",
              "      <td>18.13</td>\n",
              "    </tr>\n",
              "    <tr>\n",
              "      <th>Mauricio</th>\n",
              "      <td>13.75</td>\n",
              "      <td>1.88</td>\n",
              "      <td>10.61</td>\n",
              "      <td>12.25</td>\n",
              "    </tr>\n",
              "    <tr>\n",
              "      <th>Fernanda</th>\n",
              "      <td>2.31</td>\n",
              "      <td>2.82</td>\n",
              "      <td>15.52</td>\n",
              "      <td>18.43</td>\n",
              "    </tr>\n",
              "    <tr>\n",
              "      <th>Mariana</th>\n",
              "      <td>10.46</td>\n",
              "      <td>18.78</td>\n",
              "      <td>11.52</td>\n",
              "      <td>18.13</td>\n",
              "    </tr>\n",
              "    <tr>\n",
              "      <th>Mauricio</th>\n",
              "      <td>13.75</td>\n",
              "      <td>1.88</td>\n",
              "      <td>10.61</td>\n",
              "      <td>12.25</td>\n",
              "    </tr>\n",
              "    <tr>\n",
              "      <th>Fernanda</th>\n",
              "      <td>2.31</td>\n",
              "      <td>2.82</td>\n",
              "      <td>15.52</td>\n",
              "      <td>18.43</td>\n",
              "    </tr>\n",
              "  </tbody>\n",
              "</table>\n",
              "</div>"
            ],
            "text/plain": [
              "            PC1   PC2   PC3   PC4\n",
              "Alejandro 17.63  8.90 17.43  6.27\n",
              "Ruben     15.48 19.73  8.22  5.17\n",
              "Fernanda   5.72  4.31 16.78 14.74\n",
              "Mariana   10.46 18.78 11.52 18.13\n",
              "Mauricio  13.75  1.88 10.61 12.25\n",
              "Fernanda   2.31  2.82 15.52 18.43\n",
              "Mariana   10.46 18.78 11.52 18.13\n",
              "Mauricio  13.75  1.88 10.61 12.25\n",
              "Fernanda   2.31  2.82 15.52 18.43"
            ]
          },
          "execution_count": 35,
          "metadata": {},
          "output_type": "execute_result"
        }
      ],
      "source": [
        "df1.append(df2).append(df2)"
      ]
    },
    {
      "cell_type": "code",
      "execution_count": null,
      "metadata": {
        "id": "NfmZKavie_YB",
        "outputId": "a0912cd6-f1ae-4b36-f1e2-046711e79b98"
      },
      "outputs": [
        {
          "data": {
            "text/html": [
              "<div>\n",
              "<style scoped>\n",
              "    .dataframe tbody tr th:only-of-type {\n",
              "        vertical-align: middle;\n",
              "    }\n",
              "\n",
              "    .dataframe tbody tr th {\n",
              "        vertical-align: top;\n",
              "    }\n",
              "\n",
              "    .dataframe thead th {\n",
              "        text-align: right;\n",
              "    }\n",
              "</style>\n",
              "<table border=\"1\" class=\"dataframe\">\n",
              "  <thead>\n",
              "    <tr style=\"text-align: right;\">\n",
              "      <th></th>\n",
              "      <th>PC1</th>\n",
              "      <th>PC2</th>\n",
              "      <th>PC3</th>\n",
              "      <th>PC4</th>\n",
              "      <th>PC1</th>\n",
              "      <th>PC2</th>\n",
              "      <th>PC3</th>\n",
              "      <th>PC4</th>\n",
              "    </tr>\n",
              "  </thead>\n",
              "  <tbody>\n",
              "    <tr>\n",
              "      <th>Alejandro</th>\n",
              "      <td>2.19</td>\n",
              "      <td>1.68</td>\n",
              "      <td>13.28</td>\n",
              "      <td>5.25</td>\n",
              "      <td>NaN</td>\n",
              "      <td>NaN</td>\n",
              "      <td>NaN</td>\n",
              "      <td>NaN</td>\n",
              "    </tr>\n",
              "    <tr>\n",
              "      <th>Ruben</th>\n",
              "      <td>0.10</td>\n",
              "      <td>19.60</td>\n",
              "      <td>18.18</td>\n",
              "      <td>18.50</td>\n",
              "      <td>NaN</td>\n",
              "      <td>NaN</td>\n",
              "      <td>NaN</td>\n",
              "      <td>NaN</td>\n",
              "    </tr>\n",
              "    <tr>\n",
              "      <th>Fernanda</th>\n",
              "      <td>18.13</td>\n",
              "      <td>7.28</td>\n",
              "      <td>10.28</td>\n",
              "      <td>11.43</td>\n",
              "      <td>19.94</td>\n",
              "      <td>16.03</td>\n",
              "      <td>12.41</td>\n",
              "      <td>9.40</td>\n",
              "    </tr>\n",
              "    <tr>\n",
              "      <th>Mariana</th>\n",
              "      <td>NaN</td>\n",
              "      <td>NaN</td>\n",
              "      <td>NaN</td>\n",
              "      <td>NaN</td>\n",
              "      <td>2.50</td>\n",
              "      <td>19.19</td>\n",
              "      <td>12.72</td>\n",
              "      <td>12.40</td>\n",
              "    </tr>\n",
              "    <tr>\n",
              "      <th>Mauricio</th>\n",
              "      <td>NaN</td>\n",
              "      <td>NaN</td>\n",
              "      <td>NaN</td>\n",
              "      <td>NaN</td>\n",
              "      <td>8.12</td>\n",
              "      <td>4.76</td>\n",
              "      <td>0.23</td>\n",
              "      <td>11.01</td>\n",
              "    </tr>\n",
              "  </tbody>\n",
              "</table>\n",
              "</div>"
            ],
            "text/plain": [
              "            PC1   PC2   PC3   PC4   PC1   PC2   PC3   PC4\n",
              "Alejandro  2.19  1.68 13.28  5.25   NaN   NaN   NaN   NaN\n",
              "Ruben      0.10 19.60 18.18 18.50   NaN   NaN   NaN   NaN\n",
              "Fernanda  18.13  7.28 10.28 11.43 19.94 16.03 12.41  9.40\n",
              "Mariana     NaN   NaN   NaN   NaN  2.50 19.19 12.72 12.40\n",
              "Mauricio    NaN   NaN   NaN   NaN  8.12  4.76  0.23 11.01"
            ]
          },
          "execution_count": 19,
          "metadata": {},
          "output_type": "execute_result"
        }
      ],
      "source": [
        "df1.T.append(df2.T).T"
      ]
    },
    {
      "cell_type": "markdown",
      "metadata": {
        "id": "BSSWOd3ie_YB"
      },
      "source": [
        "# Merge"
      ]
    },
    {
      "cell_type": "markdown",
      "metadata": {
        "id": "QPkvmYZHe_YB"
      },
      "source": [
        "Si nuestro objetivo no es solo concatenar sino que queremos fusionar nuestros datos en un solo DataFrame, el método correcto a usar es *merge()* Para conocer más acerca de él, crearemos un DataFrame llamado df_left y otro llamado df_right, los cuales vamos a fusionar en un solo DataFrame."
      ]
    },
    {
      "cell_type": "code",
      "execution_count": null,
      "metadata": {
        "id": "aOUYz0XFe_YC",
        "outputId": "49e196b9-127c-4685-d5f5-b7267cce9016"
      },
      "outputs": [
        {
          "data": {
            "text/html": [
              "<div>\n",
              "<style scoped>\n",
              "    .dataframe tbody tr th:only-of-type {\n",
              "        vertical-align: middle;\n",
              "    }\n",
              "\n",
              "    .dataframe tbody tr th {\n",
              "        vertical-align: top;\n",
              "    }\n",
              "\n",
              "    .dataframe thead th {\n",
              "        text-align: right;\n",
              "    }\n",
              "</style>\n",
              "<table border=\"1\" class=\"dataframe\">\n",
              "  <thead>\n",
              "    <tr style=\"text-align: right;\">\n",
              "      <th></th>\n",
              "      <th>X</th>\n",
              "      <th>W</th>\n",
              "      <th>Y</th>\n",
              "      <th>Mix</th>\n",
              "    </tr>\n",
              "  </thead>\n",
              "  <tbody>\n",
              "    <tr>\n",
              "      <th>y2</th>\n",
              "      <td>x0</td>\n",
              "      <td>w0</td>\n",
              "      <td>y0</td>\n",
              "      <td>y2</td>\n",
              "    </tr>\n",
              "    <tr>\n",
              "      <th>y3</th>\n",
              "      <td>x1</td>\n",
              "      <td>w1</td>\n",
              "      <td>y1</td>\n",
              "      <td>y3</td>\n",
              "    </tr>\n",
              "    <tr>\n",
              "      <th>a2</th>\n",
              "      <td>x2</td>\n",
              "      <td>w2</td>\n",
              "      <td>y2</td>\n",
              "      <td>a2</td>\n",
              "    </tr>\n",
              "    <tr>\n",
              "      <th>a3</th>\n",
              "      <td>x3</td>\n",
              "      <td>w3</td>\n",
              "      <td>y3</td>\n",
              "      <td>a3</td>\n",
              "    </tr>\n",
              "  </tbody>\n",
              "</table>\n",
              "</div>"
            ],
            "text/plain": [
              "     X   W   Y Mix\n",
              "y2  x0  w0  y0  y2\n",
              "y3  x1  w1  y1  y3\n",
              "a2  x2  w2  y2  a2\n",
              "a3  x3  w3  y3  a3"
            ]
          },
          "execution_count": 20,
          "metadata": {},
          "output_type": "execute_result"
        }
      ],
      "source": [
        "df_left = pd.DataFrame(\n",
        "    {'X':['x0','x1','x2','x3'],\n",
        "    'W':['w0','w1','w2','w3'],\n",
        "    'Y':['y0','y1','y2','y3'],\n",
        "    'Mix':['y2','y3','a2','a3']},\n",
        "    index = ['y2','y3','a2','a3'])\n",
        "df_left"
      ]
    },
    {
      "cell_type": "code",
      "execution_count": null,
      "metadata": {
        "id": "9bsW9GUQe_YC",
        "outputId": "c6c53c61-ab0a-427f-909c-27f93513cd80"
      },
      "outputs": [
        {
          "data": {
            "text/html": [
              "<div>\n",
              "<style scoped>\n",
              "    .dataframe tbody tr th:only-of-type {\n",
              "        vertical-align: middle;\n",
              "    }\n",
              "\n",
              "    .dataframe tbody tr th {\n",
              "        vertical-align: top;\n",
              "    }\n",
              "\n",
              "    .dataframe thead th {\n",
              "        text-align: right;\n",
              "    }\n",
              "</style>\n",
              "<table border=\"1\" class=\"dataframe\">\n",
              "  <thead>\n",
              "    <tr style=\"text-align: right;\">\n",
              "      <th></th>\n",
              "      <th>Z</th>\n",
              "      <th>A</th>\n",
              "      <th>Y</th>\n",
              "    </tr>\n",
              "  </thead>\n",
              "  <tbody>\n",
              "    <tr>\n",
              "      <th>2</th>\n",
              "      <td>z2</td>\n",
              "      <td>a2</td>\n",
              "      <td>y2</td>\n",
              "    </tr>\n",
              "    <tr>\n",
              "      <th>3</th>\n",
              "      <td>z3</td>\n",
              "      <td>a3</td>\n",
              "      <td>y3</td>\n",
              "    </tr>\n",
              "    <tr>\n",
              "      <th>4</th>\n",
              "      <td>z4</td>\n",
              "      <td>a4</td>\n",
              "      <td>y4</td>\n",
              "    </tr>\n",
              "    <tr>\n",
              "      <th>5</th>\n",
              "      <td>z5</td>\n",
              "      <td>a5</td>\n",
              "      <td>y5</td>\n",
              "    </tr>\n",
              "  </tbody>\n",
              "</table>\n",
              "</div>"
            ],
            "text/plain": [
              "    Z   A   Y\n",
              "2  z2  a2  y2\n",
              "3  z3  a3  y3\n",
              "4  z4  a4  y4\n",
              "5  z5  a5  y5"
            ]
          },
          "execution_count": 21,
          "metadata": {},
          "output_type": "execute_result"
        }
      ],
      "source": [
        "df_right = pd.DataFrame(\n",
        "    {'Z':['z2','z3','z4','z5'],\n",
        "     'A':['a2','a3','a4','a5'],\n",
        "     'Y':['y2','y3','y4','y5']},\n",
        "    index = [2,3,4,5])\n",
        "df_right"
      ]
    },
    {
      "cell_type": "code",
      "execution_count": null,
      "metadata": {
        "id": "uvlgqGREe_YC",
        "outputId": "c3e1e4a2-78a8-44cf-b3f7-6de6203aa23b"
      },
      "outputs": [
        {
          "data": {
            "text/html": [
              "<div>\n",
              "<style scoped>\n",
              "    .dataframe tbody tr th:only-of-type {\n",
              "        vertical-align: middle;\n",
              "    }\n",
              "\n",
              "    .dataframe tbody tr th {\n",
              "        vertical-align: top;\n",
              "    }\n",
              "\n",
              "    .dataframe thead th {\n",
              "        text-align: right;\n",
              "    }\n",
              "</style>\n",
              "<table border=\"1\" class=\"dataframe\">\n",
              "  <thead>\n",
              "    <tr style=\"text-align: right;\">\n",
              "      <th></th>\n",
              "      <th>X</th>\n",
              "      <th>W</th>\n",
              "      <th>Y</th>\n",
              "      <th>Mix</th>\n",
              "      <th>Z</th>\n",
              "      <th>A</th>\n",
              "    </tr>\n",
              "  </thead>\n",
              "  <tbody>\n",
              "    <tr>\n",
              "      <th>0</th>\n",
              "      <td>x2</td>\n",
              "      <td>w2</td>\n",
              "      <td>y2</td>\n",
              "      <td>a2</td>\n",
              "      <td>z2</td>\n",
              "      <td>a2</td>\n",
              "    </tr>\n",
              "    <tr>\n",
              "      <th>1</th>\n",
              "      <td>x3</td>\n",
              "      <td>w3</td>\n",
              "      <td>y3</td>\n",
              "      <td>a3</td>\n",
              "      <td>z3</td>\n",
              "      <td>a3</td>\n",
              "    </tr>\n",
              "  </tbody>\n",
              "</table>\n",
              "</div>"
            ],
            "text/plain": [
              "    X   W   Y Mix   Z   A\n",
              "0  x2  w2  y2  a2  z2  a2\n",
              "1  x3  w3  y3  a3  z3  a3"
            ]
          },
          "execution_count": 22,
          "metadata": {},
          "output_type": "execute_result"
        }
      ],
      "source": [
        "pd.merge(df_left, df_right)"
      ]
    },
    {
      "cell_type": "markdown",
      "metadata": {
        "id": "pghKgmAge_YC"
      },
      "source": [
        "Al hacer Merge, este tiene por defecto los siguientes parámetros *how=\"inner\"*, el cual indica que obtendremos la intersección de los DataFrames y 'on' que indica en qué nivel de columna o índice se hará la unión, este valor, debe encontrarse en ambos DataFrames para que se pueda hacer el merge, el valor predeterminado de este son todos los índices o columnas en los que existan coincidencias."
      ]
    },
    {
      "cell_type": "code",
      "execution_count": null,
      "metadata": {
        "id": "RoseIO2ie_YC",
        "outputId": "52757760-0be2-48b4-db92-512a84cac6d3"
      },
      "outputs": [
        {
          "data": {
            "text/html": [
              "<div>\n",
              "<style scoped>\n",
              "    .dataframe tbody tr th:only-of-type {\n",
              "        vertical-align: middle;\n",
              "    }\n",
              "\n",
              "    .dataframe tbody tr th {\n",
              "        vertical-align: top;\n",
              "    }\n",
              "\n",
              "    .dataframe thead th {\n",
              "        text-align: right;\n",
              "    }\n",
              "</style>\n",
              "<table border=\"1\" class=\"dataframe\">\n",
              "  <thead>\n",
              "    <tr style=\"text-align: right;\">\n",
              "      <th></th>\n",
              "      <th>X</th>\n",
              "      <th>W</th>\n",
              "      <th>Y</th>\n",
              "      <th>Mix</th>\n",
              "      <th>Z</th>\n",
              "      <th>A</th>\n",
              "    </tr>\n",
              "  </thead>\n",
              "  <tbody>\n",
              "    <tr>\n",
              "      <th>0</th>\n",
              "      <td>x2</td>\n",
              "      <td>w2</td>\n",
              "      <td>y2</td>\n",
              "      <td>a2</td>\n",
              "      <td>z2</td>\n",
              "      <td>a2</td>\n",
              "    </tr>\n",
              "    <tr>\n",
              "      <th>1</th>\n",
              "      <td>x3</td>\n",
              "      <td>w3</td>\n",
              "      <td>y3</td>\n",
              "      <td>a3</td>\n",
              "      <td>z3</td>\n",
              "      <td>a3</td>\n",
              "    </tr>\n",
              "  </tbody>\n",
              "</table>\n",
              "</div>"
            ],
            "text/plain": [
              "    X   W   Y Mix   Z   A\n",
              "0  x2  w2  y2  a2  z2  a2\n",
              "1  x3  w3  y3  a3  z3  a3"
            ]
          },
          "execution_count": 23,
          "metadata": {},
          "output_type": "execute_result"
        }
      ],
      "source": [
        "pd.merge(df_left, df_right, how='inner', on='Y')"
      ]
    },
    {
      "cell_type": "markdown",
      "metadata": {
        "id": "LYDTH9iRe_YD"
      },
      "source": [
        "Si usamos el parámetro *left_on* especificamos el nombre de nivel o índice para unir el DataFrame izquierdo y con *right_on*, especificamos el nombre de nivel de columna o índice para unir el DataFrame Derecho. Como ejemplo haremos un merge en el que uniremos las coincidencias en cuanto a los valores de la columna Mix con la columna Y y después con la columna A."
      ]
    },
    {
      "cell_type": "code",
      "execution_count": null,
      "metadata": {
        "id": "4ehNUu4Ie_YD",
        "outputId": "24ab1cf5-13c4-4642-8189-ede449860280"
      },
      "outputs": [
        {
          "data": {
            "text/html": [
              "<div>\n",
              "<style scoped>\n",
              "    .dataframe tbody tr th:only-of-type {\n",
              "        vertical-align: middle;\n",
              "    }\n",
              "\n",
              "    .dataframe tbody tr th {\n",
              "        vertical-align: top;\n",
              "    }\n",
              "\n",
              "    .dataframe thead th {\n",
              "        text-align: right;\n",
              "    }\n",
              "</style>\n",
              "<table border=\"1\" class=\"dataframe\">\n",
              "  <thead>\n",
              "    <tr style=\"text-align: right;\">\n",
              "      <th></th>\n",
              "      <th>X</th>\n",
              "      <th>W</th>\n",
              "      <th>Y_x</th>\n",
              "      <th>Mix</th>\n",
              "      <th>Z</th>\n",
              "      <th>A</th>\n",
              "      <th>Y_y</th>\n",
              "    </tr>\n",
              "  </thead>\n",
              "  <tbody>\n",
              "    <tr>\n",
              "      <th>0</th>\n",
              "      <td>x0</td>\n",
              "      <td>w0</td>\n",
              "      <td>y0</td>\n",
              "      <td>y2</td>\n",
              "      <td>z2</td>\n",
              "      <td>a2</td>\n",
              "      <td>y2</td>\n",
              "    </tr>\n",
              "    <tr>\n",
              "      <th>1</th>\n",
              "      <td>x1</td>\n",
              "      <td>w1</td>\n",
              "      <td>y1</td>\n",
              "      <td>y3</td>\n",
              "      <td>z3</td>\n",
              "      <td>a3</td>\n",
              "      <td>y3</td>\n",
              "    </tr>\n",
              "  </tbody>\n",
              "</table>\n",
              "</div>"
            ],
            "text/plain": [
              "    X   W Y_x Mix   Z   A Y_y\n",
              "0  x0  w0  y0  y2  z2  a2  y2\n",
              "1  x1  w1  y1  y3  z3  a3  y3"
            ]
          },
          "execution_count": 24,
          "metadata": {},
          "output_type": "execute_result"
        }
      ],
      "source": [
        "pd.merge(df_left, df_right, how='inner', left_on='Mix', right_on='Y')"
      ]
    },
    {
      "cell_type": "code",
      "execution_count": null,
      "metadata": {
        "id": "0w0ttU9je_YD",
        "outputId": "eb8d6215-73a9-48d5-d5ca-f24bf06df233"
      },
      "outputs": [
        {
          "data": {
            "text/html": [
              "<div>\n",
              "<style scoped>\n",
              "    .dataframe tbody tr th:only-of-type {\n",
              "        vertical-align: middle;\n",
              "    }\n",
              "\n",
              "    .dataframe tbody tr th {\n",
              "        vertical-align: top;\n",
              "    }\n",
              "\n",
              "    .dataframe thead th {\n",
              "        text-align: right;\n",
              "    }\n",
              "</style>\n",
              "<table border=\"1\" class=\"dataframe\">\n",
              "  <thead>\n",
              "    <tr style=\"text-align: right;\">\n",
              "      <th></th>\n",
              "      <th>X</th>\n",
              "      <th>W</th>\n",
              "      <th>Y_x</th>\n",
              "      <th>Mix</th>\n",
              "      <th>Z</th>\n",
              "      <th>A</th>\n",
              "      <th>Y_y</th>\n",
              "    </tr>\n",
              "  </thead>\n",
              "  <tbody>\n",
              "    <tr>\n",
              "      <th>0</th>\n",
              "      <td>x2</td>\n",
              "      <td>w2</td>\n",
              "      <td>y2</td>\n",
              "      <td>a2</td>\n",
              "      <td>z2</td>\n",
              "      <td>a2</td>\n",
              "      <td>y2</td>\n",
              "    </tr>\n",
              "    <tr>\n",
              "      <th>1</th>\n",
              "      <td>x3</td>\n",
              "      <td>w3</td>\n",
              "      <td>y3</td>\n",
              "      <td>a3</td>\n",
              "      <td>z3</td>\n",
              "      <td>a3</td>\n",
              "      <td>y3</td>\n",
              "    </tr>\n",
              "  </tbody>\n",
              "</table>\n",
              "</div>"
            ],
            "text/plain": [
              "    X   W Y_x Mix   Z   A Y_y\n",
              "0  x2  w2  y2  a2  z2  a2  y2\n",
              "1  x3  w3  y3  a3  z3  a3  y3"
            ]
          },
          "execution_count": 25,
          "metadata": {},
          "output_type": "execute_result"
        }
      ],
      "source": [
        "pd.merge(df_left, df_right, how='inner', left_on='Mix', right_on='A')"
      ]
    },
    {
      "cell_type": "markdown",
      "metadata": {
        "id": "OcVdHxWne_YD"
      },
      "source": [
        "Podemos especificar el cómo queremos el merge mediante el parámetro *how*, como se mencionó anteriormente, este tiene por defecto la intersección (inner). A continuación se muestra un gráfico con las diferentes formas de hacer el merge y el valor del parámetro *how* para cada caso."
      ]
    },
    {
      "cell_type": "markdown",
      "metadata": {
        "id": "AyYl40Sbe_YD"
      },
      "source": [
        "<h1></h1>"
      ]
    },
    {
      "cell_type": "markdown",
      "metadata": {
        "id": "kOBnjuQue_YD"
      },
      "source": [
        "<center>\n",
        "<img src=\"https://i.ibb.co/kQf31td/Merge.png\" alt=\"Merge\" border=\"0\">\n",
        "</center>"
      ]
    },
    {
      "cell_type": "markdown",
      "metadata": {
        "id": "sssoEEbve_YD"
      },
      "source": [
        "<h1></h1>"
      ]
    },
    {
      "cell_type": "code",
      "execution_count": null,
      "metadata": {
        "id": "Ql7MCQk6e_YE",
        "outputId": "9c25d278-457f-4082-c447-f75a9816af4b"
      },
      "outputs": [
        {
          "data": {
            "text/html": [
              "<div>\n",
              "<style scoped>\n",
              "    .dataframe tbody tr th:only-of-type {\n",
              "        vertical-align: middle;\n",
              "    }\n",
              "\n",
              "    .dataframe tbody tr th {\n",
              "        vertical-align: top;\n",
              "    }\n",
              "\n",
              "    .dataframe thead th {\n",
              "        text-align: right;\n",
              "    }\n",
              "</style>\n",
              "<table border=\"1\" class=\"dataframe\">\n",
              "  <thead>\n",
              "    <tr style=\"text-align: right;\">\n",
              "      <th></th>\n",
              "      <th>X</th>\n",
              "      <th>W</th>\n",
              "      <th>Y</th>\n",
              "    </tr>\n",
              "  </thead>\n",
              "  <tbody>\n",
              "    <tr>\n",
              "      <th>0</th>\n",
              "      <td>x0</td>\n",
              "      <td>w0</td>\n",
              "      <td>y0</td>\n",
              "    </tr>\n",
              "    <tr>\n",
              "      <th>1</th>\n",
              "      <td>x1</td>\n",
              "      <td>w1</td>\n",
              "      <td>y1</td>\n",
              "    </tr>\n",
              "    <tr>\n",
              "      <th>2</th>\n",
              "      <td>x2</td>\n",
              "      <td>w2</td>\n",
              "      <td>y2</td>\n",
              "    </tr>\n",
              "    <tr>\n",
              "      <th>3</th>\n",
              "      <td>x3</td>\n",
              "      <td>w3</td>\n",
              "      <td>y3</td>\n",
              "    </tr>\n",
              "  </tbody>\n",
              "</table>\n",
              "</div>"
            ],
            "text/plain": [
              "    X   W   Y\n",
              "0  x0  w0  y0\n",
              "1  x1  w1  y1\n",
              "2  x2  w2  y2\n",
              "3  x3  w3  y3"
            ]
          },
          "execution_count": 26,
          "metadata": {},
          "output_type": "execute_result"
        }
      ],
      "source": [
        "df_left = pd.DataFrame(\n",
        "    {'X':['x0','x1','x2','x3'],\n",
        "    'W':['w0','w1','w2','w3'],\n",
        "    'Y':['y0','y1','y2','y3']},\n",
        "     index = [0,1,2,3])\n",
        "\n",
        "df_left"
      ]
    },
    {
      "cell_type": "code",
      "execution_count": null,
      "metadata": {
        "id": "uwi5orb-e_YE",
        "outputId": "3b6241ec-dd99-4f6c-9604-073b1cde57be"
      },
      "outputs": [
        {
          "data": {
            "text/html": [
              "<div>\n",
              "<style scoped>\n",
              "    .dataframe tbody tr th:only-of-type {\n",
              "        vertical-align: middle;\n",
              "    }\n",
              "\n",
              "    .dataframe tbody tr th {\n",
              "        vertical-align: top;\n",
              "    }\n",
              "\n",
              "    .dataframe thead th {\n",
              "        text-align: right;\n",
              "    }\n",
              "</style>\n",
              "<table border=\"1\" class=\"dataframe\">\n",
              "  <thead>\n",
              "    <tr style=\"text-align: right;\">\n",
              "      <th></th>\n",
              "      <th>X</th>\n",
              "      <th>W</th>\n",
              "      <th>Y</th>\n",
              "      <th>Z</th>\n",
              "      <th>A</th>\n",
              "    </tr>\n",
              "  </thead>\n",
              "  <tbody>\n",
              "    <tr>\n",
              "      <th>0</th>\n",
              "      <td>x2</td>\n",
              "      <td>w2</td>\n",
              "      <td>y2</td>\n",
              "      <td>z2</td>\n",
              "      <td>a2</td>\n",
              "    </tr>\n",
              "    <tr>\n",
              "      <th>1</th>\n",
              "      <td>x3</td>\n",
              "      <td>w3</td>\n",
              "      <td>y3</td>\n",
              "      <td>z3</td>\n",
              "      <td>a3</td>\n",
              "    </tr>\n",
              "  </tbody>\n",
              "</table>\n",
              "</div>"
            ],
            "text/plain": [
              "    X   W   Y   Z   A\n",
              "0  x2  w2  y2  z2  a2\n",
              "1  x3  w3  y3  z3  a3"
            ]
          },
          "execution_count": 27,
          "metadata": {},
          "output_type": "execute_result"
        }
      ],
      "source": [
        "pd.merge(df_left, df_right, how='inner', on='Y')"
      ]
    },
    {
      "cell_type": "code",
      "execution_count": null,
      "metadata": {
        "id": "kJuCRX-Ge_YE",
        "outputId": "938cd3e5-9e5d-4c9b-abcd-6def3e30f2be"
      },
      "outputs": [
        {
          "data": {
            "text/html": [
              "<div>\n",
              "<style scoped>\n",
              "    .dataframe tbody tr th:only-of-type {\n",
              "        vertical-align: middle;\n",
              "    }\n",
              "\n",
              "    .dataframe tbody tr th {\n",
              "        vertical-align: top;\n",
              "    }\n",
              "\n",
              "    .dataframe thead th {\n",
              "        text-align: right;\n",
              "    }\n",
              "</style>\n",
              "<table border=\"1\" class=\"dataframe\">\n",
              "  <thead>\n",
              "    <tr style=\"text-align: right;\">\n",
              "      <th></th>\n",
              "      <th>X</th>\n",
              "      <th>W</th>\n",
              "      <th>Y</th>\n",
              "      <th>Z</th>\n",
              "      <th>A</th>\n",
              "    </tr>\n",
              "  </thead>\n",
              "  <tbody>\n",
              "    <tr>\n",
              "      <th>0</th>\n",
              "      <td>x0</td>\n",
              "      <td>w0</td>\n",
              "      <td>y0</td>\n",
              "      <td>NaN</td>\n",
              "      <td>NaN</td>\n",
              "    </tr>\n",
              "    <tr>\n",
              "      <th>1</th>\n",
              "      <td>x1</td>\n",
              "      <td>w1</td>\n",
              "      <td>y1</td>\n",
              "      <td>NaN</td>\n",
              "      <td>NaN</td>\n",
              "    </tr>\n",
              "    <tr>\n",
              "      <th>2</th>\n",
              "      <td>x2</td>\n",
              "      <td>w2</td>\n",
              "      <td>y2</td>\n",
              "      <td>z2</td>\n",
              "      <td>a2</td>\n",
              "    </tr>\n",
              "    <tr>\n",
              "      <th>3</th>\n",
              "      <td>x3</td>\n",
              "      <td>w3</td>\n",
              "      <td>y3</td>\n",
              "      <td>z3</td>\n",
              "      <td>a3</td>\n",
              "    </tr>\n",
              "  </tbody>\n",
              "</table>\n",
              "</div>"
            ],
            "text/plain": [
              "    X   W   Y    Z    A\n",
              "0  x0  w0  y0  NaN  NaN\n",
              "1  x1  w1  y1  NaN  NaN\n",
              "2  x2  w2  y2   z2   a2\n",
              "3  x3  w3  y3   z3   a3"
            ]
          },
          "execution_count": 28,
          "metadata": {},
          "output_type": "execute_result"
        }
      ],
      "source": [
        "pd.merge(df_left, df_right, how='left', on='Y')"
      ]
    },
    {
      "cell_type": "code",
      "execution_count": null,
      "metadata": {
        "id": "7bS176Vge_YE",
        "outputId": "a42dc497-15b4-48d0-8820-b2fbba553b13"
      },
      "outputs": [
        {
          "data": {
            "text/html": [
              "<div>\n",
              "<style scoped>\n",
              "    .dataframe tbody tr th:only-of-type {\n",
              "        vertical-align: middle;\n",
              "    }\n",
              "\n",
              "    .dataframe tbody tr th {\n",
              "        vertical-align: top;\n",
              "    }\n",
              "\n",
              "    .dataframe thead th {\n",
              "        text-align: right;\n",
              "    }\n",
              "</style>\n",
              "<table border=\"1\" class=\"dataframe\">\n",
              "  <thead>\n",
              "    <tr style=\"text-align: right;\">\n",
              "      <th></th>\n",
              "      <th>X</th>\n",
              "      <th>W</th>\n",
              "      <th>Y</th>\n",
              "      <th>Z</th>\n",
              "      <th>A</th>\n",
              "    </tr>\n",
              "  </thead>\n",
              "  <tbody>\n",
              "    <tr>\n",
              "      <th>0</th>\n",
              "      <td>x2</td>\n",
              "      <td>w2</td>\n",
              "      <td>y2</td>\n",
              "      <td>z2</td>\n",
              "      <td>a2</td>\n",
              "    </tr>\n",
              "    <tr>\n",
              "      <th>1</th>\n",
              "      <td>x3</td>\n",
              "      <td>w3</td>\n",
              "      <td>y3</td>\n",
              "      <td>z3</td>\n",
              "      <td>a3</td>\n",
              "    </tr>\n",
              "    <tr>\n",
              "      <th>2</th>\n",
              "      <td>NaN</td>\n",
              "      <td>NaN</td>\n",
              "      <td>y4</td>\n",
              "      <td>z4</td>\n",
              "      <td>a4</td>\n",
              "    </tr>\n",
              "    <tr>\n",
              "      <th>3</th>\n",
              "      <td>NaN</td>\n",
              "      <td>NaN</td>\n",
              "      <td>y5</td>\n",
              "      <td>z5</td>\n",
              "      <td>a5</td>\n",
              "    </tr>\n",
              "  </tbody>\n",
              "</table>\n",
              "</div>"
            ],
            "text/plain": [
              "     X    W   Y   Z   A\n",
              "0   x2   w2  y2  z2  a2\n",
              "1   x3   w3  y3  z3  a3\n",
              "2  NaN  NaN  y4  z4  a4\n",
              "3  NaN  NaN  y5  z5  a5"
            ]
          },
          "execution_count": 29,
          "metadata": {},
          "output_type": "execute_result"
        }
      ],
      "source": [
        "pd.merge(df_left, df_right, how='right', on='Y')"
      ]
    },
    {
      "cell_type": "code",
      "execution_count": null,
      "metadata": {
        "id": "ohFomnXTe_YE",
        "outputId": "997b3e55-8b3a-4e0b-d615-c237d1659591"
      },
      "outputs": [
        {
          "data": {
            "text/html": [
              "<div>\n",
              "<style scoped>\n",
              "    .dataframe tbody tr th:only-of-type {\n",
              "        vertical-align: middle;\n",
              "    }\n",
              "\n",
              "    .dataframe tbody tr th {\n",
              "        vertical-align: top;\n",
              "    }\n",
              "\n",
              "    .dataframe thead th {\n",
              "        text-align: right;\n",
              "    }\n",
              "</style>\n",
              "<table border=\"1\" class=\"dataframe\">\n",
              "  <thead>\n",
              "    <tr style=\"text-align: right;\">\n",
              "      <th></th>\n",
              "      <th>X</th>\n",
              "      <th>W</th>\n",
              "      <th>Y</th>\n",
              "      <th>Z</th>\n",
              "      <th>A</th>\n",
              "    </tr>\n",
              "  </thead>\n",
              "  <tbody>\n",
              "    <tr>\n",
              "      <th>0</th>\n",
              "      <td>x0</td>\n",
              "      <td>w0</td>\n",
              "      <td>y0</td>\n",
              "      <td>NaN</td>\n",
              "      <td>NaN</td>\n",
              "    </tr>\n",
              "    <tr>\n",
              "      <th>1</th>\n",
              "      <td>x1</td>\n",
              "      <td>w1</td>\n",
              "      <td>y1</td>\n",
              "      <td>NaN</td>\n",
              "      <td>NaN</td>\n",
              "    </tr>\n",
              "    <tr>\n",
              "      <th>2</th>\n",
              "      <td>x2</td>\n",
              "      <td>w2</td>\n",
              "      <td>y2</td>\n",
              "      <td>z2</td>\n",
              "      <td>a2</td>\n",
              "    </tr>\n",
              "    <tr>\n",
              "      <th>3</th>\n",
              "      <td>x3</td>\n",
              "      <td>w3</td>\n",
              "      <td>y3</td>\n",
              "      <td>z3</td>\n",
              "      <td>a3</td>\n",
              "    </tr>\n",
              "    <tr>\n",
              "      <th>4</th>\n",
              "      <td>NaN</td>\n",
              "      <td>NaN</td>\n",
              "      <td>y4</td>\n",
              "      <td>z4</td>\n",
              "      <td>a4</td>\n",
              "    </tr>\n",
              "    <tr>\n",
              "      <th>5</th>\n",
              "      <td>NaN</td>\n",
              "      <td>NaN</td>\n",
              "      <td>y5</td>\n",
              "      <td>z5</td>\n",
              "      <td>a5</td>\n",
              "    </tr>\n",
              "  </tbody>\n",
              "</table>\n",
              "</div>"
            ],
            "text/plain": [
              "     X    W   Y    Z    A\n",
              "0   x0   w0  y0  NaN  NaN\n",
              "1   x1   w1  y1  NaN  NaN\n",
              "2   x2   w2  y2   z2   a2\n",
              "3   x3   w3  y3   z3   a3\n",
              "4  NaN  NaN  y4   z4   a4\n",
              "5  NaN  NaN  y5   z5   a5"
            ]
          },
          "execution_count": 30,
          "metadata": {},
          "output_type": "execute_result"
        }
      ],
      "source": [
        "pd.merge(df_left, df_right, how='outer', on='Y')"
      ]
    },
    {
      "cell_type": "markdown",
      "metadata": {
        "id": "yx2p4kmqe_YE"
      },
      "source": [
        "Por último, el parámetro *on* puede recibir un solo valor o una lista tal como mostrará en el ejemplo siguiente, además podemos modificar los sufijos que se generan al hacer un merge con el parámetro *suffixes*."
      ]
    },
    {
      "cell_type": "code",
      "execution_count": null,
      "metadata": {
        "id": "BgUJCKpZe_YE",
        "outputId": "129b97bf-d35a-45c6-ec6e-15be0fb74877"
      },
      "outputs": [
        {
          "data": {
            "text/html": [
              "<div>\n",
              "<style scoped>\n",
              "    .dataframe tbody tr th:only-of-type {\n",
              "        vertical-align: middle;\n",
              "    }\n",
              "\n",
              "    .dataframe tbody tr th {\n",
              "        vertical-align: top;\n",
              "    }\n",
              "\n",
              "    .dataframe thead th {\n",
              "        text-align: right;\n",
              "    }\n",
              "</style>\n",
              "<table border=\"1\" class=\"dataframe\">\n",
              "  <thead>\n",
              "    <tr style=\"text-align: right;\">\n",
              "      <th></th>\n",
              "      <th>X</th>\n",
              "      <th>W</th>\n",
              "      <th>Y</th>\n",
              "      <th>A</th>\n",
              "    </tr>\n",
              "  </thead>\n",
              "  <tbody>\n",
              "    <tr>\n",
              "      <th>0</th>\n",
              "      <td>x0</td>\n",
              "      <td>w0</td>\n",
              "      <td>y0</td>\n",
              "      <td>a0</td>\n",
              "    </tr>\n",
              "    <tr>\n",
              "      <th>1</th>\n",
              "      <td>x1</td>\n",
              "      <td>w1</td>\n",
              "      <td>y1</td>\n",
              "      <td>a1</td>\n",
              "    </tr>\n",
              "    <tr>\n",
              "      <th>2</th>\n",
              "      <td>x2</td>\n",
              "      <td>w2</td>\n",
              "      <td>y2</td>\n",
              "      <td>a2</td>\n",
              "    </tr>\n",
              "    <tr>\n",
              "      <th>3</th>\n",
              "      <td>x3</td>\n",
              "      <td>w3</td>\n",
              "      <td>y3</td>\n",
              "      <td>a3</td>\n",
              "    </tr>\n",
              "  </tbody>\n",
              "</table>\n",
              "</div>"
            ],
            "text/plain": [
              "    X   W   Y   A\n",
              "0  x0  w0  y0  a0\n",
              "1  x1  w1  y1  a1\n",
              "2  x2  w2  y2  a2\n",
              "3  x3  w3  y3  a3"
            ]
          },
          "execution_count": 31,
          "metadata": {},
          "output_type": "execute_result"
        }
      ],
      "source": [
        "df_left = pd.DataFrame(\n",
        "                      {'X': ['x0', 'x1', 'x2', 'x3'],\n",
        "                        'W': ['w0', 'w1', 'w2', 'w3'], \n",
        "                        'Y': ['y0', 'y1', 'y2', 'y3'],\n",
        "                        'A': ['a0', 'a1', 'a2', 'a3'],})\n",
        "df_left"
      ]
    },
    {
      "cell_type": "code",
      "execution_count": null,
      "metadata": {
        "id": "m06_LsLxe_YF",
        "outputId": "f90a101d-0cf8-4190-c773-6d79dfe9477e"
      },
      "outputs": [
        {
          "data": {
            "text/html": [
              "<div>\n",
              "<style scoped>\n",
              "    .dataframe tbody tr th:only-of-type {\n",
              "        vertical-align: middle;\n",
              "    }\n",
              "\n",
              "    .dataframe tbody tr th {\n",
              "        vertical-align: top;\n",
              "    }\n",
              "\n",
              "    .dataframe thead th {\n",
              "        text-align: right;\n",
              "    }\n",
              "</style>\n",
              "<table border=\"1\" class=\"dataframe\">\n",
              "  <thead>\n",
              "    <tr style=\"text-align: right;\">\n",
              "      <th></th>\n",
              "      <th>X</th>\n",
              "      <th>W</th>\n",
              "      <th>Y</th>\n",
              "      <th>A</th>\n",
              "      <th>Z</th>\n",
              "    </tr>\n",
              "  </thead>\n",
              "  <tbody>\n",
              "    <tr>\n",
              "      <th>0</th>\n",
              "      <td>x0</td>\n",
              "      <td>w0</td>\n",
              "      <td>y0</td>\n",
              "      <td>a0</td>\n",
              "      <td>NaN</td>\n",
              "    </tr>\n",
              "    <tr>\n",
              "      <th>1</th>\n",
              "      <td>x1</td>\n",
              "      <td>w1</td>\n",
              "      <td>y1</td>\n",
              "      <td>a1</td>\n",
              "      <td>NaN</td>\n",
              "    </tr>\n",
              "    <tr>\n",
              "      <th>2</th>\n",
              "      <td>x2</td>\n",
              "      <td>w2</td>\n",
              "      <td>y2</td>\n",
              "      <td>a2</td>\n",
              "      <td>z2</td>\n",
              "    </tr>\n",
              "    <tr>\n",
              "      <th>3</th>\n",
              "      <td>x3</td>\n",
              "      <td>w3</td>\n",
              "      <td>y3</td>\n",
              "      <td>a3</td>\n",
              "      <td>z3</td>\n",
              "    </tr>\n",
              "    <tr>\n",
              "      <th>4</th>\n",
              "      <td>NaN</td>\n",
              "      <td>NaN</td>\n",
              "      <td>y4</td>\n",
              "      <td>a4</td>\n",
              "      <td>z4</td>\n",
              "    </tr>\n",
              "    <tr>\n",
              "      <th>5</th>\n",
              "      <td>NaN</td>\n",
              "      <td>NaN</td>\n",
              "      <td>y5</td>\n",
              "      <td>a5</td>\n",
              "      <td>z5</td>\n",
              "    </tr>\n",
              "  </tbody>\n",
              "</table>\n",
              "</div>"
            ],
            "text/plain": [
              "     X    W   Y   A    Z\n",
              "0   x0   w0  y0  a0  NaN\n",
              "1   x1   w1  y1  a1  NaN\n",
              "2   x2   w2  y2  a2   z2\n",
              "3   x3   w3  y3  a3   z3\n",
              "4  NaN  NaN  y4  a4   z4\n",
              "5  NaN  NaN  y5  a5   z5"
            ]
          },
          "execution_count": 32,
          "metadata": {},
          "output_type": "execute_result"
        }
      ],
      "source": [
        "pd.merge(df_left, df_right, how='outer', on=['Y','A'])"
      ]
    },
    {
      "cell_type": "code",
      "execution_count": null,
      "metadata": {
        "id": "9bHaZsaye_YF",
        "outputId": "3df023ad-7204-4689-d96b-87cf13135613"
      },
      "outputs": [
        {
          "data": {
            "text/html": [
              "<div>\n",
              "<style scoped>\n",
              "    .dataframe tbody tr th:only-of-type {\n",
              "        vertical-align: middle;\n",
              "    }\n",
              "\n",
              "    .dataframe tbody tr th {\n",
              "        vertical-align: top;\n",
              "    }\n",
              "\n",
              "    .dataframe thead th {\n",
              "        text-align: right;\n",
              "    }\n",
              "</style>\n",
              "<table border=\"1\" class=\"dataframe\">\n",
              "  <thead>\n",
              "    <tr style=\"text-align: right;\">\n",
              "      <th></th>\n",
              "      <th>X</th>\n",
              "      <th>W</th>\n",
              "      <th>Y_left</th>\n",
              "      <th>A</th>\n",
              "      <th>Z</th>\n",
              "      <th>Y_right</th>\n",
              "    </tr>\n",
              "  </thead>\n",
              "  <tbody>\n",
              "    <tr>\n",
              "      <th>0</th>\n",
              "      <td>x0</td>\n",
              "      <td>w0</td>\n",
              "      <td>y0</td>\n",
              "      <td>a0</td>\n",
              "      <td>NaN</td>\n",
              "      <td>NaN</td>\n",
              "    </tr>\n",
              "    <tr>\n",
              "      <th>1</th>\n",
              "      <td>x1</td>\n",
              "      <td>w1</td>\n",
              "      <td>y1</td>\n",
              "      <td>a1</td>\n",
              "      <td>NaN</td>\n",
              "      <td>NaN</td>\n",
              "    </tr>\n",
              "    <tr>\n",
              "      <th>2</th>\n",
              "      <td>x2</td>\n",
              "      <td>w2</td>\n",
              "      <td>y2</td>\n",
              "      <td>a2</td>\n",
              "      <td>z2</td>\n",
              "      <td>y2</td>\n",
              "    </tr>\n",
              "    <tr>\n",
              "      <th>3</th>\n",
              "      <td>x3</td>\n",
              "      <td>w3</td>\n",
              "      <td>y3</td>\n",
              "      <td>a3</td>\n",
              "      <td>z3</td>\n",
              "      <td>y3</td>\n",
              "    </tr>\n",
              "    <tr>\n",
              "      <th>4</th>\n",
              "      <td>NaN</td>\n",
              "      <td>NaN</td>\n",
              "      <td>NaN</td>\n",
              "      <td>a4</td>\n",
              "      <td>z4</td>\n",
              "      <td>y4</td>\n",
              "    </tr>\n",
              "    <tr>\n",
              "      <th>5</th>\n",
              "      <td>NaN</td>\n",
              "      <td>NaN</td>\n",
              "      <td>NaN</td>\n",
              "      <td>a5</td>\n",
              "      <td>z5</td>\n",
              "      <td>y5</td>\n",
              "    </tr>\n",
              "  </tbody>\n",
              "</table>\n",
              "</div>"
            ],
            "text/plain": [
              "     X    W Y_left   A    Z Y_right\n",
              "0   x0   w0     y0  a0  NaN     NaN\n",
              "1   x1   w1     y1  a1  NaN     NaN\n",
              "2   x2   w2     y2  a2   z2      y2\n",
              "3   x3   w3     y3  a3   z3      y3\n",
              "4  NaN  NaN    NaN  a4   z4      y4\n",
              "5  NaN  NaN    NaN  a5   z5      y5"
            ]
          },
          "execution_count": 33,
          "metadata": {},
          "output_type": "execute_result"
        }
      ],
      "source": [
        "pd.merge(df_left, df_right, how='outer', on='A', suffixes=['_left','_right'])"
      ]
    }
  ],
  "metadata": {
    "colab": {
      "collapsed_sections": [],
      "name": "PFDS6_Concatenaciones_y_Merge.ipynb",
      "provenance": [],
      "toc_visible": true
    },
    "deepnote": {},
    "deepnote_execution_queue": [],
    "deepnote_notebook_id": "f63883d7-5ade-4a5e-a095-43e43862c3bd",
    "interpreter": {
      "hash": "568a22c9cab12376fc7d578725a09d5aa8bff0eb67624256ed647bcf9e0950c5"
    },
    "kernelspec": {
      "display_name": "Python 3 (ipykernel)",
      "language": "python",
      "name": "python3"
    },
    "language_info": {
      "codemirror_mode": {
        "name": "ipython",
        "version": 3
      },
      "file_extension": ".py",
      "mimetype": "text/x-python",
      "name": "python",
      "nbconvert_exporter": "python",
      "pygments_lexer": "ipython3",
      "version": "3.8.11"
    }
  },
  "nbformat": 4,
  "nbformat_minor": 0
}
