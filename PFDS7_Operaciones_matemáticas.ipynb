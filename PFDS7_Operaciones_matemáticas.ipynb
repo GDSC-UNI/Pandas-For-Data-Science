{
  "cells": [
    {
      "cell_type": "code",
      "execution_count": null,
      "metadata": {
        "cellView": "form",
        "id": "NSTrB0-OfEZt"
      },
      "outputs": [],
      "source": [
        "# MIT License\n",
        "\n",
        "# Copyright (c) GDSC UNI\n",
        "\n",
        "# Permission is hereby granted, free of charge, to any person obtaining a copy\n",
        "# of this software and associated documentation files (the \"Software\"), to deal\n",
        "# in the Software without restriction, including without limitation the rights\n",
        "# to use, copy, modify, merge, publish, distribute, sublicense, and/or sell\n",
        "# copies of the Software, and to permit persons to whom the Software is\n",
        "# furnished to do so, subject to the following conditions:\n",
        "\n",
        "# The above copyright notice and this permission notice shall be included in all\n",
        "# copies or substantial portions of the Software.\n",
        "\n",
        "# THE SOFTWARE IS PROVIDED \"AS IS\", WITHOUT WARRANTY OF ANY KIND, EXPRESS OR\n",
        "# IMPLIED, INCLUDING BUT NOT LIMITED TO THE WARRANTIES OF MERCHANTABILITY,\n",
        "# FITNESS FOR A PARTICULAR PURPOSE AND NONINFRINGEMENT. IN NO EVENT SHALL THE\n",
        "# AUTHORS OR COPYRIGHT HOLDERS BE LIABLE FOR ANY CLAIM, DAMAGES OR OTHER\n",
        "# LIABILITY, WHETHER IN AN ACTION OF CONTRACT, TORT OR OTHERWISE, ARISING FROM,\n",
        "# OUT OF OR IN CONNECTION WITH THE SOFTWARE OR THE USE OR OTHER DEALINGS IN THE\n",
        "# SOFTWARE."
      ]
    },
    {
      "cell_type": "markdown",
      "metadata": {
        "cell_id": "00000-330e7ad2-83a4-4795-985b-4692c6fe92b5",
        "deepnote_cell_type": "markdown",
        "id": "1kpC7L6kfDt6"
      },
      "source": [
        "<table align=\"center\">\n",
        "  <td align=\"center\"><a target=\"_blank\" href=\"https://gdsc.community.dev/universidad-nacional-de-ingenieria/\">\n",
        "        <img src=\"https://i.ibb.co/pX2w52P/GDSC.png\" style=\"padding-bottom:5px;\" />\n",
        "      View GDSC UNI</a></td>\n",
        "\n",
        "  <td align=\"center\"><a target=\"_blank\" href=\"https://colab.research.google.com/drive/1fMyfLTTgV2kjV22Q7W_bwV3ucAxZUQoV?usp=sharing\">\n",
        "        <img src=\"https://i.ibb.co/Bf0HK0q/Colaboratory.png\"  style=\"padding-bottom:5px;\" />Run in Google Colab </a></td>\n",
        "\n",
        "  <td align=\"center\"><a target=\"_blank\" href=\"https://github.com/GDSC-UNI/Pandas-For-Data-Science/blob/main/PFDS7_Operaciones_matem%C3%A1ticas.ipynb\">\n",
        "        <img src=\"https://i.ibb.co/VHHdRx2/Github.png\"  height=\"110px\" style=\"padding-bottom:5px;\"/>View source on GitHub</a></td>\n",
        "</table>\n",
        "\n"
      ]
    },
    {
      "cell_type": "markdown",
      "metadata": {
        "id": "2lktPONUfDuA"
      },
      "source": [
        "<h1></h1>"
      ]
    },
    {
      "cell_type": "markdown",
      "metadata": {
        "cell_id": "00002-c268dd69-82df-4581-b836-2512c9bd1e8a",
        "deepnote_cell_type": "markdown",
        "id": "tKfBHYumfDuB"
      },
      "source": [
        "<h1 style=\"font-size:42px; text-align:center; margin-bottom:30px;\"><span style=\"color:#000080\">PFDS7:</span> Operaciones Matemáticas con DataFrames</h1>\n",
        "<hr>"
      ]
    },
    {
      "cell_type": "markdown",
      "metadata": {
        "cell_id": "00003-57c87c68-4a5d-4ae9-8334-d6a5a6444b79",
        "deepnote_cell_type": "markdown",
        "id": "7bC0_ykbfDuB"
      },
      "source": [
        "Dentro de nuestros análisis, tendremos que hacer operaciones entre columnas, aplicarle una función a una determinada columna o a todo nuestro DataFrame. Pandas nos ofrece métodos que hacen que la aplicación de funciones matemáticas sobre nuestro dataset no sea un dolor de cabeza. Para conocer estos métodos usaremos el dataset London bike sharing\" extraído de plataforma de <a href=\"https://www.kaggle.com/hmavrodiev/london-bike-sharing-dataset\">kaggle</a>. Los datos que podemos encontrar en este dataset son los siguientes: \n",
        "* \"Timesamp\" = Marca de tiempo para agrupar los datos\n",
        "* \"cnt\" = el número de bicicletas nuevas compartidas\n",
        "* \"t1\" = Temperatura real en Cº\n",
        "* \"t2\" = Temperatura en Cº \"como se siente\"\n",
        "* \"hum\" = Velocidad del viento en Km/h\n",
        "* \"weathercode\" = categoría del clima\n",
        "* \"isholiday\" = Dato booleano\n",
        "* \"isweekend\" = Dato booleano\n",
        "* \"season\" = 0 - primavera, 1-verano, 2-otoño, 3-invierno.\n"
      ]
    },
    {
      "cell_type": "code",
      "execution_count": null,
      "metadata": {
        "cell_id": "00005-0d7ec758-d117-41eb-933c-fc093c19bfb1",
        "deepnote_cell_type": "code",
        "id": "1-9SKd_UfDuC"
      },
      "outputs": [],
      "source": [
        "import pandas as pd\n",
        "\n",
        "df = pd.read_csv('./Datasets/london_merged.csv')\n",
        "# df.head(5) "
      ]
    },
    {
      "cell_type": "markdown",
      "metadata": {
        "cell_id": "00006-2610d360-47ab-44fa-bc3e-a0dc1a4e1a5d",
        "deepnote_cell_type": "markdown",
        "id": "RwRQIGPpfDuE"
      },
      "source": [
        "Al ser la primera vez que trabajamos con este dataset, haremos un análisis basándonos en los conocimientos obtenidos en notebooks previos."
      ]
    },
    {
      "cell_type": "code",
      "execution_count": null,
      "metadata": {
        "cell_id": "00007-1af542b2-4f9f-4272-bb1e-e11f823f0c1c",
        "deepnote_cell_type": "code",
        "id": "H7wXjX-UfDuE",
        "outputId": "4c14b2c9-5fd6-4ffd-d7dc-e4a654a89282"
      },
      "outputs": [
        {
          "data": {
            "text/plain": [
              "timestamp        object\n",
              "cnt               int64\n",
              "t1              float64\n",
              "t2              float64\n",
              "hum             float64\n",
              "wind_speed      float64\n",
              "weather_code    float64\n",
              "is_holiday      float64\n",
              "is_weekend      float64\n",
              "season          float64\n",
              "dtype: object"
            ]
          },
          "execution_count": 2,
          "metadata": {},
          "output_type": "execute_result"
        }
      ],
      "source": [
        "df.dtypes"
      ]
    },
    {
      "cell_type": "markdown",
      "metadata": {
        "id": "K1nU_4qNbWdI"
      },
      "source": [
        "# Datetime"
      ]
    },
    {
      "cell_type": "markdown",
      "metadata": {
        "cell_id": "00008-98c006bf-3312-40ff-91b8-ca8deea2bf0e",
        "deepnote_cell_type": "markdown",
        "id": "XCzGXrXkfDuF"
      },
      "source": [
        "En esta oportunidad nos estamos topando con un nuevo tipo de dato que no vimos anteriormente, el tiempo, el cual se encuentra como tipo de dato *object*. A continuación, convertiremos este dato a datetime que nos dará mayor facilidad para trabajar con este tipo de dato."
      ]
    },
    {
      "cell_type": "code",
      "execution_count": null,
      "metadata": {
        "cell_id": "00009-1f27e6c1-08b4-42b3-8d74-c628f676dc0b",
        "deepnote_cell_type": "code",
        "id": "YQWIpzYCfDuG",
        "outputId": "5149888a-c933-4ddd-ece2-1af8c9c8dcfb"
      },
      "outputs": [
        {
          "data": {
            "text/plain": [
              "timestamp       datetime64[ns]\n",
              "cnt                      int64\n",
              "t1                     float64\n",
              "t2                     float64\n",
              "hum                    float64\n",
              "wind_speed             float64\n",
              "weather_code           float64\n",
              "is_holiday             float64\n",
              "is_weekend             float64\n",
              "season                 float64\n",
              "dtype: object"
            ]
          },
          "execution_count": 3,
          "metadata": {},
          "output_type": "execute_result"
        }
      ],
      "source": [
        "df[\"timestamp\"] = pd.to_datetime(df[\"timestamp\"])\n",
        "df.dtypes"
      ]
    },
    {
      "cell_type": "markdown",
      "metadata": {
        "id": "mJA-hESIfDuH"
      },
      "source": [
        "Al convertir nuestro dato a tipo datetime, contamos con atributos que nos pueden dar como resultado la hora, día, mes o año de una determinada columna."
      ]
    },
    {
      "cell_type": "code",
      "execution_count": null,
      "metadata": {
        "cell_id": "00010-1228e50b-4fc5-4256-b29d-978b2d4475ed",
        "deepnote_cell_type": "code",
        "id": "GQdAg-sxfDuH",
        "outputId": "a897519f-925c-4671-c34e-2d806143fd39"
      },
      "outputs": [
        {
          "data": {
            "text/plain": [
              "0    4\n",
              "1    4\n",
              "2    4\n",
              "3    4\n",
              "4    4\n",
              "Name: timestamp, dtype: int64"
            ]
          },
          "execution_count": 4,
          "metadata": {},
          "output_type": "execute_result"
        }
      ],
      "source": [
        "df[\"timestamp\"].dt.day.head(5)"
      ]
    },
    {
      "cell_type": "code",
      "execution_count": null,
      "metadata": {
        "cell_id": "00011-df616ed2-11e5-49ff-b6fe-e7c15512c446",
        "deepnote_cell_type": "code",
        "id": "Vv6SwFt4fDuH",
        "outputId": "5914facf-b43a-478f-cce1-79123fba9c68"
      },
      "outputs": [
        {
          "data": {
            "text/plain": [
              "0    0\n",
              "1    1\n",
              "2    2\n",
              "3    3\n",
              "4    4\n",
              "Name: timestamp, dtype: int64"
            ]
          },
          "execution_count": 5,
          "metadata": {},
          "output_type": "execute_result"
        }
      ],
      "source": [
        "df[\"timestamp\"].dt.hour.head(5)"
      ]
    },
    {
      "cell_type": "markdown",
      "metadata": {
        "id": "8-Pep1vybaVQ"
      },
      "source": [
        "# Operaciones en columnas"
      ]
    },
    {
      "cell_type": "markdown",
      "metadata": {
        "cell_id": "00012-ed717bc0-f354-4c45-94e5-0c04a3d297d4",
        "deepnote_cell_type": "markdown",
        "id": "zDCqcVVrfDuI"
      },
      "source": [
        "Ya teniendo nuestros datos trabajables, es decir con todos los tipos de datos convertidos a su correspondiente tipo, empezaremos a hacer operaciones matemáticas. La columna \"T1\" contiene la temperatura real en grado Celsius, una escala muy utilizada a nivel mundial, pero si la queremos en su unidad del sistema internacional a este valor le debemos de sumar 273. Con Pandas no es necesario sumar elemento por elemento de la columna, podemos hacer esta suma a todos los elementos de la siguiente manera."
      ]
    },
    {
      "cell_type": "code",
      "execution_count": null,
      "metadata": {
        "cell_id": "00013-777c5ac5-b84f-40ca-aea9-a361e8362da0",
        "deepnote_cell_type": "code",
        "id": "34QnGq7VfDuI",
        "outputId": "f0e57fe8-94c0-4abd-db3e-2f81ebf0969d"
      },
      "outputs": [
        {
          "data": {
            "text/plain": [
              "0        276.0\n",
              "1        276.0\n",
              "2        275.5\n",
              "3        275.0\n",
              "4        275.0\n",
              "         ...  \n",
              "17409    278.0\n",
              "17410    278.0\n",
              "17411    278.5\n",
              "17412    278.5\n",
              "17413    278.0\n",
              "Name: t1, Length: 17414, dtype: float64"
            ]
          },
          "execution_count": 6,
          "metadata": {},
          "output_type": "execute_result"
        }
      ],
      "source": [
        "df[\"t1\"] + 273"
      ]
    },
    {
      "cell_type": "markdown",
      "metadata": {
        "id": "I21QFCyafDuJ"
      },
      "source": [
        "Del mismo modo, podemos aplicar una función matemática a cada elemento de nuestro DataFrame, solo usando como variable dependiente nuestro DataFrame."
      ]
    },
    {
      "cell_type": "code",
      "execution_count": null,
      "metadata": {
        "cell_id": "00014-8211f8d3-66ec-43a6-a718-f38779d555d3",
        "deepnote_cell_type": "code",
        "id": "-ZdJX1JRfDuJ",
        "outputId": "e485bc13-794d-4bf1-c3cd-799590ce1d8a"
      },
      "outputs": [
        {
          "data": {
            "text/plain": [
              "0        0.317429\n",
              "1        0.317429\n",
              "2       -0.629900\n",
              "3        0.862319\n",
              "4        0.317429\n",
              "           ...   \n",
              "17409    0.776686\n",
              "17410    0.776686\n",
              "17411   -0.999207\n",
              "17412    0.824331\n",
              "17413    0.824331\n",
              "Name: hum, Length: 17414, dtype: float64"
            ]
          },
          "execution_count": 7,
          "metadata": {},
          "output_type": "execute_result"
        }
      ],
      "source": [
        "import numpy as np\n",
        "\n",
        "np.cos(df[\"hum\"])"
      ]
    },
    {
      "cell_type": "code",
      "execution_count": null,
      "metadata": {
        "cell_id": "00018-5db4127c-dc8b-4bca-88e3-ec815d2b403d",
        "deepnote_cell_type": "code",
        "id": "Ih2XtkzNfDuJ",
        "outputId": "f58a7ce0-833a-463b-b91a-cead5e260c81"
      },
      "outputs": [
        {
          "data": {
            "text/plain": [
              "3135730.277777778"
            ]
          },
          "execution_count": 8,
          "metadata": {},
          "output_type": "execute_result"
        }
      ],
      "source": [
        "df[\"t1\"]@df[\"t2\"]"
      ]
    },
    {
      "cell_type": "code",
      "execution_count": null,
      "metadata": {
        "cell_id": "00019-d30b076b-12fb-4c21-91e2-d38a48ebd63c",
        "deepnote_cell_type": "code",
        "id": "gAgWRAEifDuK",
        "outputId": "0d9f058e-19f8-4c1c-c379-3b096e34911f"
      },
      "outputs": [
        {
          "data": {
            "text/plain": [
              "17380.0"
            ]
          },
          "execution_count": 9,
          "metadata": {},
          "output_type": "execute_result"
        }
      ],
      "source": [
        "np.linalg.norm(df[\"t1\"], ord=0)"
      ]
    },
    {
      "cell_type": "markdown",
      "metadata": {
        "id": "KkOkUxktfDuK"
      },
      "source": [
        "Si hacemos una sustracción entre algunos datos de una columna con otra que contiene datos faltantes, se obtendrán datos faltantes dentro del resultado tal como vimos en el notebook 5. Para evitar tener datos nulos en nuestro resultado, utilizamos el método sub y especificamos con que valor llenaremos los datos faltantes de la columna que los contiene."
      ]
    },
    {
      "cell_type": "code",
      "execution_count": null,
      "metadata": {
        "cell_id": "00016-d5cba055-8c0a-49d3-ade8-4321b9f0baee",
        "deepnote_cell_type": "code",
        "id": "NAMO--XVfDuK",
        "outputId": "cff7e8f6-d003-4d8e-f436-87667bcf5d35"
      },
      "outputs": [
        {
          "data": {
            "text/plain": [
              "0        1.0\n",
              "1        NaN\n",
              "2        0.0\n",
              "3        NaN\n",
              "4        2.0\n",
              "        ... \n",
              "17409    NaN\n",
              "17410    4.0\n",
              "17411    NaN\n",
              "17412    4.0\n",
              "17413    NaN\n",
              "Length: 17414, dtype: float64"
            ]
          },
          "execution_count": 10,
          "metadata": {},
          "output_type": "execute_result"
        }
      ],
      "source": [
        "df['t1'].iloc[::2] -df['t2']"
      ]
    },
    {
      "cell_type": "code",
      "execution_count": null,
      "metadata": {
        "cell_id": "00017-6513c5d1-8015-4977-8ffb-3795317e2295",
        "deepnote_cell_type": "code",
        "id": "7eYVWKAqfDuL",
        "outputId": "b20abd19-d81f-4ede-9c7e-ad72eba1e3fa"
      },
      "outputs": [
        {
          "data": {
            "text/plain": [
              "0         1.000000\n",
              "1         9.968091\n",
              "2         0.000000\n",
              "3        10.468091\n",
              "4         2.000000\n",
              "           ...    \n",
              "17409    11.468091\n",
              "17410     4.000000\n",
              "17411    10.968091\n",
              "17412     4.000000\n",
              "17413    11.468091\n",
              "Length: 17414, dtype: float64"
            ]
          },
          "execution_count": 11,
          "metadata": {},
          "output_type": "execute_result"
        }
      ],
      "source": [
        "df[\"t1\"].iloc[::2].sub(df[\"t2\"], fill_value=np.mean(df[\"t1\"]))"
      ]
    },
    {
      "cell_type": "markdown",
      "metadata": {
        "id": "SezosrOGaU9E"
      },
      "source": [
        "# Apply"
      ]
    },
    {
      "cell_type": "markdown",
      "metadata": {
        "id": "snYuWLzRfDuL"
      },
      "source": [
        "Una forma más formal de realizar una operación en las columnas de nuestro DataFrame, es utilizar el método *apply*.\n",
        "\n",
        "<code>DataFrame.apply(func, axis=0, raw=False, result_type=None, args=(), **kwargs)</code>"
      ]
    },
    {
      "cell_type": "code",
      "execution_count": null,
      "metadata": {
        "cell_id": "00020-2fc63b05-8eb0-4489-8ddd-4f2a44c4fde3",
        "deepnote_cell_type": "code",
        "id": "X--xe_BafDuL"
      },
      "outputs": [],
      "source": [
        "def celcius2kelvin(x: int) -> int:    \n",
        "    return x + 273"
      ]
    },
    {
      "cell_type": "code",
      "execution_count": null,
      "metadata": {
        "cell_id": "00021-266fb65d-8353-422a-945e-c2b594e6966f",
        "deepnote_cell_type": "code",
        "id": "kD_A5lELfDuL",
        "outputId": "7533eda7-5f72-4899-9f66-d731196d864b"
      },
      "outputs": [
        {
          "data": {
            "text/plain": [
              "0        276.0\n",
              "1        276.0\n",
              "2        275.5\n",
              "3        275.0\n",
              "4        275.0\n",
              "         ...  \n",
              "17409    278.0\n",
              "17410    278.0\n",
              "17411    278.5\n",
              "17412    278.5\n",
              "17413    278.0\n",
              "Name: t1, Length: 17414, dtype: float64"
            ]
          },
          "execution_count": 13,
          "metadata": {},
          "output_type": "execute_result"
        }
      ],
      "source": [
        "df[\"t1\"].apply(celcius2kelvin)"
      ]
    },
    {
      "cell_type": "code",
      "execution_count": null,
      "metadata": {
        "cell_id": "00022-c8e1354d-4001-4ff4-ab15-26dd43b73449",
        "deepnote_cell_type": "code",
        "id": "GS7RBisifDuM",
        "outputId": "a95a0026-1fab-41d0-e495-abebfca955ac"
      },
      "outputs": [
        {
          "data": {
            "text/plain": [
              "0        276.0\n",
              "1        276.0\n",
              "2        275.5\n",
              "3        275.0\n",
              "4        275.0\n",
              "         ...  \n",
              "17409    278.0\n",
              "17410    278.0\n",
              "17411    278.5\n",
              "17412    278.5\n",
              "17413    278.0\n",
              "Name: t1, Length: 17414, dtype: float64"
            ]
          },
          "execution_count": 14,
          "metadata": {},
          "output_type": "execute_result"
        }
      ],
      "source": [
        "df[\"t1\"].apply(lambda x: x+273)"
      ]
    },
    {
      "cell_type": "markdown",
      "metadata": {
        "id": "3Us5PP6CfDuM"
      },
      "source": [
        "En caso de que la función contenga argumentos adicionales como por ejemplo algunos valores constantes de una función cuadrática, podemos agregarlos dentro del parámetro args del método apply."
      ]
    },
    {
      "cell_type": "code",
      "execution_count": null,
      "metadata": {
        "cell_id": "00023-ceec882b-fa61-41ca-beb3-857e419a0ee3",
        "deepnote_cell_type": "code",
        "id": "RjtNZ3eofDuM"
      },
      "outputs": [],
      "source": [
        "def function(x: int, a: int = 1, b: int = 0) -> int:\n",
        "    return x**2 + a*x + b    "
      ]
    },
    {
      "cell_type": "code",
      "execution_count": null,
      "metadata": {
        "cell_id": "00024-abfe38ca-107f-49bb-a972-a89ef8972200",
        "deepnote_cell_type": "code",
        "id": "5xYCCqxlfDuM",
        "outputId": "a6075cef-dce3-4974-8e48-262f8f7cada7"
      },
      "outputs": [
        {
          "data": {
            "text/plain": [
              "0       -31.00\n",
              "1       -31.00\n",
              "2       -43.75\n",
              "3       -56.00\n",
              "4       -56.00\n",
              "         ...  \n",
              "17409    25.00\n",
              "17410    25.00\n",
              "17411    40.25\n",
              "17412    40.25\n",
              "17413    25.00\n",
              "Name: t1, Length: 17414, dtype: float64"
            ]
          },
          "execution_count": 16,
          "metadata": {},
          "output_type": "execute_result"
        }
      ],
      "source": [
        "df[\"t1\"].apply(function, args=(20,-100))"
      ]
    },
    {
      "cell_type": "code",
      "execution_count": null,
      "metadata": {
        "cell_id": "00025-59a608f4-51e1-4f51-bd90-52f7d9a64cf0",
        "deepnote_cell_type": "code",
        "id": "Xv6su_vNfDuN",
        "outputId": "c326a086-1583-4ea0-e621-52974e2ca9ca"
      },
      "outputs": [
        {
          "data": {
            "text/plain": [
              "timestamp       2016-01-03 22:31:00.571953664\n",
              "cnt                               1143.101642\n",
              "t1                                  12.468091\n",
              "t2                                  11.520836\n",
              "hum                                 72.324954\n",
              "wind_speed                          15.913063\n",
              "weather_code                         2.722752\n",
              "is_holiday                           0.022051\n",
              "is_weekend                           0.285403\n",
              "season                               1.492075\n",
              "dtype: object"
            ]
          },
          "execution_count": 17,
          "metadata": {},
          "output_type": "execute_result"
        }
      ],
      "source": [
        "df.apply(lambda x: x.mean())"
      ]
    },
    {
      "cell_type": "code",
      "execution_count": null,
      "metadata": {
        "cell_id": "00026-dbec9a42-6309-4fd5-b5b3-b7f253d04d15",
        "deepnote_cell_type": "code",
        "id": "CE6Pe8QNfDuN",
        "outputId": "a855d8a7-1275-4076-8d81-c63aaf854522"
      },
      "outputs": [
        {
          "data": {
            "text/plain": [
              "0         63.543511\n",
              "1         51.226078\n",
              "2         51.069873\n",
              "3         38.017905\n",
              "4         32.204856\n",
              "            ...    \n",
              "17409    343.649814\n",
              "17410    177.453828\n",
              "17411    110.404591\n",
              "17412     74.094300\n",
              "17413     48.459032\n",
              "Length: 17414, dtype: float64"
            ]
          },
          "execution_count": 18,
          "metadata": {},
          "output_type": "execute_result"
        }
      ],
      "source": [
        "df.iloc[:,1:].apply(lambda x: x.std(), axis=1)"
      ]
    },
    {
      "cell_type": "markdown",
      "metadata": {
        "id": "Nd70BNbkabXO"
      },
      "source": [
        "# Applymap\n"
      ]
    },
    {
      "cell_type": "markdown",
      "metadata": {
        "id": "dbc7ILWEfDuN"
      },
      "source": [
        "Otro método para hacer aplicar una función a todo nuestro DataFrame, es applymap\n",
        "\n",
        "<code>DataFrame.applymap(func, na_action=None, **kwargs)</code>\n",
        "\n",
        "dentro de sus parámetros esta na_action que como valor predeterminado tiene None, que indica que no se realizará ninguna acción, el otro valor que puede tener este parámetro es 'ignore' que propaga los valores Nan sin pasarlos por la función."
      ]
    },
    {
      "cell_type": "code",
      "execution_count": null,
      "metadata": {
        "cell_id": "00027-8ffaad62-2e3f-4945-963c-c4929a8def85",
        "deepnote_cell_type": "code",
        "id": "z_ajsxvWfDuN",
        "outputId": "9466318c-0254-4dd2-b440-4a180e618841"
      },
      "outputs": [
        {
          "data": {
            "text/html": [
              "<div>\n",
              "<style scoped>\n",
              "    .dataframe tbody tr th:only-of-type {\n",
              "        vertical-align: middle;\n",
              "    }\n",
              "\n",
              "    .dataframe tbody tr th {\n",
              "        vertical-align: top;\n",
              "    }\n",
              "\n",
              "    .dataframe thead th {\n",
              "        text-align: right;\n",
              "    }\n",
              "</style>\n",
              "<table border=\"1\" class=\"dataframe\">\n",
              "  <thead>\n",
              "    <tr style=\"text-align: right;\">\n",
              "      <th></th>\n",
              "      <th>cnt</th>\n",
              "      <th>t1</th>\n",
              "      <th>t2</th>\n",
              "      <th>hum</th>\n",
              "      <th>wind_speed</th>\n",
              "      <th>weather_code</th>\n",
              "      <th>is_holiday</th>\n",
              "      <th>is_weekend</th>\n",
              "      <th>season</th>\n",
              "    </tr>\n",
              "  </thead>\n",
              "  <tbody>\n",
              "    <tr>\n",
              "      <th>0</th>\n",
              "      <td>1.82</td>\n",
              "      <td>0.030</td>\n",
              "      <td>0.020</td>\n",
              "      <td>0.930</td>\n",
              "      <td>0.060</td>\n",
              "      <td>0.03</td>\n",
              "      <td>0.0</td>\n",
              "      <td>0.01</td>\n",
              "      <td>0.03</td>\n",
              "    </tr>\n",
              "    <tr>\n",
              "      <th>1</th>\n",
              "      <td>1.38</td>\n",
              "      <td>0.030</td>\n",
              "      <td>0.025</td>\n",
              "      <td>0.930</td>\n",
              "      <td>0.050</td>\n",
              "      <td>0.01</td>\n",
              "      <td>0.0</td>\n",
              "      <td>0.01</td>\n",
              "      <td>0.03</td>\n",
              "    </tr>\n",
              "    <tr>\n",
              "      <th>2</th>\n",
              "      <td>1.34</td>\n",
              "      <td>0.025</td>\n",
              "      <td>0.025</td>\n",
              "      <td>0.965</td>\n",
              "      <td>0.000</td>\n",
              "      <td>0.01</td>\n",
              "      <td>0.0</td>\n",
              "      <td>0.01</td>\n",
              "      <td>0.03</td>\n",
              "    </tr>\n",
              "    <tr>\n",
              "      <th>3</th>\n",
              "      <td>0.72</td>\n",
              "      <td>0.020</td>\n",
              "      <td>0.020</td>\n",
              "      <td>1.000</td>\n",
              "      <td>0.000</td>\n",
              "      <td>0.01</td>\n",
              "      <td>0.0</td>\n",
              "      <td>0.01</td>\n",
              "      <td>0.03</td>\n",
              "    </tr>\n",
              "    <tr>\n",
              "      <th>4</th>\n",
              "      <td>0.47</td>\n",
              "      <td>0.020</td>\n",
              "      <td>0.000</td>\n",
              "      <td>0.930</td>\n",
              "      <td>0.065</td>\n",
              "      <td>0.01</td>\n",
              "      <td>0.0</td>\n",
              "      <td>0.01</td>\n",
              "      <td>0.03</td>\n",
              "    </tr>\n",
              "    <tr>\n",
              "      <th>...</th>\n",
              "      <td>...</td>\n",
              "      <td>...</td>\n",
              "      <td>...</td>\n",
              "      <td>...</td>\n",
              "      <td>...</td>\n",
              "      <td>...</td>\n",
              "      <td>...</td>\n",
              "      <td>...</td>\n",
              "      <td>...</td>\n",
              "    </tr>\n",
              "    <tr>\n",
              "      <th>17409</th>\n",
              "      <td>10.42</td>\n",
              "      <td>0.050</td>\n",
              "      <td>0.010</td>\n",
              "      <td>0.810</td>\n",
              "      <td>0.190</td>\n",
              "      <td>0.03</td>\n",
              "      <td>0.0</td>\n",
              "      <td>0.00</td>\n",
              "      <td>0.03</td>\n",
              "    </tr>\n",
              "    <tr>\n",
              "      <th>17410</th>\n",
              "      <td>5.41</td>\n",
              "      <td>0.050</td>\n",
              "      <td>0.010</td>\n",
              "      <td>0.810</td>\n",
              "      <td>0.210</td>\n",
              "      <td>0.04</td>\n",
              "      <td>0.0</td>\n",
              "      <td>0.00</td>\n",
              "      <td>0.03</td>\n",
              "    </tr>\n",
              "    <tr>\n",
              "      <th>17411</th>\n",
              "      <td>3.37</td>\n",
              "      <td>0.055</td>\n",
              "      <td>0.015</td>\n",
              "      <td>0.785</td>\n",
              "      <td>0.240</td>\n",
              "      <td>0.04</td>\n",
              "      <td>0.0</td>\n",
              "      <td>0.00</td>\n",
              "      <td>0.03</td>\n",
              "    </tr>\n",
              "    <tr>\n",
              "      <th>17412</th>\n",
              "      <td>2.24</td>\n",
              "      <td>0.055</td>\n",
              "      <td>0.015</td>\n",
              "      <td>0.760</td>\n",
              "      <td>0.230</td>\n",
              "      <td>0.04</td>\n",
              "      <td>0.0</td>\n",
              "      <td>0.00</td>\n",
              "      <td>0.03</td>\n",
              "    </tr>\n",
              "    <tr>\n",
              "      <th>17413</th>\n",
              "      <td>1.39</td>\n",
              "      <td>0.050</td>\n",
              "      <td>0.010</td>\n",
              "      <td>0.760</td>\n",
              "      <td>0.220</td>\n",
              "      <td>0.02</td>\n",
              "      <td>0.0</td>\n",
              "      <td>0.00</td>\n",
              "      <td>0.03</td>\n",
              "    </tr>\n",
              "  </tbody>\n",
              "</table>\n",
              "<p>17414 rows × 9 columns</p>\n",
              "</div>"
            ],
            "text/plain": [
              "         cnt     t1     t2    hum  wind_speed  weather_code  is_holiday  \\\n",
              "0       1.82  0.030  0.020  0.930       0.060          0.03         0.0   \n",
              "1       1.38  0.030  0.025  0.930       0.050          0.01         0.0   \n",
              "2       1.34  0.025  0.025  0.965       0.000          0.01         0.0   \n",
              "3       0.72  0.020  0.020  1.000       0.000          0.01         0.0   \n",
              "4       0.47  0.020  0.000  0.930       0.065          0.01         0.0   \n",
              "...      ...    ...    ...    ...         ...           ...         ...   \n",
              "17409  10.42  0.050  0.010  0.810       0.190          0.03         0.0   \n",
              "17410   5.41  0.050  0.010  0.810       0.210          0.04         0.0   \n",
              "17411   3.37  0.055  0.015  0.785       0.240          0.04         0.0   \n",
              "17412   2.24  0.055  0.015  0.760       0.230          0.04         0.0   \n",
              "17413   1.39  0.050  0.010  0.760       0.220          0.02         0.0   \n",
              "\n",
              "       is_weekend  season  \n",
              "0            0.01    0.03  \n",
              "1            0.01    0.03  \n",
              "2            0.01    0.03  \n",
              "3            0.01    0.03  \n",
              "4            0.01    0.03  \n",
              "...           ...     ...  \n",
              "17409        0.00    0.03  \n",
              "17410        0.00    0.03  \n",
              "17411        0.00    0.03  \n",
              "17412        0.00    0.03  \n",
              "17413        0.00    0.03  \n",
              "\n",
              "[17414 rows x 9 columns]"
            ]
          },
          "execution_count": 19,
          "metadata": {},
          "output_type": "execute_result"
        }
      ],
      "source": [
        "df.iloc[:,1:].applymap(lambda x: x/100)"
      ]
    }
  ],
  "metadata": {
    "colab": {
      "collapsed_sections": [],
      "name": "PFDS7_Operaciones_matemáticas.ipynb",
      "provenance": [],
      "toc_visible": true
    },
    "deepnote": {},
    "deepnote_execution_queue": [],
    "deepnote_notebook_id": "e68ef0c1-d858-4e7a-b5fd-c45cd0ff4b8e",
    "interpreter": {
      "hash": "568a22c9cab12376fc7d578725a09d5aa8bff0eb67624256ed647bcf9e0950c5"
    },
    "kernelspec": {
      "display_name": "Python 3 (ipykernel)",
      "language": "python",
      "name": "python3"
    },
    "language_info": {
      "codemirror_mode": {
        "name": "ipython",
        "version": 3
      },
      "file_extension": ".py",
      "mimetype": "text/x-python",
      "name": "python",
      "nbconvert_exporter": "python",
      "pygments_lexer": "ipython3",
      "version": "3.8.11"
    }
  },
  "nbformat": 4,
  "nbformat_minor": 0
}
